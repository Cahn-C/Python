{
  "nbformat": 4,
  "nbformat_minor": 0,
  "metadata": {
    "colab": {
      "provenance": []
    },
    "kernelspec": {
      "name": "python3",
      "display_name": "Python 3"
    },
    "language_info": {
      "name": "python"
    }
  },
  "cells": [
    {
      "cell_type": "markdown",
      "source": [
        "# <b>Exception Handling</b>\n",
        "\n",
        "### <b>Try and Except</b>\n",
        "\n",
        "The basic terminology and syntax used to handle errors in Python is the try and except statements. The code which can cause an exception to occur is put in the `try` block and the handling of the exception is the implemented in the `except` block of the code."
      ],
      "metadata": {
        "id": "6Xb6sDW1LXhV"
      }
    },
    {
      "cell_type": "code",
      "source": [
        "try:\n",
        "  x = 1 / 0\n",
        "except ZeroDivisionError:\n",
        "  print(\"divided by zero\")\n",
        "  print(\"executed when exceptions occur\")"
      ],
      "metadata": {
        "colab": {
          "base_uri": "https://localhost:8080/"
        },
        "id": "7EUgjEBPM3x8",
        "outputId": "68d4eafa-0060-45e0-f852-d081c4d76e0b"
      },
      "execution_count": 4,
      "outputs": [
        {
          "output_type": "stream",
          "name": "stdout",
          "text": [
            "divided by zero\n",
            "executed when exceptions occur\n"
          ]
        }
      ]
    },
    {
      "cell_type": "code",
      "source": [
        "print(\"Hello World\")\n",
        "\n",
        "x = 1\n",
        "y = 0\n",
        "\n",
        "try:\n",
        "  z = x / y\n",
        "except ZeroDivisionError:\n",
        "  print(\"Error occured\")\n",
        "\n",
        "a = 20\n",
        "b = 50\n",
        "total = a + b\n",
        "print(total)"
      ],
      "metadata": {
        "colab": {
          "base_uri": "https://localhost:8080/"
        },
        "id": "StdEjBCDOSzQ",
        "outputId": "04e72b7c-fd68-4628-ca0f-587a0030bae2"
      },
      "execution_count": 10,
      "outputs": [
        {
          "output_type": "stream",
          "name": "stdout",
          "text": [
            "Hello World\n",
            "Error occured\n",
            "70\n"
          ]
        }
      ]
    },
    {
      "cell_type": "markdown",
      "source": [
        "<center><img src=\"https://us-east-1-02900067-view.menlosecurity.com/c/0/i/aHR0cHM6Ly9taXJvLm1lZGl1bS5jb20vdjIvcmVzaXplOmZpdDo3NTAvZm9ybWF0OndlYnAvMSp5S1JzZVdLQmpkY2NYUm9Gc2pJSVF3LnBuZw~~\"></center>"
      ],
      "metadata": {
        "id": "in2pgezrOLxn"
      }
    }
  ]
}