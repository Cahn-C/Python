{
  "nbformat": 4,
  "nbformat_minor": 0,
  "metadata": {
    "colab": {
      "provenance": []
    },
    "kernelspec": {
      "name": "python3",
      "display_name": "Python 3"
    },
    "language_info": {
      "name": "python"
    }
  },
  "cells": [
    {
      "cell_type": "markdown",
      "source": [
        "# <b>File I/O: Helps you read your files</b>\n",
        "\n",
        "- Python provides a `file` object to read text/binary files\n",
        "- This is similar to the `FileStream` object in other langauges\n",
        "- Since a `file` is a resource, it must be closed after use. This can be done manually, or using a context manager(`with` statement)"
      ],
      "metadata": {
        "id": "2MnaOnorsBFz"
      }
    },
    {
      "cell_type": "code",
      "execution_count": 4,
      "metadata": {
        "id": "AAYi-OY_r8qY"
      },
      "outputs": [],
      "source": [
        "with open('myfile.txt', 'w') as f: # \"w\" means write, \"a\" means append, \"r\" means read\n",
        "  f.write(\"This is my first line.\\n\")\n",
        "  f.write(\"Second Line.\\n\")\n",
        "  f.write(\"Third Line\\.n\")"
      ]
    },
    {
      "cell_type": "code",
      "source": [
        "with open('myfile.txt', 'a') as f: # \"w\" means write, \"a\" means append, \"r\" means read\n",
        "  f.write(\"This is my first line.\\n\")\n",
        "  f.write(\"Second Line.\\n\")\n",
        "  f.write(\"Third Line\\.n\")"
      ],
      "metadata": {
        "id": "fjkFUwMmtNci"
      },
      "execution_count": 5,
      "outputs": []
    },
    {
      "cell_type": "code",
      "source": [
        "with open(\"myfile.txt\", \"w\") as r:\n",
        "  r.write(\"This is my line\")"
      ],
      "metadata": {
        "id": "nHZZ0vYntcd7"
      },
      "execution_count": 3,
      "outputs": []
    },
    {
      "cell_type": "code",
      "source": [
        "f.close() # Prevents all computer resources from being consumed, and stops the file from running in the backgroud"
      ],
      "metadata": {
        "id": "r29pO-y-tuma"
      },
      "execution_count": 6,
      "outputs": []
    }
  ]
}