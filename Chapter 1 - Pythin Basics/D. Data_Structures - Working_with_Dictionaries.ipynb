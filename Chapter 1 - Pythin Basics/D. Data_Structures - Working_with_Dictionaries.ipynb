{
  "nbformat": 4,
  "nbformat_minor": 0,
  "metadata": {
    "colab": {
      "provenance": []
    },
    "kernelspec": {
      "name": "python3",
      "display_name": "Python 3"
    },
    "language_info": {
      "name": "python"
    }
  },
  "cells": [
    {
      "cell_type": "markdown",
      "source": [
        "# <b>Dictionaries</b>\n",
        "\n",
        "<center><img src=\"https://pynative.com/wp-content/uploads/2021/02/dictionaries-in-python.jpg\"></center>\n",
        "\n",
        "A python dictionary consists of a key and then an associated value. That value can be almost any Python object."
      ],
      "metadata": {
        "id": "BwmIUzYP-L1Q"
      }
    },
    {
      "cell_type": "markdown",
      "source": [
        "## <b>Constructing a Dictonary</b>"
      ],
      "metadata": {
        "id": "GVaxkEMB-tAX"
      }
    },
    {
      "cell_type": "code",
      "execution_count": 1,
      "metadata": {
        "id": "7AxuaX-E-DVZ"
      },
      "outputs": [],
      "source": [
        "# Make a dictionary with () and : to signify a key and a value\n",
        "my_dict = {'key1' : 'value1',\n",
        "           'key2' : 'value2',\n",
        "           'key3' : 'value3',\n",
        "           'key4' : 'value4',\n",
        "           'key5' : 'value5'\n",
        "          }"
      ]
    },
    {
      "cell_type": "code",
      "source": [
        "print(my_dict)"
      ],
      "metadata": {
        "colab": {
          "base_uri": "https://localhost:8080/"
        },
        "id": "Aol7KZeN_G54",
        "outputId": "94702758-4929-4fdb-8fe9-6a8e494ec4c5"
      },
      "execution_count": 2,
      "outputs": [
        {
          "output_type": "stream",
          "name": "stdout",
          "text": [
            "{'key1': 'value1', 'key2': 'value2', 'key3': 'value3', 'key4': 'value4', 'key5': 'value5'}\n"
          ]
        }
      ]
    },
    {
      "cell_type": "code",
      "source": [
        "# Call a value by its key\n",
        "my_dict['key2']"
      ],
      "metadata": {
        "colab": {
          "base_uri": "https://localhost:8080/",
          "height": 35
        },
        "id": "FrqQ9ARK_LNs",
        "outputId": "e8e79163-550a-4a7b-e6fb-0ceac62b8a7a"
      },
      "execution_count": 3,
      "outputs": [
        {
          "output_type": "execute_result",
          "data": {
            "text/plain": [
              "'value2'"
            ],
            "application/vnd.google.colaboratory.intrinsic+json": {
              "type": "string"
            }
          },
          "metadata": {},
          "execution_count": 3
        }
      ]
    },
    {
      "cell_type": "markdown",
      "source": [
        "We can effect the values of a key as well. For instance:"
      ],
      "metadata": {
        "id": "3YMo8PG5_XxS"
      }
    },
    {
      "cell_type": "code",
      "source": [
        "my_dict['key1'] = 123"
      ],
      "metadata": {
        "id": "MQhW8Bzv_RCd"
      },
      "execution_count": 5,
      "outputs": []
    },
    {
      "cell_type": "code",
      "source": [
        "print(my_dict)"
      ],
      "metadata": {
        "colab": {
          "base_uri": "https://localhost:8080/"
        },
        "id": "KK6otoMM_gl1",
        "outputId": "1ef19069-0026-4e2b-a5f9-0f92335ac790"
      },
      "execution_count": 6,
      "outputs": [
        {
          "output_type": "stream",
          "name": "stdout",
          "text": [
            "{'key1': 123, 'key2': 'value2', 'key3': 'value3', 'key4': 'value4', 'key5': 'value5'}\n"
          ]
        }
      ]
    },
    {
      "cell_type": "code",
      "source": [
        "# Subtract 123 from the value\n",
        "my_dict['key1'] = my_dict['key1'] - 123"
      ],
      "metadata": {
        "id": "bPPYqiLl_jnR"
      },
      "execution_count": 7,
      "outputs": []
    },
    {
      "cell_type": "code",
      "source": [
        "print(my_dict)"
      ],
      "metadata": {
        "colab": {
          "base_uri": "https://localhost:8080/"
        },
        "id": "rqig07RS_wmg",
        "outputId": "ab73e759-b64a-490b-ed39-0109b30e32fe"
      },
      "execution_count": 8,
      "outputs": [
        {
          "output_type": "stream",
          "name": "stdout",
          "text": [
            "{'key1': 0, 'key2': 'value2', 'key3': 'value3', 'key4': 'value4', 'key5': 'value5'}\n"
          ]
        }
      ]
    },
    {
      "cell_type": "markdown",
      "source": [
        "Python has a built-in method of doing a self subtraction or addition(or multiplication or division). We could have also used += or -= for the above statement. For example:"
      ],
      "metadata": {
        "id": "ipJqoCoJASUv"
      }
    },
    {
      "cell_type": "code",
      "source": [
        "my_dict['key1'] = my_dict['key1'] + 123\n",
        "\n",
        "print(my_dict)"
      ],
      "metadata": {
        "colab": {
          "base_uri": "https://localhost:8080/"
        },
        "id": "QwSbtviS_x5I",
        "outputId": "40b80ad3-d008-4423-e23d-d723e2fe53be"
      },
      "execution_count": 14,
      "outputs": [
        {
          "output_type": "stream",
          "name": "stdout",
          "text": [
            "{'key1': 123, 'key2': 'value2', 'key3': 'value3', 'key4': 'value4', 'key5': 'value5'}\n"
          ]
        }
      ]
    },
    {
      "cell_type": "code",
      "source": [
        "# Set the object equal to itself minus 123\n",
        "\n",
        "my_dict['key1'] -= 123\n",
        "my_dict['key1']"
      ],
      "metadata": {
        "colab": {
          "base_uri": "https://localhost:8080/"
        },
        "id": "DZ1KOVkYBZT-",
        "outputId": "37869633-8ffc-4db4-88a6-63108162d8d3"
      },
      "execution_count": 12,
      "outputs": [
        {
          "output_type": "execute_result",
          "data": {
            "text/plain": [
              "0"
            ]
          },
          "metadata": {},
          "execution_count": 12
        }
      ]
    },
    {
      "cell_type": "code",
      "source": [
        "# Add a new key value pair in the existing dictionary\n",
        "my_dict['key6'] = 'value6'\n",
        "\n",
        "print(my_dict)"
      ],
      "metadata": {
        "colab": {
          "base_uri": "https://localhost:8080/"
        },
        "id": "_Co_ET6LBgkZ",
        "outputId": "a4bd8eb7-f7a2-4f11-a280-9e7e9eebf975"
      },
      "execution_count": 15,
      "outputs": [
        {
          "output_type": "stream",
          "name": "stdout",
          "text": [
            "{'key1': 123, 'key2': 'value2', 'key3': 'value3', 'key4': 'value4', 'key5': 'value5', 'key6': 'value6'}\n"
          ]
        }
      ]
    }
  ]
}
