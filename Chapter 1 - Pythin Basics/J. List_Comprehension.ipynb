{
  "nbformat": 4,
  "nbformat_minor": 0,
  "metadata": {
    "colab": {
      "provenance": []
    },
    "kernelspec": {
      "name": "python3",
      "display_name": "Python 3"
    },
    "language_info": {
      "name": "python"
    }
  },
  "cells": [
    {
      "cell_type": "markdown",
      "source": [
        "# <b>Comprehensions</b>\n",
        "\n",
        "- Python provides syntatic sugar to write small loops to generate lists/sets/tuples/dicts in one line\n",
        "- These are called comprehensions, and can greatly increase development speed and readability\n",
        "\n",
        "Syntax:\n",
        "\n",
        "    sequence = [expression(element) for element in iterable if condition]\n",
        "\n",
        "The brackets used for creating the comprehension define what type of object is created\n",
        "\n",
        "Use `[]` for lists, `()` for generators, `{}` for sets and dicts"
      ],
      "metadata": {
        "id": "_wMdVt_gBb8t"
      }
    },
    {
      "cell_type": "markdown",
      "source": [
        "## <b>`list` Comprehension</b>"
      ],
      "metadata": {
        "id": "N-r_rGr0Cc6x"
      }
    },
    {
      "cell_type": "code",
      "source": [
        "names = [\"Chaanyah\", \"Derrick\", \"Mufasa\", \"John\", \"Mark\"]\n",
        "print(names)"
      ],
      "metadata": {
        "colab": {
          "base_uri": "https://localhost:8080/"
        },
        "id": "vDfEynuCH8cl",
        "outputId": "46736256-bf4d-4246-fc1e-ba45635c3236"
      },
      "execution_count": 30,
      "outputs": [
        {
          "output_type": "stream",
          "name": "stdout",
          "text": [
            "['Chaanyah', 'Derrick', 'Mufasa', 'John', 'Mark']\n"
          ]
        }
      ]
    },
    {
      "cell_type": "code",
      "source": [
        "name_placement = []\n",
        "\n",
        "for name in names:\n",
        "  name_placement.append(name)\n",
        "\n",
        "print(name_placement)"
      ],
      "metadata": {
        "colab": {
          "base_uri": "https://localhost:8080/"
        },
        "id": "easKwa2EE_DC",
        "outputId": "5cdb94f0-13b5-402a-b78d-fb1b29aef6c1"
      },
      "execution_count": 52,
      "outputs": [
        {
          "output_type": "stream",
          "name": "stdout",
          "text": [
            "['Chaanyah', 'Derrick', 'Mufasa', 'John', 'Mark']\n"
          ]
        }
      ]
    },
    {
      "cell_type": "code",
      "source": [
        "titles = [\"Data Engineer\", \"DevOps Engineer\", \"Data Analyst\", \"Sales Person\"]\n",
        "title_names = [title for title in titles]\n",
        "\n",
        "print(title_names)"
      ],
      "metadata": {
        "colab": {
          "base_uri": "https://localhost:8080/"
        },
        "id": "nJXEuAmwIQDq",
        "outputId": "71bcc744-80b1-4508-b2cb-28fdf1ecd9e3"
      },
      "execution_count": 55,
      "outputs": [
        {
          "output_type": "stream",
          "name": "stdout",
          "text": [
            "['Data Engineer', 'DevOps Engineer', 'Data Analyst', 'Sales Person']\n"
          ]
        }
      ]
    }
  ]
}