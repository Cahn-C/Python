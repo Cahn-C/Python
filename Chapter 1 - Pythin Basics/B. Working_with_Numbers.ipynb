{
  "nbformat": 4,
  "nbformat_minor": 0,
  "metadata": {
    "colab": {
      "provenance": []
    },
    "kernelspec": {
      "name": "python3",
      "display_name": "Python 3"
    },
    "language_info": {
      "name": "python"
    }
  },
  "cells": [
    {
      "cell_type": "markdown",
      "source": [
        "# <b>Types of Numbers</b>\n",
        "\n",
        "Python has various \"types\" of numbres(numeric literals). We'll mainly focus on integers and floating point numbers.\n",
        "\n",
        "Integers are just whole numbers, positive or negative. For Example: `2` and `-2` are examples of integers\n",
        "\n",
        "Floating point numbers in Python are notable because they have a decimal point in them, or use an exponential (e) to define the number. `-2.1` are examples of floating point numbers. `4E2`(4 times 10 to the power of 2) is also an example of a floating point number in Python.\n"
      ],
      "metadata": {
        "id": "vV34PGcKmLWP"
      }
    },
    {
      "cell_type": "markdown",
      "source": [
        "## <b>Basic Arithmetic</b>"
      ],
      "metadata": {
        "id": "_cfdkfn-pLg1"
      }
    },
    {
      "cell_type": "code",
      "execution_count": 6,
      "metadata": {
        "id": "K5hIAjjzBT8t",
        "colab": {
          "base_uri": "https://localhost:8080/"
        },
        "outputId": "b37e4b2d-73cf-40fe-88a6-64a87f5739ee"
      },
      "outputs": [
        {
          "output_type": "stream",
          "name": "stdout",
          "text": [
            "3\n",
            "1\n",
            "20\n",
            "2.0\n",
            "\n",
            "<class 'int'>\n",
            "<class 'int'>\n",
            "<class 'int'>\n",
            "<class 'float'>\n"
          ]
        }
      ],
      "source": [
        "# Addition\n",
        "print(2 + 1)\n",
        "\n",
        "# Subtraction\n",
        "print(2 - 1)\n",
        "\n",
        "# Multiplication\n",
        "print(2 * 10)\n",
        "\n",
        "# Division\n",
        "print(10 / 5)\n",
        "\n",
        "print()\n",
        "\n",
        "print(type(2 + 1))\n",
        "print(type(2 - 1))\n",
        "print(type(2 * 10))\n",
        "print(type(10 / 5))"
      ]
    },
    {
      "cell_type": "markdown",
      "source": [
        "## <b>Arithmetic Continued</b>"
      ],
      "metadata": {
        "id": "lwmZiu9pqOE0"
      }
    },
    {
      "cell_type": "code",
      "source": [
        "# Powers\n",
        "2 ** 4"
      ],
      "metadata": {
        "colab": {
          "base_uri": "https://localhost:8080/"
        },
        "id": "HxlKsMIgpUXU",
        "outputId": "0db8d97b-b79e-4b2c-9a00-c114f9e671e4"
      },
      "execution_count": 7,
      "outputs": [
        {
          "output_type": "execute_result",
          "data": {
            "text/plain": [
              "16"
            ]
          },
          "metadata": {},
          "execution_count": 7
        }
      ]
    },
    {
      "cell_type": "code",
      "source": [
        "# Order of Operations followed in Python\n",
        "2 + 10 * 10 + 3"
      ],
      "metadata": {
        "colab": {
          "base_uri": "https://localhost:8080/"
        },
        "id": "8h1qNNSeqVmp",
        "outputId": "d6355d4d-3e01-4b30-85ac-d118c40cd24f"
      },
      "execution_count": 8,
      "outputs": [
        {
          "output_type": "execute_result",
          "data": {
            "text/plain": [
              "105"
            ]
          },
          "metadata": {},
          "execution_count": 8
        }
      ]
    },
    {
      "cell_type": "code",
      "source": [
        "# Can use parethesis tp specify orders\n",
        "(2 + 10) * (10 + 3)"
      ],
      "metadata": {
        "colab": {
          "base_uri": "https://localhost:8080/"
        },
        "id": "ljSTASjOqdAq",
        "outputId": "e0191650-3201-489a-f8df-146e2273b28e"
      },
      "execution_count": 9,
      "outputs": [
        {
          "output_type": "execute_result",
          "data": {
            "text/plain": [
              "156"
            ]
          },
          "metadata": {},
          "execution_count": 9
        }
      ]
    },
    {
      "cell_type": "code",
      "source": [
        "# Multiply 15 by 2 and add 10 to it\n",
        "15 * 2 + 10"
      ],
      "metadata": {
        "colab": {
          "base_uri": "https://localhost:8080/"
        },
        "id": "JI9Eg5ZTqnQS",
        "outputId": "1c8ee434-e3db-4023-b0bb-6bc0de640279"
      },
      "execution_count": 10,
      "outputs": [
        {
          "output_type": "execute_result",
          "data": {
            "text/plain": [
              "40"
            ]
          },
          "metadata": {},
          "execution_count": 10
        }
      ]
    },
    {
      "cell_type": "markdown",
      "source": [
        "# <b>Variables Assignments</b>\n",
        "\n",
        "In order to create a variable, you will need to use the single equals sign `=` to assign labels to variables.\n",
        "\n",
        "The names you use when creating these labels need to follow a few rules:\n",
        "\n",
        "1. Names can not start with a number\n",
        "2. There can be no spaces in the name, use `_` instead\n",
        "3. Can't use any of these symbols: `'`, `\"`, `<>`, `/`, `?`, `|`, `\\`, `()`, `!`, `@`, `#`, `$`, `%`, `^`, `&`, `*`, `-`, `~`, `+`\n",
        "\n",
        "Using variable names can be a very useful way to keep track of different variables in Python"
      ],
      "metadata": {
        "id": "nF0dXPE9q0pN"
      }
    },
    {
      "cell_type": "code",
      "source": [
        "# Let's create an object called \"a\" and assign it the number 5\n",
        "a = 5"
      ],
      "metadata": {
        "id": "nIkSubdSqxMd"
      },
      "execution_count": 11,
      "outputs": []
    },
    {
      "cell_type": "markdown",
      "source": [
        "Now if I call <i>a</i> in my Python script, Python will treat it as the number 5"
      ],
      "metadata": {
        "id": "Y43V3uDdsW2P"
      }
    },
    {
      "cell_type": "code",
      "source": [
        "# Adding objects\n",
        "a + a"
      ],
      "metadata": {
        "colab": {
          "base_uri": "https://localhost:8080/"
        },
        "id": "PK94olfUsM4v",
        "outputId": "01c36062-07d1-49e3-c3b6-75e4ac093de2"
      },
      "execution_count": 13,
      "outputs": [
        {
          "output_type": "execute_result",
          "data": {
            "text/plain": [
              "10"
            ]
          },
          "metadata": {},
          "execution_count": 13
        }
      ]
    },
    {
      "cell_type": "markdown",
      "source": [
        "What happens on reassignment? Will Python let us write it over?"
      ],
      "metadata": {
        "id": "b-4NTC69sj1E"
      }
    },
    {
      "cell_type": "code",
      "source": [
        "# Reassignment\n",
        "a = 10"
      ],
      "metadata": {
        "id": "wP3aPVSmsOY4"
      },
      "execution_count": 14,
      "outputs": []
    },
    {
      "cell_type": "code",
      "source": [
        "a"
      ],
      "metadata": {
        "colab": {
          "base_uri": "https://localhost:8080/"
        },
        "id": "I2XFjJSXsr-q",
        "outputId": "274884f3-c01f-4eb3-ff02-d52f2b031a25"
      },
      "execution_count": 15,
      "outputs": [
        {
          "output_type": "execute_result",
          "data": {
            "text/plain": [
              "10"
            ]
          },
          "metadata": {},
          "execution_count": 15
        }
      ]
    },
    {
      "cell_type": "code",
      "source": [
        "# Check the reults\n",
        "a + a"
      ],
      "metadata": {
        "colab": {
          "base_uri": "https://localhost:8080/"
        },
        "id": "gyon9kQ3ssqH",
        "outputId": "3e8cee36-0309-44d8-fc6b-315942303481"
      },
      "execution_count": 16,
      "outputs": [
        {
          "output_type": "execute_result",
          "data": {
            "text/plain": [
              "20"
            ]
          },
          "metadata": {},
          "execution_count": 16
        }
      ]
    },
    {
      "cell_type": "code",
      "source": [
        "# Example of assigning more variables\n",
        "a = 25\n",
        "b = 30\n",
        "mean = a + b"
      ],
      "metadata": {
        "id": "CdhUJxLxsxU8"
      },
      "execution_count": 17,
      "outputs": []
    },
    {
      "cell_type": "code",
      "source": [
        "print(mean)"
      ],
      "metadata": {
        "colab": {
          "base_uri": "https://localhost:8080/"
        },
        "id": "DnbrR2I9s6cG",
        "outputId": "5d28487f-bc21-43d6-87ef-926e13983abc"
      },
      "execution_count": 18,
      "outputs": [
        {
          "output_type": "stream",
          "name": "stdout",
          "text": [
            "55\n"
          ]
        }
      ]
    }
  ]
}
