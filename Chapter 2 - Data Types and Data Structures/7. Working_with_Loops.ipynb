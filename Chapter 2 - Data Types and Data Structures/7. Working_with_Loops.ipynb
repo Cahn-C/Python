{
  "nbformat": 4,
  "nbformat_minor": 0,
  "metadata": {
    "colab": {
      "provenance": []
    },
    "kernelspec": {
      "name": "python3",
      "display_name": "Python 3"
    },
    "language_info": {
      "name": "python"
    }
  },
  "cells": [
    {
      "cell_type": "markdown",
      "source": [
        "## <b>For Loops</b>\n",
        "\n",
        "Here's the general format for a `for` loop in Python:\n",
        "\n",
        "    for item in object:\n",
        "        statements to do stuff\n",
        "\n",
        "<br>\n",
        "\n",
        "<center><img src=\"https://cdn.educba.com/academy/wp-content/uploads/2019/09/Flow-Diagram-of-For-Loop-in-Python.jpg.webp\"></center>\n",
        "\n",
        "<br>\n",
        "\n",
        "The variable name used for the item is completely up to the coder, so use your best judgment for choosing a name that makes sense and you will be able to understand when revisiting your code. This item name can then be referenced inside your loop."
      ],
      "metadata": {
        "id": "VF_DTUFTR_I5"
      }
    },
    {
      "cell_type": "code",
      "execution_count": 1,
      "metadata": {
        "colab": {
          "base_uri": "https://localhost:8080/"
        },
        "id": "aqvXNbHMR4qP",
        "outputId": "28d090ca-741b-473d-d52b-5eb8b34fc734"
      },
      "outputs": [
        {
          "output_type": "stream",
          "name": "stdout",
          "text": [
            "Chaanyah\n",
            "Chaanyah\n",
            "Chaanyah\n",
            "Chaanyah\n",
            "Chaanyah\n",
            "Chaanyah\n",
            "Chaanyah\n",
            "Chaanyah\n",
            "Chaanyah\n",
            "Chaanyah\n"
          ]
        }
      ],
      "source": [
        "for i in range(10):\n",
        "  print(\"Chaanyah\")"
      ]
    },
    {
      "cell_type": "code",
      "source": [
        "list(range(10))"
      ],
      "metadata": {
        "colab": {
          "base_uri": "https://localhost:8080/"
        },
        "id": "ejpMWKSwT2hU",
        "outputId": "37cf16fb-354e-4798-f307-4e6041dadfdf"
      },
      "execution_count": 2,
      "outputs": [
        {
          "output_type": "execute_result",
          "data": {
            "text/plain": [
              "[0, 1, 2, 3, 4, 5, 6, 7, 8, 9]"
            ]
          },
          "metadata": {},
          "execution_count": 2
        }
      ]
    },
    {
      "cell_type": "code",
      "source": [
        "type(list(range(10)))"
      ],
      "metadata": {
        "colab": {
          "base_uri": "https://localhost:8080/"
        },
        "id": "LGggTLnbUODk",
        "outputId": "6d62939a-a8a8-47a9-8fea-441b339f2486"
      },
      "execution_count": 3,
      "outputs": [
        {
          "output_type": "execute_result",
          "data": {
            "text/plain": [
              "list"
            ]
          },
          "metadata": {},
          "execution_count": 3
        }
      ]
    },
    {
      "cell_type": "code",
      "source": [
        "# This code is printing the list of values\n",
        "for i in range(10): # \"i\" repersents the elements in the list and the number of elements is based on the range\n",
        "  print(i)"
      ],
      "metadata": {
        "colab": {
          "base_uri": "https://localhost:8080/"
        },
        "id": "2_fXalXvURZA",
        "outputId": "1d733de9-f112-4806-d3ac-8b1f10dfd050"
      },
      "execution_count": 4,
      "outputs": [
        {
          "output_type": "stream",
          "name": "stdout",
          "text": [
            "0\n",
            "1\n",
            "2\n",
            "3\n",
            "4\n",
            "5\n",
            "6\n",
            "7\n",
            "8\n",
            "9\n"
          ]
        }
      ]
    },
    {
      "cell_type": "code",
      "source": [
        "users = list(range(10))"
      ],
      "metadata": {
        "id": "kX-_oexkUUrF"
      },
      "execution_count": 7,
      "outputs": []
    },
    {
      "cell_type": "code",
      "source": [
        "print(users)"
      ],
      "metadata": {
        "colab": {
          "base_uri": "https://localhost:8080/"
        },
        "id": "smuvF7zdVxM6",
        "outputId": "203d84ad-4af3-4367-eb95-459d485b2858"
      },
      "execution_count": 8,
      "outputs": [
        {
          "output_type": "stream",
          "name": "stdout",
          "text": [
            "[0, 1, 2, 3, 4, 5, 6, 7, 8, 9]\n"
          ]
        }
      ]
    },
    {
      "cell_type": "code",
      "source": [
        "for user in users:\n",
        "  print(f\"10{user} has been added to the DC\")"
      ],
      "metadata": {
        "colab": {
          "base_uri": "https://localhost:8080/"
        },
        "id": "Epfgdhj8VyQs",
        "outputId": "822cdd7b-270b-4f84-c111-d621e26b5c09"
      },
      "execution_count": 12,
      "outputs": [
        {
          "output_type": "stream",
          "name": "stdout",
          "text": [
            "100 has been added to the DC\n",
            "101 has been added to the DC\n",
            "102 has been added to the DC\n",
            "103 has been added to the DC\n",
            "104 has been added to the DC\n",
            "105 has been added to the DC\n",
            "106 has been added to the DC\n",
            "107 has been added to the DC\n",
            "108 has been added to the DC\n",
            "109 has been added to the DC\n"
          ]
        }
      ]
    },
    {
      "cell_type": "code",
      "source": [
        "# Find the even numbers in a list\n",
        "\n",
        "my_list = [1,2,3,4,5,6,7,8,9,10,11,12,13,14,15,16,17,18,19,20]\n",
        "\n",
        "for i in my_list:     # Selects one element in my_list\n",
        "  if i % 2 == 0:      # Checks if it is even, IF even, it will go to the next step\n",
        "    print(f\"{i} is a even number\")\n",
        "  else:\n",
        "    print(f\"{i} is a odd number\")"
      ],
      "metadata": {
        "colab": {
          "base_uri": "https://localhost:8080/"
        },
        "id": "Mh0M3fflWHRt",
        "outputId": "58bfa460-08c2-4829-92b0-5997fc216386"
      },
      "execution_count": 15,
      "outputs": [
        {
          "output_type": "stream",
          "name": "stdout",
          "text": [
            "1 is a odd number\n",
            "2 is a even number\n",
            "3 is a odd number\n",
            "4 is a even number\n",
            "5 is a odd number\n",
            "6 is a even number\n",
            "7 is a odd number\n",
            "8 is a even number\n",
            "9 is a odd number\n",
            "10 is a even number\n",
            "11 is a odd number\n",
            "12 is a even number\n",
            "13 is a odd number\n",
            "14 is a even number\n",
            "15 is a odd number\n",
            "16 is a even number\n",
            "17 is a odd number\n",
            "18 is a even number\n",
            "19 is a odd number\n",
            "20 is a even number\n"
          ]
        }
      ]
    },
    {
      "cell_type": "code",
      "source": [
        "list_1 = [2,4,5,6,8,7,9,10]\n",
        "\n",
        "print(list_1)"
      ],
      "metadata": {
        "colab": {
          "base_uri": "https://localhost:8080/"
        },
        "id": "AsixtoIfWj9e",
        "outputId": "24634b74-1301-4fa2-c3b8-24743dcf1b52"
      },
      "execution_count": 16,
      "outputs": [
        {
          "output_type": "stream",
          "name": "stdout",
          "text": [
            "[2, 4, 5, 6, 8, 7, 9, 10]\n"
          ]
        }
      ]
    },
    {
      "cell_type": "markdown",
      "source": [
        "## <b>While Loops</b>\n",
        "\n",
        "The while statement in Python is one of the most general ways to perform iteration. A while statement will repeatedly execute a single statement or group of statements as long as the condition is true.\n",
        "\n",
        "General format of a while loop:\n",
        "\n",
        "    while test:\n",
        "      code statement\n",
        "    else:\n",
        "      final code statements\n",
        "\n",
        "<br>\n",
        "\n",
        "<center><img src=\"https://www.askpython.com/wp-content/uploads/2019/07/flow-chart-while-loop.jpg.webp\"></center>"
      ],
      "metadata": {
        "id": "4-fCT1-PY5cJ"
      }
    },
    {
      "cell_type": "code",
      "source": [
        "x = 0\n",
        "\n",
        "while x < 10:\n",
        "  print(f\"x is currently: {x}\", end=' ') # end=' ' puts the below print statement on the same line after this statement\n",
        "  print(f\"x is still less then 10, adding 1 to {x}\")\n",
        "  x = x + 1"
      ],
      "metadata": {
        "colab": {
          "base_uri": "https://localhost:8080/"
        },
        "id": "GcWGrNN-ZYs_",
        "outputId": "8cf380b2-bd7e-4576-e910-c96a8cc9102e"
      },
      "execution_count": 18,
      "outputs": [
        {
          "output_type": "stream",
          "name": "stdout",
          "text": [
            "x is currently: 0 x is still less then 10, adding 1 to 0\n",
            "x is currently: 1 x is still less then 10, adding 1 to 1\n",
            "x is currently: 2 x is still less then 10, adding 1 to 2\n",
            "x is currently: 3 x is still less then 10, adding 1 to 3\n",
            "x is currently: 4 x is still less then 10, adding 1 to 4\n",
            "x is currently: 5 x is still less then 10, adding 1 to 5\n",
            "x is currently: 6 x is still less then 10, adding 1 to 6\n",
            "x is currently: 7 x is still less then 10, adding 1 to 7\n",
            "x is currently: 8 x is still less then 10, adding 1 to 8\n",
            "x is currently: 9 x is still less then 10, adding 1 to 9\n"
          ]
        }
      ]
    }
  ]
}
