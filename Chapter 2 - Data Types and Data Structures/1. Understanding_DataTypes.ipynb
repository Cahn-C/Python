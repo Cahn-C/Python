{
  "nbformat": 4,
  "nbformat_minor": 0,
  "metadata": {
    "colab": {
      "provenance": []
    },
    "kernelspec": {
      "name": "python3",
      "display_name": "Python 3"
    },
    "language_info": {
      "name": "python"
    }
  },
  "cells": [
    {
      "cell_type": "markdown",
      "source": [
        "# Data Types & Data Structures\n",
        "\n",
        "- Everything in Python is an \"object\", including integers/floats\n",
        "- Most common and important types(classes)\n",
        "  - \"Single value\": None, int, float, bool, str, complex\n",
        "  - \"Multiple value\": list, tuple, set, dict\n",
        "\n",
        "<center><img src=\"https://us-east-1-02900067-view.menlosecurity.com/c/0/i/aHR0cHM6Ly93d3cuaXRzZW5nZy5lZHUuaW4vcHl0aG9uJTIwcGljJTIwMi5QTkc~\"></center>\n",
        "\n",
        "- Single/Multiple isn't a real distinction, this is for explanation\n",
        "- There are many others, but these are most frequently used"
      ],
      "metadata": {
        "id": "kMsMgoBxueK6"
      }
    },
    {
      "cell_type": "markdown",
      "source": [
        "## <b>Identify Data Types</b>"
      ],
      "metadata": {
        "id": "AWe6se36wJte"
      }
    },
    {
      "cell_type": "code",
      "execution_count": 1,
      "metadata": {
        "colab": {
          "base_uri": "https://localhost:8080/"
        },
        "id": "2DTCiHoJuHVb",
        "outputId": "cf723499-b13e-4409-c58f-d24a76d80ee6"
      },
      "outputs": [
        {
          "output_type": "stream",
          "name": "stdout",
          "text": [
            "<class 'int'>\n",
            "<class 'float'>\n",
            "<class 'str'>\n",
            "<class 'bool'>\n"
          ]
        }
      ],
      "source": [
        "a = 42\n",
        "b = 32.30\n",
        "c = \"Hello\"\n",
        "d = True\n",
        "print(type(a)) # gets type of object for a\n",
        "print(type(b)) # gets type of object for b\n",
        "print(type(c)) # gets type of object for c\n",
        "print(type(d)) # gets type of object for d"
      ]
    },
    {
      "cell_type": "code",
      "source": [
        "5 == 10"
      ],
      "metadata": {
        "colab": {
          "base_uri": "https://localhost:8080/"
        },
        "id": "fE0hBXsGxdPg",
        "outputId": "f090ca78-3632-4c0b-96cb-e5b444b9fef9"
      },
      "execution_count": 3,
      "outputs": [
        {
          "output_type": "execute_result",
          "data": {
            "text/plain": [
              "False"
            ]
          },
          "metadata": {},
          "execution_count": 3
        }
      ]
    },
    {
      "cell_type": "code",
      "source": [
        "10 == 10"
      ],
      "metadata": {
        "colab": {
          "base_uri": "https://localhost:8080/"
        },
        "id": "YuNiwd0DxgKW",
        "outputId": "649cf047-0858-4fc7-eb45-e8c565fac015"
      },
      "execution_count": 4,
      "outputs": [
        {
          "output_type": "execute_result",
          "data": {
            "text/plain": [
              "True"
            ]
          },
          "metadata": {},
          "execution_count": 4
        }
      ]
    }
  ]
}
