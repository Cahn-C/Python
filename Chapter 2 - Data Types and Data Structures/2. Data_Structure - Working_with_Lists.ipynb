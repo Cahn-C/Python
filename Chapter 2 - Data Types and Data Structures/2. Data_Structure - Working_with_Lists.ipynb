{
  "nbformat": 4,
  "nbformat_minor": 0,
  "metadata": {
    "colab": {
      "provenance": []
    },
    "kernelspec": {
      "name": "python3",
      "display_name": "Python 3"
    },
    "language_info": {
      "name": "python"
    }
  },
  "cells": [
    {
      "cell_type": "markdown",
      "source": [
        "# <b>Lists</b>\n",
        "\n",
        "Lists can be thouhg of the most general version of a sequence in Python\n",
        "\n",
        "<br>\n",
        "\n",
        "<center><img src=\"https://pynative.com/wp-content/uploads/2021/03/python-list.jpg\" /></center>\n",
        "\n",
        "<br>\n",
        "\n",
        "Lists are constructed with brackets ```[]``` and commas seperating every element in the list"
      ],
      "metadata": {
        "id": "mDm79mUXSoN3"
      }
    },
    {
      "cell_type": "code",
      "execution_count": 2,
      "metadata": {
        "id": "OUbrDa5WSfvt"
      },
      "outputs": [],
      "source": [
        "# Assign a list to an variable named my_list\n",
        "\n",
        "my_list = [1, 2, 3]"
      ]
    },
    {
      "cell_type": "code",
      "source": [
        "print(my_list)"
      ],
      "metadata": {
        "colab": {
          "base_uri": "https://localhost:8080/"
        },
        "id": "qPSb6GQaVCe-",
        "outputId": "9db48675-0ec7-410b-adf4-31334658bfd2"
      },
      "execution_count": 3,
      "outputs": [
        {
          "output_type": "stream",
          "name": "stdout",
          "text": [
            "[1, 2, 3]\n"
          ]
        }
      ]
    },
    {
      "cell_type": "markdown",
      "source": [
        "We just created a list of integers, but lists cam actually hold different object types."
      ],
      "metadata": {
        "id": "i2tJvb5aU1YA"
      }
    },
    {
      "cell_type": "code",
      "source": [
        "my_list = [1, 2, 3, 4, 5, 6, 7]"
      ],
      "metadata": {
        "id": "5qFq9slgUx2w"
      },
      "execution_count": 4,
      "outputs": []
    },
    {
      "cell_type": "code",
      "source": [
        "print(my_list)\n",
        "print(my_list[2])"
      ],
      "metadata": {
        "colab": {
          "base_uri": "https://localhost:8080/"
        },
        "id": "71UdplYpVGep",
        "outputId": "f519c919-206e-441a-bcd9-7785833ada42"
      },
      "execution_count": 5,
      "outputs": [
        {
          "output_type": "stream",
          "name": "stdout",
          "text": [
            "[1, 2, 3, 4, 5, 6, 7]\n",
            "3\n"
          ]
        }
      ]
    },
    {
      "cell_type": "markdown",
      "source": [
        "Just like strings, the ```len()``` function will tell you how many items are in the sequence of the list"
      ],
      "metadata": {
        "id": "ilmuKiFqVUSr"
      }
    },
    {
      "cell_type": "code",
      "source": [
        "len(my_list)"
      ],
      "metadata": {
        "colab": {
          "base_uri": "https://localhost:8080/"
        },
        "id": "Vg9_CEsbVKUK",
        "outputId": "7db39ce9-67e0-416d-eea5-fb9c103a92c2"
      },
      "execution_count": 6,
      "outputs": [
        {
          "output_type": "execute_result",
          "data": {
            "text/plain": [
              "7"
            ]
          },
          "metadata": {},
          "execution_count": 6
        }
      ]
    },
    {
      "cell_type": "code",
      "source": [
        "# Assign numbers, strings, floating points and a characters inside of a list called \"diff_lists\"\n",
        "\n",
        "diff_lists = [1, \"Chaanyah\", 33.45, 'Y', 7, \"Derrick\", 4, 12.090]\n",
        "\n",
        "print(diff_lists)"
      ],
      "metadata": {
        "colab": {
          "base_uri": "https://localhost:8080/"
        },
        "id": "J0koAFkqVYlX",
        "outputId": "14750513-b2f3-4913-c090-66d4b1c933d6"
      },
      "execution_count": 7,
      "outputs": [
        {
          "output_type": "stream",
          "name": "stdout",
          "text": [
            "[1, 'Chaanyah', 33.45, 'Y', 7, 'Derrick', 4, 12.09]\n"
          ]
        }
      ]
    },
    {
      "cell_type": "markdown",
      "source": [
        "## <b>Adding New Elements to a list</b>\n",
        "\n",
        "We use special commands to add new elements to a list."
      ],
      "metadata": {
        "id": "Mj_3CAHiV5mt"
      }
    },
    {
      "cell_type": "code",
      "source": [
        "my_list = ['one', 'two', 'three', 4.5]"
      ],
      "metadata": {
        "id": "nyHlRVMgVuDX"
      },
      "execution_count": 8,
      "outputs": []
    },
    {
      "cell_type": "code",
      "source": [
        "my_list"
      ],
      "metadata": {
        "colab": {
          "base_uri": "https://localhost:8080/"
        },
        "id": "3yEMFsxaz662",
        "outputId": "1483237c-2606-4b14-be5d-968d46a0b943"
      },
      "execution_count": 9,
      "outputs": [
        {
          "output_type": "execute_result",
          "data": {
            "text/plain": [
              "['one', 'two', 'three', 4.5]"
            ]
          },
          "metadata": {},
          "execution_count": 9
        }
      ]
    },
    {
      "cell_type": "code",
      "source": [
        "# Append a value to the end of the list\n",
        "my_list.append(3.1)\n",
        "\n",
        "print(my_list)"
      ],
      "metadata": {
        "colab": {
          "base_uri": "https://localhost:8080/"
        },
        "id": "efOGqPpLz7iU",
        "outputId": "f15c5644-0b09-48a1-aa2b-f83292f829f6"
      },
      "execution_count": 11,
      "outputs": [
        {
          "output_type": "stream",
          "name": "stdout",
          "text": [
            "['one', 'two', 'three', 4.5, 3.1, 3.1]\n"
          ]
        }
      ]
    },
    {
      "cell_type": "code",
      "source": [
        "l = [1, 2, 3, ['a', 'b', 'c'], 44.321, \"Chaanyah\", 200]\n",
        "print(l)\n",
        "\n",
        "print()\n",
        "\n",
        "l.append(\"six\")\n",
        "print(l)"
      ],
      "metadata": {
        "colab": {
          "base_uri": "https://localhost:8080/"
        },
        "id": "UX6mBtX80FUa",
        "outputId": "506021e6-32e5-452e-ddb2-3b0f8fd7ab29"
      },
      "execution_count": 16,
      "outputs": [
        {
          "output_type": "stream",
          "name": "stdout",
          "text": [
            "[1, 2, 3, ['a', 'b', 'c'], 44.321, 'Chaanyah', 200]\n",
            "\n",
            "[1, 2, 3, ['a', 'b', 'c'], 44.321, 'Chaanyah', 200, 'six']\n"
          ]
        }
      ]
    },
    {
      "cell_type": "code",
      "source": [
        "# Extend a list with another list\n",
        "l = [1, 2, 3]\n",
        "print(l)\n",
        "\n",
        "print() # Line Break\n",
        "\n",
        "l.extend([4, 5, 6])\n",
        "print(l)\n",
        "\n",
        "print() # Line Break\n",
        "\n",
        "l.extend([76, \"Chaanyah\", 12.23])\n",
        "print(l)"
      ],
      "metadata": {
        "colab": {
          "base_uri": "https://localhost:8080/"
        },
        "id": "urDhkju20Yr6",
        "outputId": "66c91adc-23c9-4116-acf8-5c46b4a7dfb3"
      },
      "execution_count": 19,
      "outputs": [
        {
          "output_type": "stream",
          "name": "stdout",
          "text": [
            "[1, 2, 3]\n",
            "\n",
            "[1, 2, 3, 4, 5, 6]\n",
            "\n",
            "[1, 2, 3, 4, 5, 6, 76, 'Chaanyah', 12.23]\n"
          ]
        }
      ]
    },
    {
      "cell_type": "markdown",
      "source": [
        "## <b>Slicing</b>\n",
        "\n",
        "Slicing is used to access individual elements or a range of elements in a list\n",
        "\n",
        "Python supports \"slicing\" indexable seqences. The syntax for slicing lists is:\n",
        "\n",
        "- `list_object[start:end:step] or`\n",
        "- `list_object[start:end]`\n",
        "\n",
        "\"start\" and \"end\" are indices(start inclusive, end exclusive). All slicing values are optional."
      ],
      "metadata": {
        "id": "CXHOTTqy1Jy6"
      }
    },
    {
      "cell_type": "code",
      "source": [
        "# Get a range of 10 numbers starting from 0\n",
        "l = list(range(10))"
      ],
      "metadata": {
        "id": "qAu4piPD0pXu"
      },
      "execution_count": 25,
      "outputs": []
    },
    {
      "cell_type": "code",
      "source": [
        "# print the results\n",
        "print(l)"
      ],
      "metadata": {
        "colab": {
          "base_uri": "https://localhost:8080/"
        },
        "id": "1ba015mx11UT",
        "outputId": "686b4e03-3fbf-4133-ea29-652ba4c2f00b"
      },
      "execution_count": 26,
      "outputs": [
        {
          "output_type": "stream",
          "name": "stdout",
          "text": [
            "[0, 1, 2, 3, 4, 5, 6, 7, 8, 9]\n"
          ]
        }
      ]
    },
    {
      "cell_type": "code",
      "source": [
        "# Get the a specific element\n",
        "l[2]"
      ],
      "metadata": {
        "colab": {
          "base_uri": "https://localhost:8080/"
        },
        "id": "FSty5LWO2B4J",
        "outputId": "716d034c-035a-4426-b26f-bf797a6f1306"
      },
      "execution_count": 27,
      "outputs": [
        {
          "output_type": "execute_result",
          "data": {
            "text/plain": [
              "2"
            ]
          },
          "metadata": {},
          "execution_count": 27
        }
      ]
    },
    {
      "cell_type": "code",
      "source": [
        "# Start from the number 5 then end at the last number\n",
        "l[5:10] # list_of_object[start:end]"
      ],
      "metadata": {
        "colab": {
          "base_uri": "https://localhost:8080/"
        },
        "id": "dLhWEo1w2HOB",
        "outputId": "1f9df779-02d7-4b48-9b94-ad9111ea5b60"
      },
      "execution_count": 28,
      "outputs": [
        {
          "output_type": "execute_result",
          "data": {
            "text/plain": [
              "[5, 6, 7, 8, 9]"
            ]
          },
          "metadata": {},
          "execution_count": 28
        }
      ]
    },
    {
      "cell_type": "code",
      "source": [
        "# Count only even numbers and starting from the very beginning on the list\n",
        "l[0:10:2]"
      ],
      "metadata": {
        "colab": {
          "base_uri": "https://localhost:8080/"
        },
        "id": "YNqSgaUz2aDW",
        "outputId": "94ceb0a2-b35c-442f-cbec-af98c2eb47a5"
      },
      "execution_count": 30,
      "outputs": [
        {
          "output_type": "execute_result",
          "data": {
            "text/plain": [
              "[0, 2, 4, 6, 8]"
            ]
          },
          "metadata": {},
          "execution_count": 30
        }
      ]
    },
    {
      "cell_type": "code",
      "source": [
        "lst = list(range(10)) # Create a list with a range of 10 numbers\n",
        "lst\n",
        "\n",
        "print()\n",
        "\n",
        "print(\"Elements starting from 2 to 7: \", lst[1:7])\n",
        "print(\"Alternate elements, starting from index 0\", lst[0::2]) # Print every second element starting from the index of 0\n",
        "print(\"Alternate elements, starting from index 1\", lst[1::3]) # Print every third element starting from the index of 1"
      ],
      "metadata": {
        "colab": {
          "base_uri": "https://localhost:8080/"
        },
        "id": "O-GRx9zg21Fv",
        "outputId": "36b1c917-21ae-43e6-94dc-c7ded63cfe26"
      },
      "execution_count": 40,
      "outputs": [
        {
          "output_type": "stream",
          "name": "stdout",
          "text": [
            "\n",
            "Elements starting from 2 to 7:  [1, 2, 3, 4, 5, 6]\n",
            "Alternate elements, starting from index 0 [0, 2, 4, 6, 8]\n",
            "Alternate elements, starting from index 1 [1, 4, 7]\n"
          ]
        }
      ]
    },
    {
      "cell_type": "markdown",
      "source": [
        "### <b> Other List Operations</b>\n",
        "\n",
        "- `.append`: add element to end of list\n",
        "- `.insert`: insert element at given index\n",
        "- `.extend`: extend one list with another list"
      ],
      "metadata": {
        "id": "GuuNU2-n6cIV"
      }
    },
    {
      "cell_type": "code",
      "source": [
        "chaan_list = [1, 2.3, ['a', 'b'], 'New York']"
      ],
      "metadata": {
        "id": "TtJf1ehV3-Pf"
      },
      "execution_count": 41,
      "outputs": []
    },
    {
      "cell_type": "code",
      "source": [
        "# Print the last element of the list\n",
        "chaan_list[3]"
      ],
      "metadata": {
        "colab": {
          "base_uri": "https://localhost:8080/",
          "height": 35
        },
        "id": "4-IgTkDx64SZ",
        "outputId": "0b5c6fc9-a224-4a2d-9f3a-7dab953b493f"
      },
      "execution_count": 45,
      "outputs": [
        {
          "output_type": "execute_result",
          "data": {
            "text/plain": [
              "'New York'"
            ],
            "application/vnd.google.colaboratory.intrinsic+json": {
              "type": "string"
            }
          },
          "metadata": {},
          "execution_count": 45
        }
      ]
    },
    {
      "cell_type": "code",
      "source": [
        "# Print the first index of the list\n",
        "chaan_list[0]"
      ],
      "metadata": {
        "colab": {
          "base_uri": "https://localhost:8080/"
        },
        "id": "oJbhFsnP68_8",
        "outputId": "0be8d834-7c10-437d-c873-b1702ce19a98"
      },
      "execution_count": 46,
      "outputs": [
        {
          "output_type": "execute_result",
          "data": {
            "text/plain": [
              "1"
            ]
          },
          "metadata": {},
          "execution_count": 46
        }
      ]
    },
    {
      "cell_type": "code",
      "source": [
        "# Print the second element which is the list, and get the first element within that list\n",
        "chaan_list[2][0]"
      ],
      "metadata": {
        "colab": {
          "base_uri": "https://localhost:8080/",
          "height": 35
        },
        "id": "iisRBt1u7O4l",
        "outputId": "467ad951-0c78-4259-f5ad-e8822ead0a67"
      },
      "execution_count": 49,
      "outputs": [
        {
          "output_type": "execute_result",
          "data": {
            "text/plain": [
              "'a'"
            ],
            "application/vnd.google.colaboratory.intrinsic+json": {
              "type": "string"
            }
          },
          "metadata": {},
          "execution_count": 49
        }
      ]
    },
    {
      "cell_type": "code",
      "source": [
        "# Add another element in the list\n",
        "chaan_list.append([0, 1, 2, 3, 4, 5, 6, 7])"
      ],
      "metadata": {
        "id": "0ppEH5TA7TxN"
      },
      "execution_count": 69,
      "outputs": []
    },
    {
      "cell_type": "code",
      "source": [
        "# Get the last element in the list contained in the chaan_list\n",
        "print(chaan_list) # Print the list\n",
        "\n",
        "print()\n",
        "\n",
        "print(len(chaan_list)) # Get the length of the list\n",
        "\n",
        "print()\n",
        "\n",
        "print(chaan_list[4]) # Get the forth element contained in the list\n",
        "\n",
        "print()\n",
        "\n",
        "print(len(chaan_list[4])) # Get the length of the 4 element, which is the list\n",
        "\n",
        "print()\n",
        "\n",
        "chaan_list[4][7] # Get the last element contained in the forth element"
      ],
      "metadata": {
        "colab": {
          "base_uri": "https://localhost:8080/"
        },
        "id": "EutlANcm7hro",
        "outputId": "8be4662f-685a-4d9c-b63c-6824ba1d7bb4"
      },
      "execution_count": 73,
      "outputs": [
        {
          "output_type": "stream",
          "name": "stdout",
          "text": [
            "[1, 2.3, ['a', 'b'], 'New York', [0, 1, 2, 3, 4, 5, 6, 7]]\n",
            "\n",
            "5\n",
            "\n",
            "[0, 1, 2, 3, 4, 5, 6, 7]\n",
            "\n",
            "8\n",
            "\n"
          ]
        },
        {
          "output_type": "execute_result",
          "data": {
            "text/plain": [
              "7"
            ]
          },
          "metadata": {},
          "execution_count": 73
        }
      ]
    },
    {
      "cell_type": "code",
      "source": [
        "# Remove the list within the list\n",
        "chaan_list.remove([0, 1, 2, 3, 4, 5, 6, 7])\n",
        "\n",
        "print(chaan_list)"
      ],
      "metadata": {
        "colab": {
          "base_uri": "https://localhost:8080/"
        },
        "id": "TPeIGHqU70Vb",
        "outputId": "27a486f7-cbc6-4138-ae1a-cbc8d260221e"
      },
      "execution_count": 68,
      "outputs": [
        {
          "output_type": "stream",
          "name": "stdout",
          "text": [
            "[1, 2.3, ['a', 'b'], 'New York']\n"
          ]
        }
      ]
    }
  ]
}