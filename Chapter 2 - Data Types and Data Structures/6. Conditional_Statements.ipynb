{
  "nbformat": 4,
  "nbformat_minor": 0,
  "metadata": {
    "colab": {
      "provenance": []
    },
    "kernelspec": {
      "name": "python3",
      "display_name": "Python 3"
    },
    "language_info": {
      "name": "python"
    }
  },
  "cells": [
    {
      "cell_type": "markdown",
      "source": [
        "# <b>If, elif, else Statements</b>\n",
        "\n",
        "If Statements in Python allows us to tell the computer to perform alternative actions based on a certain set of results\n",
        "\n",
        "Verbally, we can imagine we are telling the computer:\n",
        "\n",
        "\"Hey if this case happens, perform some action\"\n",
        "\n",
        "We can then expand the idea further with the elif and else statements, which allow us to tell the computer:\n",
        "\n",
        "\"Hey if this case happens, perform some action. Else if another case happens, perform some other action. Else none of the above cases happened, perform this action\"\n",
        "\n",
        "<br>\n",
        "\n",
        "<center><img src=\"https://us-east-1-02900067-view.menlosecurity.com/c/0/i/aHR0cHM6Ly9kMXdodGx5cGZpczg0ZS5jbG91ZGZyb250Lm5ldC9ndWlkZXMvd3AtY29udGVudC91cGxvYWRzLzIwMjEvMDYvMjkwODU4MjIvaWYtZmxvd2NoYXJ0LTYwNngxMDI0LmpwZw~~\"></center>"
      ],
      "metadata": {
        "id": "BomiUu9-Nwhw"
      }
    },
    {
      "cell_type": "code",
      "execution_count": 2,
      "metadata": {
        "colab": {
          "base_uri": "https://localhost:8080/"
        },
        "id": "OC5ybs7YNFBi",
        "outputId": "be2f5936-9980-42b9-ce05-48255bef533b"
      },
      "outputs": [
        {
          "output_type": "stream",
          "name": "stdout",
          "text": [
            "20 is greater than 10\n"
          ]
        }
      ],
      "source": [
        "a = 10\n",
        "b = 20\n",
        "\n",
        "if a > b:\n",
        "  print(a, \"is greater than\", b)\n",
        "elif b > a:\n",
        "  # Inside of the elif block\n",
        "  print(b, \"is greater than\", a)\n",
        "else:\n",
        "  # Inside of the else block\n",
        "  print(a, \"and\", b, \"are equal\")"
      ]
    }
  ]
}