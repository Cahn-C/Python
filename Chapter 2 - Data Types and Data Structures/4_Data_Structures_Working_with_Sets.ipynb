{
  "nbformat": 4,
  "nbformat_minor": 0,
  "metadata": {
    "colab": {
      "provenance": []
    },
    "kernelspec": {
      "name": "python3",
      "display_name": "Python 3"
    },
    "language_info": {
      "name": "python"
    }
  },
  "cells": [
    {
      "cell_type": "markdown",
      "source": [
        "# <b>Set and Booleans</b>"
      ],
      "metadata": {
        "id": "jQZgcnTaHUCA"
      }
    },
    {
      "cell_type": "markdown",
      "source": [
        "## <b>Sets</b>\n",
        "\n",
        "Sets are unordered collection of unique elements. We can construct them by using the `set()` function"
      ],
      "metadata": {
        "id": "aK9XhJ-VHkpG"
      }
    },
    {
      "cell_type": "code",
      "execution_count": 2,
      "metadata": {
        "id": "uHgxI-ISHO4m"
      },
      "outputs": [],
      "source": [
        "dup_list = [1,1,1,1,1,1,1,1,2,3,3,3,3,2,2,2,2,4,5,6,7,7,7]"
      ]
    },
    {
      "cell_type": "code",
      "source": [
        "dup_list"
      ],
      "metadata": {
        "colab": {
          "base_uri": "https://localhost:8080/"
        },
        "id": "sSekVwXsICT2",
        "outputId": "a07505f9-7598-4455-9c1c-2677bd5cf7e8"
      },
      "execution_count": 3,
      "outputs": [
        {
          "output_type": "execute_result",
          "data": {
            "text/plain": [
              "[1, 1, 1, 1, 1, 1, 1, 1, 2, 3, 3, 3, 3, 2, 2, 2, 2, 4, 5, 6, 7, 7, 7]"
            ]
          },
          "metadata": {},
          "execution_count": 3
        }
      ]
    },
    {
      "cell_type": "code",
      "source": [
        "l_sets = set(dup_list)\n",
        "\n",
        "l_sets"
      ],
      "metadata": {
        "colab": {
          "base_uri": "https://localhost:8080/"
        },
        "id": "rGbYu7v7IDU6",
        "outputId": "4c443945-aac5-422f-b91d-6c5f707ac0d7"
      },
      "execution_count": 5,
      "outputs": [
        {
          "output_type": "execute_result",
          "data": {
            "text/plain": [
              "{1, 2, 3, 4, 5, 6, 7}"
            ]
          },
          "metadata": {},
          "execution_count": 5
        }
      ]
    },
    {
      "cell_type": "code",
      "source": [
        "# Assign a variable to a set\n",
        "x = set()\n",
        "\n",
        "# Use .add to sets to add an element\n",
        "x.add(1)\n",
        "\n",
        "# Show the results\n",
        "print(x)"
      ],
      "metadata": {
        "colab": {
          "base_uri": "https://localhost:8080/"
        },
        "id": "VqGieZg2IuVS",
        "outputId": "7366db20-d4d1-47b9-e231-5f60b1f20c88"
      },
      "execution_count": 10,
      "outputs": [
        {
          "output_type": "stream",
          "name": "stdout",
          "text": [
            "{1}\n"
          ]
        }
      ]
    },
    {
      "cell_type": "code",
      "source": [
        "type(x)"
      ],
      "metadata": {
        "colab": {
          "base_uri": "https://localhost:8080/"
        },
        "id": "H6omTAsmJPoY",
        "outputId": "43c1b166-ec9d-49f1-ff6c-12e6f50ee54c"
      },
      "execution_count": 8,
      "outputs": [
        {
          "output_type": "execute_result",
          "data": {
            "text/plain": [
              "set"
            ]
          },
          "metadata": {},
          "execution_count": 8
        }
      ]
    },
    {
      "cell_type": "code",
      "source": [
        "# Add a different element\n",
        "x.add(2)\n",
        "\n",
        "# Show results\n",
        "print(x)"
      ],
      "metadata": {
        "colab": {
          "base_uri": "https://localhost:8080/"
        },
        "id": "uh8HM_ZsJYVr",
        "outputId": "706bcd1b-76d6-4944-a912-1d9e4f218443"
      },
      "execution_count": 12,
      "outputs": [
        {
          "output_type": "stream",
          "name": "stdout",
          "text": [
            "{1, 2}\n"
          ]
        }
      ]
    },
    {
      "cell_type": "code",
      "source": [
        "# Remove a value from the set\n",
        "x.remove(2)\n",
        "\n",
        "# Show results\n",
        "print(x)"
      ],
      "metadata": {
        "colab": {
          "base_uri": "https://localhost:8080/"
        },
        "id": "nm7adBQnJfRc",
        "outputId": "70f63501-8c7a-4d45-b165-ffbf0a484866"
      },
      "execution_count": 13,
      "outputs": [
        {
          "output_type": "stream",
          "name": "stdout",
          "text": [
            "{1}\n"
          ]
        }
      ]
    }
  ]
}