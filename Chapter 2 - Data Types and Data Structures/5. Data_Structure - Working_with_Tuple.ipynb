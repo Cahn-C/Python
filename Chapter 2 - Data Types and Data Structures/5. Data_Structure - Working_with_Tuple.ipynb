{
  "nbformat": 4,
  "nbformat_minor": 0,
  "metadata": {
    "colab": {
      "provenance": []
    },
    "kernelspec": {
      "name": "python3",
      "display_name": "Python 3"
    },
    "language_info": {
      "name": "python"
    }
  },
  "cells": [
    {
      "cell_type": "markdown",
      "source": [
        "# <b>Python Tuples</b>\n",
        "\n",
        "Tuples are used to store multiple items in a single variable\n",
        "\n",
        "Tuple is one of 4 built-in data types in Python used to store collections of data, the other 3 are List, Set, and Dictionary, all with different qualitites and usage\n",
        "\n",
        "A tuple is a collection which is ordered and unchangeable\n",
        "\n",
        "Tuples are written with parentheses"
      ],
      "metadata": {
        "id": "1FfUwUkVKg6p"
      }
    },
    {
      "cell_type": "code",
      "execution_count": 1,
      "metadata": {
        "colab": {
          "base_uri": "https://localhost:8080/"
        },
        "id": "USnpUHSHKX0y",
        "outputId": "4c90c4aa-efc0-4b85-8172-04b597943d9a"
      },
      "outputs": [
        {
          "output_type": "stream",
          "name": "stdout",
          "text": [
            "('apple', 'orange', 'cherry')\n"
          ]
        }
      ],
      "source": [
        "tup = (\"apple\", \"orange\", \"cherry\")\n",
        "print(tup)"
      ]
    },
    {
      "cell_type": "markdown",
      "source": [
        "Tuple items are ordered, unchangeable, and allow duplicate values\n",
        "\n",
        "Tuple items are indexed, the first item has a index of 0, the second has an index of 1, etc"
      ],
      "metadata": {
        "id": "PrKUvjgbLkAo"
      }
    },
    {
      "cell_type": "code",
      "source": [
        "tup = (\"apple\", \"orange\", \"cherry\", \"banana\", \"apple\", \"cherry\")\n",
        "print(tup)"
      ],
      "metadata": {
        "colab": {
          "base_uri": "https://localhost:8080/"
        },
        "id": "g6XhnlpqLP2_",
        "outputId": "8e258585-1ba8-4740-ed1c-12bbd9dcf61c"
      },
      "execution_count": 2,
      "outputs": [
        {
          "output_type": "stream",
          "name": "stdout",
          "text": [
            "('apple', 'orange', 'cherry', 'banana', 'apple', 'cherry')\n"
          ]
        }
      ]
    }
  ]
}
