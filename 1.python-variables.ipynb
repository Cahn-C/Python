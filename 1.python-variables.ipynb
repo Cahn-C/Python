{
 "cells": [
  {
   "cell_type": "markdown",
   "metadata": {
    "application/vnd.databricks.v1+cell": {
     "cellMetadata": {},
     "inputWidgets": {},
     "nuid": "a638b1dc-2992-4b24-8be2-2a88c8c06428",
     "showTitle": false,
     "title": ""
    }
   },
   "source": [
    "### Common Useful Functions"
   ]
  },
  {
   "cell_type": "markdown",
   "metadata": {
    "application/vnd.databricks.v1+cell": {
     "cellMetadata": {},
     "inputWidgets": {},
     "nuid": "7e72e7af-3e7a-4778-86bb-2332ece5a39e",
     "showTitle": false,
     "title": ""
    }
   },
   "source": [
    "- print(): Prints the specified message to the screen, or other standard output device.\n",
    "- help(): Displays the documentation of modules, functions, classes, keywords, etc.\n",
    "- type(): Gets the type of an object.\n",
    "- dir(): Returns all properties and methods of the specified object, without the values."
   ]
  },
  {
   "cell_type": "code",
   "execution_count": 0,
   "metadata": {
    "application/vnd.databricks.v1+cell": {
     "cellMetadata": {
      "byteLimit": 2048000,
      "rowLimit": 10000
     },
     "inputWidgets": {},
     "nuid": "6b8979ac-b764-4694-952b-00e35a828779",
     "showTitle": false,
     "title": ""
    }
   },
   "outputs": [
    {
     "output_type": "stream",
     "name": "stdout",
     "output_type": "stream",
     "text": [
      "Hello World\n"
     ]
    }
   ],
   "source": [
    "print(\"Hello World\")"
   ]
  },
  {
   "cell_type": "code",
   "execution_count": 0,
   "metadata": {
    "application/vnd.databricks.v1+cell": {
     "cellMetadata": {
      "byteLimit": 2048000,
      "rowLimit": 10000
     },
     "inputWidgets": {},
     "nuid": "5a0e06b7-d7aa-4c56-bb99-36a238dfee9d",
     "showTitle": false,
     "title": ""
    }
   },
   "outputs": [
    {
     "output_type": "stream",
     "name": "stdout",
     "output_type": "stream",
     "text": [
      "Help on list object:\n\nclass list(object)\n |  list(iterable=(), /)\n |  \n |  Built-in mutable sequence.\n |  \n |  If no argument is given, the constructor creates a new empty list.\n |  The argument must be an iterable if specified.\n |  \n |  Methods defined here:\n |  \n |  __add__(self, value, /)\n |      Return self+value.\n |  \n |  __contains__(self, key, /)\n |      Return key in self.\n |  \n |  __delitem__(self, key, /)\n |      Delete self[key].\n |  \n |  __eq__(self, value, /)\n |      Return self==value.\n |  \n |  __ge__(self, value, /)\n |      Return self>=value.\n |  \n |  __getattribute__(self, name, /)\n |      Return getattr(self, name).\n |  \n |  __getitem__(...)\n |      x.__getitem__(y) <==> x[y]\n |  \n |  __gt__(self, value, /)\n |      Return self>value.\n |  \n |  __iadd__(self, value, /)\n |      Implement self+=value.\n |  \n |  __imul__(self, value, /)\n |      Implement self*=value.\n |  \n |  __init__(self, /, *args, **kwargs)\n |      Initialize self.  See help(type(self)) for accurate signature.\n |  \n |  __iter__(self, /)\n |      Implement iter(self).\n |  \n |  __le__(self, value, /)\n |      Return self<=value.\n |  \n |  __len__(self, /)\n |      Return len(self).\n |  \n |  __lt__(self, value, /)\n |      Return self<value.\n |  \n |  __mul__(self, value, /)\n |      Return self*value.\n |  \n |  __ne__(self, value, /)\n |      Return self!=value.\n |  \n |  __repr__(self, /)\n |      Return repr(self).\n |  \n |  __reversed__(self, /)\n |      Return a reverse iterator over the list.\n |  \n |  __rmul__(self, value, /)\n |      Return value*self.\n |  \n |  __setitem__(self, key, value, /)\n |      Set self[key] to value.\n |  \n |  __sizeof__(self, /)\n |      Return the size of the list in memory, in bytes.\n |  \n |  append(self, object, /)\n |      Append object to the end of the list.\n |  \n |  clear(self, /)\n |      Remove all items from list.\n |  \n |  copy(self, /)\n |      Return a shallow copy of the list.\n |  \n |  count(self, value, /)\n |      Return number of occurrences of value.\n |  \n |  extend(self, iterable, /)\n |      Extend list by appending elements from the iterable.\n |  \n |  index(self, value, start=0, stop=9223372036854775807, /)\n |      Return first index of value.\n |      \n |      Raises ValueError if the value is not present.\n |  \n |  insert(self, index, object, /)\n |      Insert object before index.\n |  \n |  pop(self, index=-1, /)\n |      Remove and return item at index (default last).\n |      \n |      Raises IndexError if list is empty or index is out of range.\n |  \n |  remove(self, value, /)\n |      Remove first occurrence of value.\n |      \n |      Raises ValueError if the value is not present.\n |  \n |  reverse(self, /)\n |      Reverse *IN PLACE*.\n |  \n |  sort(self, /, *, key=None, reverse=False)\n |      Sort the list in ascending order and return None.\n |      \n |      The sort is in-place (i.e. the list itself is modified) and stable (i.e. the\n |      order of two equal elements is maintained).\n |      \n |      If a key function is given, apply it once to each list item and sort them,\n |      ascending or descending, according to their function values.\n |      \n |      The reverse flag can be set to sort in descending order.\n |  \n |  ----------------------------------------------------------------------\n |  Class methods defined here:\n |  \n |  __class_getitem__(...) from builtins.type\n |      See PEP 585\n |  \n |  ----------------------------------------------------------------------\n |  Static methods defined here:\n |  \n |  __new__(*args, **kwargs) from builtins.type\n |      Create and return a new object.  See help(type) for accurate signature.\n |  \n |  ----------------------------------------------------------------------\n |  Data and other attributes defined here:\n |  \n |  __hash__ = None\n\n"
     ]
    }
   ],
   "source": [
    "list = [1, 2, 3]\n",
    "help(list)"
   ]
  },
  {
   "cell_type": "code",
   "execution_count": 0,
   "metadata": {
    "application/vnd.databricks.v1+cell": {
     "cellMetadata": {
      "byteLimit": 2048000,
      "rowLimit": 10000
     },
     "inputWidgets": {},
     "nuid": "85b58aa5-4dc3-46ff-98ea-45b87a8366c8",
     "showTitle": false,
     "title": ""
    }
   },
   "outputs": [
    {
     "output_type": "execute_result",
     "data": {
      "text/plain": [
       "['__add__',\n",
       " '__class__',\n",
       " '__class_getitem__',\n",
       " '__contains__',\n",
       " '__delattr__',\n",
       " '__delitem__',\n",
       " '__dir__',\n",
       " '__doc__',\n",
       " '__eq__',\n",
       " '__format__',\n",
       " '__ge__',\n",
       " '__getattribute__',\n",
       " '__getitem__',\n",
       " '__gt__',\n",
       " '__hash__',\n",
       " '__iadd__',\n",
       " '__imul__',\n",
       " '__init__',\n",
       " '__init_subclass__',\n",
       " '__iter__',\n",
       " '__le__',\n",
       " '__len__',\n",
       " '__lt__',\n",
       " '__mul__',\n",
       " '__ne__',\n",
       " '__new__',\n",
       " '__reduce__',\n",
       " '__reduce_ex__',\n",
       " '__repr__',\n",
       " '__reversed__',\n",
       " '__rmul__',\n",
       " '__setattr__',\n",
       " '__setitem__',\n",
       " '__sizeof__',\n",
       " '__str__',\n",
       " '__subclasshook__',\n",
       " 'append',\n",
       " 'clear',\n",
       " 'copy',\n",
       " 'count',\n",
       " 'extend',\n",
       " 'index',\n",
       " 'insert',\n",
       " 'pop',\n",
       " 'remove',\n",
       " 'reverse',\n",
       " 'sort']"
      ]
     },
     "execution_count": 9,
     "metadata": {},
     "output_type": "execute_result"
    }
   ],
   "source": [
    "list = [1, 2, 3]\n",
    "dir(list)"
   ]
  },
  {
   "cell_type": "code",
   "execution_count": 0,
   "metadata": {
    "application/vnd.databricks.v1+cell": {
     "cellMetadata": {
      "byteLimit": 2048000,
      "rowLimit": 10000
     },
     "inputWidgets": {},
     "nuid": "22a4033b-3924-4ae9-a94b-c1d1b09cbc81",
     "showTitle": false,
     "title": ""
    }
   },
   "outputs": [
    {
     "output_type": "execute_result",
     "data": {
      "text/plain": [
       "int"
      ]
     },
     "execution_count": 5,
     "metadata": {},
     "output_type": "execute_result"
    }
   ],
   "source": [
    "num = 55\n",
    "type(num)"
   ]
  },
  {
   "cell_type": "code",
   "execution_count": 0,
   "metadata": {
    "application/vnd.databricks.v1+cell": {
     "cellMetadata": {
      "byteLimit": 2048000,
      "rowLimit": 10000
     },
     "inputWidgets": {},
     "nuid": "0a8f59ed-fc56-47e8-8860-232b3f591494",
     "showTitle": false,
     "title": ""
    }
   },
   "outputs": [
    {
     "output_type": "execute_result",
     "data": {
      "text/plain": [
       "float"
      ]
     },
     "execution_count": 6,
     "metadata": {},
     "output_type": "execute_result"
    }
   ],
   "source": [
    "dec = 77.9\n",
    "type(dec)"
   ]
  },
  {
   "cell_type": "code",
   "execution_count": 0,
   "metadata": {
    "application/vnd.databricks.v1+cell": {
     "cellMetadata": {
      "byteLimit": 2048000,
      "rowLimit": 10000
     },
     "inputWidgets": {},
     "nuid": "55a6c55d-42b6-44a0-9164-903553e02b04",
     "showTitle": false,
     "title": ""
    }
   },
   "outputs": [
    {
     "output_type": "execute_result",
     "data": {
      "text/plain": [
       "str"
      ]
     },
     "execution_count": 2,
     "metadata": {},
     "output_type": "execute_result"
    }
   ],
   "source": [
    "name = \"Chaanyah Laborde\"\n",
    "type(name)"
   ]
  },
  {
   "cell_type": "code",
   "execution_count": 0,
   "metadata": {
    "application/vnd.databricks.v1+cell": {
     "cellMetadata": {
      "byteLimit": 2048000,
      "rowLimit": 10000
     },
     "inputWidgets": {},
     "nuid": "8acab5d8-b0b8-49d3-b837-fdd0bb91b0fd",
     "showTitle": false,
     "title": ""
    }
   },
   "outputs": [
    {
     "output_type": "execute_result",
     "data": {
      "text/plain": [
       "bool"
      ]
     },
     "execution_count": 4,
     "metadata": {},
     "output_type": "execute_result"
    }
   ],
   "source": [
    "var = True\n",
    "type(var)"
   ]
  },
  {
   "cell_type": "markdown",
   "metadata": {
    "application/vnd.databricks.v1+cell": {
     "cellMetadata": {},
     "inputWidgets": {},
     "nuid": "9cc96ded-9d3b-4e98-9c17-d70587cd6dc6",
     "showTitle": false,
     "title": ""
    }
   },
   "source": [
    "### What is Python Identifier\n",
    "\n",
    "- Python identifier is the name we give to identify a `variable`, `list`, `tuple`, `sets`, `dictionary`, `function`, `class`, `module` or other `objects`. That means whenever we want to give an entity a name, that's called identifier.\n",
    "\n",
    "- Sometimes `variable` and `identifier` are often misunderstood as the same, but they are not. Well for clarity, let's see what is a variable?"
   ]
  },
  {
   "cell_type": "code",
   "execution_count": 0,
   "metadata": {
    "application/vnd.databricks.v1+cell": {
     "cellMetadata": {
      "byteLimit": 2048000,
      "rowLimit": 10000
     },
     "inputWidgets": {},
     "nuid": "82987100-04ea-44b6-bc4f-d957271f33c4",
     "showTitle": false,
     "title": ""
    }
   },
   "outputs": [],
   "source": [
    "v_first_name = \"Chaanyah\"\n",
    "v_last_name = \"Laborde\"\n",
    "v_age = 24\n",
    "v_status = 'true' # True  true or False\n",
    "\n",
    "# Variable can only store one value"
   ]
  },
  {
   "cell_type": "code",
   "execution_count": 0,
   "metadata": {
    "application/vnd.databricks.v1+cell": {
     "cellMetadata": {
      "byteLimit": 2048000,
      "rowLimit": 10000
     },
     "inputWidgets": {},
     "nuid": "634e6e15-7f9b-40ef-9b8d-e37c226c85fd",
     "showTitle": false,
     "title": ""
    }
   },
   "outputs": [
    {
     "output_type": "stream",
     "name": "stdout",
     "output_type": "stream",
     "text": [
      "true\n"
     ]
    }
   ],
   "source": [
    "print(v_status)"
   ]
  },
  {
   "cell_type": "markdown",
   "metadata": {
    "application/vnd.databricks.v1+cell": {
     "cellMetadata": {},
     "inputWidgets": {},
     "nuid": "5fc3fa34-b760-4e35-9cc8-d04b45fc7e99",
     "showTitle": false,
     "title": ""
    }
   },
   "source": [
    "### What is a Variable in Python?\n",
    "\n",
    "- A variable, as the name indicates is something whose value is changeable over time. In fact a variable is a memory location where a value can be stored."
   ]
  },
  {
   "cell_type": "code",
   "execution_count": 0,
   "metadata": {
    "application/vnd.databricks.v1+cell": {
     "cellMetadata": {
      "byteLimit": 2048000,
      "rowLimit": 10000
     },
     "inputWidgets": {},
     "nuid": "44aa6e1f-5c16-44f3-bca7-aa22b0400d18",
     "showTitle": false,
     "title": ""
    }
   },
   "outputs": [],
   "source": [
    "name = \"Chaanyah Laborde\"\n",
    "location = \"USA\"\n",
    "age = 24\n",
    "v2 = 53.0\n",
    "bool_true = True\n",
    "bool_false = False"
   ]
  },
  {
   "cell_type": "code",
   "execution_count": 0,
   "metadata": {
    "application/vnd.databricks.v1+cell": {
     "cellMetadata": {
      "byteLimit": 2048000,
      "rowLimit": 10000
     },
     "inputWidgets": {},
     "nuid": "e50a7b80-5f52-4807-8b6f-e8f579b856bc",
     "showTitle": false,
     "title": ""
    }
   },
   "outputs": [],
   "source": [
    "# upper case variable names -\n",
    "PATH = \"/location/tmp/customer\"\n",
    "USERNAME=\"system\"\n",
    "PASSWORD=\"23244hg3v\""
   ]
  },
  {
   "cell_type": "markdown",
   "metadata": {
    "application/vnd.databricks.v1+cell": {
     "cellMetadata": {},
     "inputWidgets": {},
     "nuid": "d41834d2-d5cd-4359-8ed4-2242b300d997",
     "showTitle": false,
     "title": ""
    }
   },
   "source": [
    "#### Memory allocation for integer variables"
   ]
  },
  {
   "cell_type": "code",
   "execution_count": 0,
   "metadata": {
    "application/vnd.databricks.v1+cell": {
     "cellMetadata": {
      "byteLimit": 2048000,
      "rowLimit": 10000
     },
     "inputWidgets": {},
     "nuid": "fe01b082-cc4e-4128-87b0-d4ddbbeb8c5d",
     "showTitle": false,
     "title": ""
    }
   },
   "outputs": [
    {
     "output_type": "stream",
     "name": "stdout",
     "output_type": "stream",
     "text": [
      "a variable id is a:  140657183526224\nb varibale id is b:  140657183523184\n"
     ]
    }
   ],
   "source": [
    "a = 100\n",
    "b = 5\n",
    "print('a variable id is a: ', id(a))\n",
    "print('b varibale id is b: ', id(b))"
   ]
  },
  {
   "cell_type": "code",
   "execution_count": 0,
   "metadata": {
    "application/vnd.databricks.v1+cell": {
     "cellMetadata": {
      "byteLimit": 2048000,
      "rowLimit": 10000
     },
     "inputWidgets": {},
     "nuid": "db6c6f15-dc37-482e-8544-e9d7c7dce12f",
     "showTitle": false,
     "title": ""
    }
   },
   "outputs": [
    {
     "output_type": "execute_result",
     "data": {
      "text/plain": [
       "140657183526224"
      ]
     },
     "execution_count": 18,
     "metadata": {},
     "output_type": "execute_result"
    }
   ],
   "source": [
    "id(a)"
   ]
  },
  {
   "cell_type": "code",
   "execution_count": 0,
   "metadata": {
    "application/vnd.databricks.v1+cell": {
     "cellMetadata": {
      "byteLimit": 2048000,
      "rowLimit": 10000
     },
     "inputWidgets": {},
     "nuid": "11009016-a582-4dea-8575-3ec6fb35d9a0",
     "showTitle": false,
     "title": ""
    }
   },
   "outputs": [
    {
     "output_type": "stream",
     "name": "stdout",
     "output_type": "stream",
     "text": [
      "c variable id is c:  140657183526224\nd variable id is d:  140657183523184\n"
     ]
    }
   ],
   "source": [
    "# Here you can find the same object id. Because python memory utilization will store all integers in memory.\n",
    "# If you are creating different variables with the same value, it will use existing storage locations and value to avoid more memory utilization.\n",
    "# These numbers will be used for range [-5, 256]  \n",
    "c = 100\n",
    "d = 5\n",
    "print('c variable id is c: ', id(c))\n",
    "print('d variable id is d: ', id(d))"
   ]
  },
  {
   "cell_type": "code",
   "execution_count": 0,
   "metadata": {
    "application/vnd.databricks.v1+cell": {
     "cellMetadata": {
      "byteLimit": 2048000,
      "rowLimit": 10000
     },
     "inputWidgets": {},
     "nuid": "adf3bdb1-f583-4ddf-abd9-8c4db60ce50b",
     "showTitle": false,
     "title": ""
    }
   },
   "outputs": [
    {
     "output_type": "stream",
     "name": "stdout",
     "output_type": "stream",
     "text": [
      "c variable id is c:  140657183526224\nd variable id is d:  140656559650640\n"
     ]
    }
   ],
   "source": [
    "# Here you can find the same object id. Because python memory utilization will store all integers in memory.\n",
    "# If you are creating different variables with the same value, it will use existing storage locations and value to avoid more memory utilization.\n",
    "# These numbers will be used for range [-5, 256]  \n",
    "c = 100\n",
    "d = 555\n",
    "print('c variable id is c: ', id(c))\n",
    "print('d variable id is d: ', id(d))"
   ]
  },
  {
   "cell_type": "markdown",
   "metadata": {
    "application/vnd.databricks.v1+cell": {
     "cellMetadata": {},
     "inputWidgets": {},
     "nuid": "14acfcd4-2f5f-4b10-9f3c-b6f0d8a4d0dc",
     "showTitle": false,
     "title": ""
    }
   },
   "source": [
    "- local variables we can create starting with v_*name\n",
    "- Global variables we can create starting with gv_*name\n",
    "- Global variables examples:\n",
    "    - any source system and target paths(file locations) which is using entire project\n",
    "    - common parameters which is using entire project like username and keys\n",
    "    - if any variable which is using in other notebooks we can create as gv_*variable"
   ]
  },
  {
   "cell_type": "markdown",
   "metadata": {
    "application/vnd.databricks.v1+cell": {
     "cellMetadata": {},
     "inputWidgets": {},
     "nuid": "a6c504d3-8136-46fb-a2a9-5b5d8c0b3999",
     "showTitle": false,
     "title": ""
    }
   },
   "source": [
    "\n",
    "### What is print()\n",
    "\n",
    "- The print() function prints the specified message to the screen, or other standard output device.\n",
    "- The message can be a string, or any other object, the object will be converted into a string before written to the screen.\n"
   ]
  },
  {
   "cell_type": "code",
   "execution_count": 0,
   "metadata": {
    "application/vnd.databricks.v1+cell": {
     "cellMetadata": {
      "byteLimit": 2048000,
      "rowLimit": 10000
     },
     "inputWidgets": {},
     "nuid": "8ba37440-ab88-4088-b62a-de0c23c07187",
     "showTitle": false,
     "title": ""
    }
   },
   "outputs": [
    {
     "output_type": "stream",
     "name": "stdout",
     "output_type": "stream",
     "text": [
      "Hello World\n"
     ]
    }
   ],
   "source": [
    "print(\"Hello World\")"
   ]
  },
  {
   "cell_type": "code",
   "execution_count": 0,
   "metadata": {
    "application/vnd.databricks.v1+cell": {
     "cellMetadata": {
      "byteLimit": 2048000,
      "rowLimit": 10000
     },
     "inputWidgets": {},
     "nuid": "9dbf1525-f427-43f1-8807-9669166ff616",
     "showTitle": false,
     "title": ""
    }
   },
   "outputs": [
    {
     "output_type": "stream",
     "name": "stdout",
     "output_type": "stream",
     "text": [
      "Hello World\n"
     ]
    }
   ],
   "source": [
    "print('Hello World')"
   ]
  },
  {
   "cell_type": "code",
   "execution_count": 0,
   "metadata": {
    "application/vnd.databricks.v1+cell": {
     "cellMetadata": {
      "byteLimit": 2048000,
      "rowLimit": 10000
     },
     "inputWidgets": {},
     "nuid": "e99077cb-6635-4ad1-8c53-d05e4e4db6b2",
     "showTitle": false,
     "title": ""
    }
   },
   "outputs": [
    {
     "output_type": "stream",
     "name": "stdout",
     "output_type": "stream",
     "text": [
      "Hello my name is  Chaanyah Laborde\n"
     ]
    }
   ],
   "source": [
    "name = \"Chaanyah Laborde\"\n",
    "print(\"Hello my name is \", name)"
   ]
  },
  {
   "cell_type": "code",
   "execution_count": 0,
   "metadata": {
    "application/vnd.databricks.v1+cell": {
     "cellMetadata": {
      "byteLimit": 2048000,
      "rowLimit": 10000
     },
     "inputWidgets": {},
     "nuid": "fb900538-8645-410a-a21c-d2afb776e857",
     "showTitle": false,
     "title": ""
    }
   },
   "outputs": [
    {
     "output_type": "stream",
     "name": "stdout",
     "output_type": "stream",
     "text": [
      "Hello my name is Chaanyah Laborde\nThis variable type of name is: <class 'str'>\n"
     ]
    }
   ],
   "source": [
    "name = \"Chaanyah Laborde\"\n",
    "print(\"Hello my name is\", name)\n",
    "print(\"This variable type of name is:\", type(name))"
   ]
  },
  {
   "cell_type": "markdown",
   "metadata": {
    "application/vnd.databricks.v1+cell": {
     "cellMetadata": {},
     "inputWidgets": {},
     "nuid": "83dc783a-037c-44a7-a0d6-2e01cc1685d9",
     "showTitle": false,
     "title": ""
    }
   },
   "source": [
    "### Convert a Variable"
   ]
  },
  {
   "cell_type": "code",
   "execution_count": 0,
   "metadata": {
    "application/vnd.databricks.v1+cell": {
     "cellMetadata": {
      "byteLimit": 2048000,
      "rowLimit": 10000
     },
     "inputWidgets": {},
     "nuid": "b1ef9d04-c374-4e02-ac2c-c331646d3c3c",
     "showTitle": false,
     "title": ""
    }
   },
   "outputs": [
    {
     "output_type": "display_data",
     "data": {
      "text/plain": [
       "\u001B[0;31m---------------------------------------------------------------------------\u001B[0m\n",
       "\u001B[0;31mTypeError\u001B[0m                                 Traceback (most recent call last)\n",
       "File \u001B[0;32m<command-283423003056319>, line 4\u001B[0m\n",
       "\u001B[1;32m      1\u001B[0m num1 \u001B[38;5;241m=\u001B[39m \u001B[38;5;241m55\u001B[39m\n",
       "\u001B[1;32m      2\u001B[0m num2 \u001B[38;5;241m=\u001B[39m \u001B[38;5;124m'\u001B[39m\u001B[38;5;124m22\u001B[39m\u001B[38;5;124m'\u001B[39m\n",
       "\u001B[0;32m----> 4\u001B[0m result \u001B[38;5;241m=\u001B[39m \u001B[43mnum1\u001B[49m\u001B[43m \u001B[49m\u001B[38;5;241;43m+\u001B[39;49m\u001B[43m \u001B[49m\u001B[43mnum2\u001B[49m\n",
       "\n",
       "\u001B[0;31mTypeError\u001B[0m: unsupported operand type(s) for +: 'int' and 'str'"
      ]
     },
     "metadata": {
      "application/vnd.databricks.v1+output": {
       "arguments": {},
       "data": "\u001B[0;31m---------------------------------------------------------------------------\u001B[0m\n\u001B[0;31mTypeError\u001B[0m                                 Traceback (most recent call last)\nFile \u001B[0;32m<command-283423003056319>, line 4\u001B[0m\n\u001B[1;32m      1\u001B[0m num1 \u001B[38;5;241m=\u001B[39m \u001B[38;5;241m55\u001B[39m\n\u001B[1;32m      2\u001B[0m num2 \u001B[38;5;241m=\u001B[39m \u001B[38;5;124m'\u001B[39m\u001B[38;5;124m22\u001B[39m\u001B[38;5;124m'\u001B[39m\n\u001B[0;32m----> 4\u001B[0m result \u001B[38;5;241m=\u001B[39m \u001B[43mnum1\u001B[49m\u001B[43m \u001B[49m\u001B[38;5;241;43m+\u001B[39;49m\u001B[43m \u001B[49m\u001B[43mnum2\u001B[49m\n\n\u001B[0;31mTypeError\u001B[0m: unsupported operand type(s) for +: 'int' and 'str'",
       "errorSummary": "<span class='ansi-red-fg'>TypeError</span>: unsupported operand type(s) for +: 'int' and 'str'",
       "errorTraceType": "ansi",
       "metadata": {},
       "type": "ipynbError"
      }
     },
     "output_type": "display_data"
    }
   ],
   "source": [
    "num1 = 55\n",
    "num2 = '22'\n",
    "\n",
    "# This will return an error\n",
    "result = num1 + num2"
   ]
  },
  {
   "cell_type": "code",
   "execution_count": 0,
   "metadata": {
    "application/vnd.databricks.v1+cell": {
     "cellMetadata": {
      "byteLimit": 2048000,
      "rowLimit": 10000
     },
     "inputWidgets": {},
     "nuid": "321441c4-798f-46d0-8706-a37dcf38d9e5",
     "showTitle": false,
     "title": ""
    }
   },
   "outputs": [],
   "source": [
    "num1 = 55\n",
    "num2 = '22'\n",
    "\n",
    "# Convert the string to an integer\n",
    "result = num1 + int(num2)"
   ]
  },
  {
   "cell_type": "markdown",
   "metadata": {
    "application/vnd.databricks.v1+cell": {
     "cellMetadata": {},
     "inputWidgets": {},
     "nuid": "f95dbfa6-151b-48ee-8538-c6b5837c7137",
     "showTitle": false,
     "title": ""
    }
   },
   "source": [
    "### Creating Multiple Variable and Assigning Values"
   ]
  },
  {
   "cell_type": "code",
   "execution_count": 0,
   "metadata": {
    "application/vnd.databricks.v1+cell": {
     "cellMetadata": {
      "byteLimit": 2048000,
      "rowLimit": 10000
     },
     "inputWidgets": {},
     "nuid": "149a1b47-0351-4ed0-9162-97686388ff18",
     "showTitle": false,
     "title": ""
    }
   },
   "outputs": [
    {
     "output_type": "stream",
     "name": "stdout",
     "output_type": "stream",
     "text": [
      "a value is :  simple\nb value is :  200\nc value is :  200\nd value is :  200\ne value is :  200\n"
     ]
    }
   ],
   "source": [
    "a=b=c=d=e=200\n",
    "\n",
    "a = 'simple'\n",
    "print(\"a value is : \", a)\n",
    "print(\"b value is : \", b)\n",
    "print(\"c value is : \", c)\n",
    "print(\"d value is : \", d)\n",
    "print(\"e value is : \", e)"
   ]
  },
  {
   "cell_type": "markdown",
   "metadata": {
    "application/vnd.databricks.v1+cell": {
     "cellMetadata": {},
     "inputWidgets": {},
     "nuid": "b46b56fc-b232-49d8-8309-4ede4e92351d",
     "showTitle": false,
     "title": ""
    }
   },
   "source": [
    "### Strings\n",
    "\n",
    "- Besides numbers, Python can also manipulate strings, which can be expressed in several ways. They can enclosed in single quotes('...') or double quotes(\"...\") with the same result."
   ]
  },
  {
   "cell_type": "code",
   "execution_count": 0,
   "metadata": {
    "application/vnd.databricks.v1+cell": {
     "cellMetadata": {
      "byteLimit": 2048000,
      "rowLimit": 10000
     },
     "inputWidgets": {},
     "nuid": "8169231c-28cc-4e14-9f4e-17b820e91eb3",
     "showTitle": false,
     "title": ""
    }
   },
   "outputs": [
    {
     "output_type": "stream",
     "name": "stdout",
     "output_type": "stream",
     "text": [
      "Hello World\ndoesn't\ndoesn't\n\"Yes,\" they said.\n\"Yes,\" they said.\n\"Isn't,\" they said.\n"
     ]
    }
   ],
   "source": [
    "print('Hello World') # single quotes\n",
    "print('doesn\\'t') # use \\' to escape the single quote\n",
    "print(\"doesn't\") # or use double quotes instead\n",
    "print('\"Yes,\" they said.') \n",
    "print('\"Yes,\" they said.') \n",
    "print('\"Isn\\'t,\" they said.')"
   ]
  },
  {
   "cell_type": "markdown",
   "metadata": {
    "application/vnd.databricks.v1+cell": {
     "cellMetadata": {},
     "inputWidgets": {},
     "nuid": "f5432b68-b53a-4673-9b96-0dfeb7497288",
     "showTitle": false,
     "title": ""
    }
   },
   "source": [
    "### Numbers\n",
    "- The interpreter acts as simple calculator: you can type an expression at it and it will write the value. Expression syntax is straightforward: the operatos `+`, `-`, `*` and `/` work just like in most other languages. "
   ]
  },
  {
   "cell_type": "code",
   "execution_count": 0,
   "metadata": {
    "application/vnd.databricks.v1+cell": {
     "cellMetadata": {
      "byteLimit": 2048000,
      "rowLimit": 10000
     },
     "inputWidgets": {},
     "nuid": "432ae4c7-5ecc-489c-9b0b-b86f292cd465",
     "showTitle": false,
     "title": ""
    }
   },
   "outputs": [
    {
     "output_type": "stream",
     "name": "stdout",
     "output_type": "stream",
     "text": [
      "4\n30\n5.0\n500\n800\n2.6666666666666665\n2\n"
     ]
    }
   ],
   "source": [
    "print(2 + 2)\n",
    "print(50 - 20)\n",
    "print((100 * 1) /20)\n",
    "print(100 + 100 * 2 * 2)\n",
    "print((100 + 100) * (2 * 2))\n",
    "print(8 / 3) # division always rerturns a floating point number\n",
    "print(8 // 3) # forces into integer value"
   ]
  },
  {
   "cell_type": "code",
   "execution_count": 0,
   "metadata": {
    "application/vnd.databricks.v1+cell": {
     "cellMetadata": {
      "byteLimit": 2048000,
      "rowLimit": 10000
     },
     "inputWidgets": {},
     "nuid": "8c0a9e4e-1183-43b6-add1-5ee4e66a2655",
     "showTitle": false,
     "title": ""
    }
   },
   "outputs": [
    {
     "output_type": "stream",
     "name": "stdout",
     "output_type": "stream",
     "text": [
      "2\n"
     ]
    }
   ],
   "source": [
    "# Module\n",
    "print(6 % 4)"
   ]
  },
  {
   "cell_type": "markdown",
   "metadata": {
    "application/vnd.databricks.v1+cell": {
     "cellMetadata": {},
     "inputWidgets": {},
     "nuid": "a25bfaa2-84c4-4302-a5a0-090008a51a79",
     "showTitle": false,
     "title": ""
    }
   },
   "source": [
    "#### Delete a variable using DEL"
   ]
  },
  {
   "cell_type": "code",
   "execution_count": 0,
   "metadata": {
    "application/vnd.databricks.v1+cell": {
     "cellMetadata": {
      "byteLimit": 2048000,
      "rowLimit": 10000
     },
     "inputWidgets": {},
     "nuid": "3c02f95f-00bf-4ae2-9245-7b561fc98f81",
     "showTitle": false,
     "title": ""
    }
   },
   "outputs": [
    {
     "output_type": "stream",
     "name": "stdout",
     "output_type": "stream",
     "text": [
      "55\n"
     ]
    }
   ],
   "source": [
    "number1 = 55\n",
    "print(number1)"
   ]
  },
  {
   "cell_type": "code",
   "execution_count": 0,
   "metadata": {
    "application/vnd.databricks.v1+cell": {
     "cellMetadata": {
      "byteLimit": 2048000,
      "rowLimit": 10000
     },
     "inputWidgets": {},
     "nuid": "3b622bd1-c005-4b6b-8090-c262a0dd47dc",
     "showTitle": false,
     "title": ""
    }
   },
   "outputs": [
    {
     "output_type": "display_data",
     "data": {
      "text/plain": [
       "\u001B[0;31m---------------------------------------------------------------------------\u001B[0m\n",
       "\u001B[0;31mNameError\u001B[0m                                 Traceback (most recent call last)\n",
       "File \u001B[0;32m<command-283423003056330>, line 2\u001B[0m\n",
       "\u001B[1;32m      1\u001B[0m \u001B[38;5;66;03m# This will return an error due to the variable being deleted.\u001B[39;00m\n",
       "\u001B[0;32m----> 2\u001B[0m \u001B[38;5;28;01mdel\u001B[39;00m number1\n",
       "\u001B[1;32m      3\u001B[0m \u001B[38;5;28mprint\u001B[39m(number1)\n",
       "\n",
       "\u001B[0;31mNameError\u001B[0m: name 'number1' is not defined"
      ]
     },
     "metadata": {
      "application/vnd.databricks.v1+output": {
       "arguments": {},
       "data": "\u001B[0;31m---------------------------------------------------------------------------\u001B[0m\n\u001B[0;31mNameError\u001B[0m                                 Traceback (most recent call last)\nFile \u001B[0;32m<command-283423003056330>, line 2\u001B[0m\n\u001B[1;32m      1\u001B[0m \u001B[38;5;66;03m# This will return an error due to the variable being deleted.\u001B[39;00m\n\u001B[0;32m----> 2\u001B[0m \u001B[38;5;28;01mdel\u001B[39;00m number1\n\u001B[1;32m      3\u001B[0m \u001B[38;5;28mprint\u001B[39m(number1)\n\n\u001B[0;31mNameError\u001B[0m: name 'number1' is not defined",
       "errorSummary": "<span class='ansi-red-fg'>NameError</span>: name 'number1' is not defined",
       "errorTraceType": "ansi",
       "metadata": {},
       "type": "ipynbError"
      }
     },
     "output_type": "display_data"
    }
   ],
   "source": [
    "# This will return an error due to the variable being deleted.\n",
    "del number1\n",
    "print(number1)"
   ]
  },
  {
   "cell_type": "markdown",
   "metadata": {
    "application/vnd.databricks.v1+cell": {
     "cellMetadata": {},
     "inputWidgets": {},
     "nuid": "030ca894-05e2-4a25-af3a-e6300ed9477a",
     "showTitle": false,
     "title": ""
    }
   },
   "source": [
    "\n",
    "#### F-Strings\n",
    "- F-Strings provide a way to embed expression inside of string literals, using a minimal syntax. It should be noted that an f-string is reallu an expression evaluated at run time, not a constant value. In Python source code, an f-string is a literal string, prefixed with 'f', which contains expressions inside braces. The expressions are replaced with their values."
   ]
  },
  {
   "cell_type": "code",
   "execution_count": 0,
   "metadata": {
    "application/vnd.databricks.v1+cell": {
     "cellMetadata": {
      "byteLimit": 2048000,
      "rowLimit": 10000
     },
     "inputWidgets": {},
     "nuid": "d0eb079f-872e-42f5-9f94-acd302df9d44",
     "showTitle": false,
     "title": ""
    }
   },
   "outputs": [
    {
     "output_type": "stream",
     "name": "stdout",
     "output_type": "stream",
     "text": [
      "Hello my name is Chaanyah Laborde, I am a Azure Data Engineer that works at Google, my pay is 125000 with a 5.15 commission rate\n"
     ]
    }
   ],
   "source": [
    "name = \"Chaanyah Laborde\"\n",
    "title = \"Azure Data Engineer\"\n",
    "salary = 125000\n",
    "comm = 5.15\n",
    "\n",
    "print(f\"Hello my name is {name}, I am a {title} that works at Google, my pay is {salary} with a {comm} commission rate\")"
   ]
  },
  {
   "cell_type": "markdown",
   "metadata": {
    "application/vnd.databricks.v1+cell": {
     "cellMetadata": {},
     "inputWidgets": {},
     "nuid": "04ad93a3-4e97-4675-86c9-266891d67d52",
     "showTitle": false,
     "title": ""
    }
   },
   "source": [
    "#### format() function\n",
    "\n",
    "- `str.format()` is one of the string formatting methods in Python3, which allows multiple substitutions and value formatting. This method lets us concatenate elements withtin a string through positional formatting.\n",
    "\n",
    "- **Syntax**: {}.format(value)\n",
    "  Parameters: {value} Can be an integer, floating point numeric constant, string, characters or even variables.\n",
    "  Returntype: Returns a formatted string with the value passed as parameter in the placeholder position.\n",
    "\n",
    "- The placeholder can be identified using named indexes {price}, numbered indexes {0}, or even empty placeholders {}."
   ]
  },
  {
   "cell_type": "code",
   "execution_count": 0,
   "metadata": {
    "application/vnd.databricks.v1+cell": {
     "cellMetadata": {
      "byteLimit": 2048000,
      "rowLimit": 10000
     },
     "inputWidgets": {},
     "nuid": "ea0de064-a010-429b-beef-eca79b0d2d88",
     "showTitle": false,
     "title": ""
    }
   },
   "outputs": [
    {
     "output_type": "stream",
     "name": "stdout",
     "output_type": "stream",
     "text": [
      "Hello my name is Chaanyah Laborde, I am a Azure Data Engineer that works for Google, my pay is 125000 with a commision rate of 5.15.\n"
     ]
    }
   ],
   "source": [
    "name = \"Chaanyah Laborde\"\n",
    "title = \"Azure Data Engineer\"\n",
    "salary = 125000\n",
    "comm = 5.15\n",
    "\n",
    "print(\"Hello my name is {}, I am a {} that works for Google, my pay is {} with a commision rate of {}.\".format(name, title, salary, comm))"
   ]
  },
  {
   "cell_type": "markdown",
   "metadata": {
    "application/vnd.databricks.v1+cell": {
     "cellMetadata": {},
     "inputWidgets": {},
     "nuid": "6f7dd824-879e-41bf-89f9-e5af76115e42",
     "showTitle": false,
     "title": ""
    }
   },
   "source": [
    "{field_name:conversion}\n",
    "\n",
    "More parameters can be included within the curly braces of our syntax. Use the format code syntax {field_name:conversion}, where field_name specifies the index number of the argument to the str.format() method, and conversion refers to the conversion code of the date type.\n",
    "\n",
    "- s - strings\n",
    "- d - decimal integers (base-10)\n",
    "- f - floating point display\n",
    "- c - character\n",
    "- b - binary\n",
    "- o - octal\n",
    "- x - hexadecimal with lowercase letters after 9\n",
    "- X - hexadecimal with uppercase letters after 9\n",
    "- e - exponent notation"
   ]
  },
  {
   "cell_type": "markdown",
   "metadata": {
    "application/vnd.databricks.v1+cell": {
     "cellMetadata": {},
     "inputWidgets": {},
     "nuid": "6f650019-61f6-4ff0-8b7f-d52056fac862",
     "showTitle": false,
     "title": ""
    }
   },
   "source": [
    "#### Using \"%s\" keywords"
   ]
  },
  {
   "cell_type": "code",
   "execution_count": 0,
   "metadata": {
    "application/vnd.databricks.v1+cell": {
     "cellMetadata": {
      "byteLimit": 2048000,
      "rowLimit": 10000
     },
     "inputWidgets": {},
     "nuid": "b9827622-a1df-4b8f-a0c5-a18654652221",
     "showTitle": false,
     "title": ""
    }
   },
   "outputs": [
    {
     "output_type": "stream",
     "name": "stdout",
     "output_type": "stream",
     "text": [
      "Hello my name us Chaanyah Laborde, I am a Azure Data Engineer at Google, my pay is 125000 with a commission rate 5.150000\n"
     ]
    }
   ],
   "source": [
    "name = \"Chaanyah Laborde\"\n",
    "title = \"Azure Data Engineer\"\n",
    "salary = 125000\n",
    "comm = 5.15\n",
    "\n",
    "print(\"Hello my name us %s, I am a %s at Google, my pay is %d with a commission rate %f\"%(name, title, salary, comm))"
   ]
  },
  {
   "cell_type": "markdown",
   "metadata": {
    "application/vnd.databricks.v1+cell": {
     "cellMetadata": {},
     "inputWidgets": {},
     "nuid": "4ac3e5e4-1696-4cad-ae37-f546bd45ccf3",
     "showTitle": false,
     "title": ""
    }
   },
   "source": [
    "#### Python Indexes\n",
    "\n",
    "- left to right 0 to n\n",
    "- right to left -1 to -n\n",
    "- indexes max value (n-1)"
   ]
  },
  {
   "cell_type": "markdown",
   "metadata": {
    "application/vnd.databricks.v1+cell": {
     "cellMetadata": {},
     "inputWidgets": {},
     "nuid": "2d3f3922-d6be-448c-b16c-89bd896c9506",
     "showTitle": false,
     "title": ""
    }
   },
   "source": [
    "#### left to right\n",
    "\n",
    "1 2 3 4 5 6 7 8 9 10 <br>\n",
    "0 1 2 3 4 5 6 7 8 9\n",
    "\n",
    "\n",
    "#### right to left\n",
    "1   2  3  4  5  6  7  8  9  10 <br>\n",
    "-1 -2 -3 -4 -5 -6 -7 -8 -9 -10"
   ]
  }
 ],
 "metadata": {
  "application/vnd.databricks.v1+notebook": {
   "dashboards": [],
   "language": "python",
   "notebookMetadata": {
    "pythonIndentUnit": 4
   },
   "notebookName": "Tutorial-1-python-variables",
   "widgets": {}
  }
 },
 "nbformat": 4,
 "nbformat_minor": 0
}
