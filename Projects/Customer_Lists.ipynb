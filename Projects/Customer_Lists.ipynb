{
  "nbformat": 4,
  "nbformat_minor": 0,
  "metadata": {
    "colab": {
      "provenance": []
    },
    "kernelspec": {
      "name": "python3",
      "display_name": "Python 3"
    },
    "language_info": {
      "name": "python"
    }
  },
  "cells": [
    {
      "cell_type": "markdown",
      "source": [
        "## <b>Black Friday Customers</b>\n",
        "\n",
        "- Return 99.99 if customer C00009 made a purchase, otherwise return 0.0\n",
        "- Create seperate lists for the 5th adn 6th custoemr, every third customer, and the last 2 customers, we're conducting market research"
      ],
      "metadata": {
        "id": "SYiTRmZNwFc5"
      }
    },
    {
      "cell_type": "markdown",
      "source": [
        "### <b>List of customers that made purchases on Black Friday</b>\n",
        "\n",
        "The customers that made purchases on Black Friday were:\n",
        "\n",
        "C00001, C00003, C00004, C00005, C00006, C00007, C00018, C00010, C00013, C00014, C00015, C00016, C00029"
      ],
      "metadata": {
        "id": "HtLJBFXarsUj"
      }
    },
    {
      "cell_type": "code",
      "execution_count": 23,
      "metadata": {
        "id": "21zIlqHywDdh"
      },
      "outputs": [],
      "source": [
        "customer_list = [\n",
        "                 'C00001', 'C00003', 'C00004', 'C00005', 'C00006',\n",
        "                 'C00007', 'C00018', 'C00010', 'C00013', 'C00014',\n",
        "                 'C00015', 'C00016', 'C00029'\n",
        "                ]"
      ]
    },
    {
      "cell_type": "code",
      "source": [
        "customer_list"
      ],
      "metadata": {
        "colab": {
          "base_uri": "https://localhost:8080/"
        },
        "id": "FaJr8cdDsYFC",
        "outputId": "c9876d89-5fd7-4adc-8bab-c9d68de77ab7"
      },
      "execution_count": 24,
      "outputs": [
        {
          "output_type": "execute_result",
          "data": {
            "text/plain": [
              "['C00001',\n",
              " 'C00003',\n",
              " 'C00004',\n",
              " 'C00005',\n",
              " 'C00006',\n",
              " 'C00007',\n",
              " 'C00018',\n",
              " 'C00010',\n",
              " 'C00013',\n",
              " 'C00014',\n",
              " 'C00015',\n",
              " 'C00016',\n",
              " 'C00029']"
            ]
          },
          "metadata": {},
          "execution_count": 24
        }
      ]
    },
    {
      "cell_type": "markdown",
      "source": [
        "### <b>Did C00009 make a purchase</b>\n",
        "\n",
        "This customer said they made a purchase we're not seeing it inour data. If they did, we need to record the revenue."
      ],
      "metadata": {
        "id": "3fyZTlCqsxZD"
      }
    },
    {
      "cell_type": "code",
      "source": [
        "('C00009' in customer_list) * 99.99"
      ],
      "metadata": {
        "colab": {
          "base_uri": "https://localhost:8080/"
        },
        "id": "ZlqTr02IsaT2",
        "outputId": "d2cdc230-2145-4e54-e62a-4bfafd6726f0"
      },
      "execution_count": 22,
      "outputs": [
        {
          "output_type": "execute_result",
          "data": {
            "text/plain": [
              "0.0"
            ]
          },
          "metadata": {},
          "execution_count": 22
        }
      ]
    },
    {
      "cell_type": "markdown",
      "source": [
        "### <b>Market Research Samples</b>\n",
        "\n",
        "1. Contain the fifth and sixth customer and name the list `fifth_sixth`"
      ],
      "metadata": {
        "id": "Wa94m7_qtxRz"
      }
    },
    {
      "cell_type": "code",
      "source": [
        "# fifth_sixth = [customer_list[4], customer_list[5]]\n",
        "\n",
        "# or\n",
        "\n",
        "fifth_sixth = customer_list[4:6]\n",
        "\n",
        "fifth_sixth"
      ],
      "metadata": {
        "colab": {
          "base_uri": "https://localhost:8080/"
        },
        "id": "eauYgsl2thIa",
        "outputId": "5f654ab4-2107-47a9-a670-d7bc7d5de752"
      },
      "execution_count": 27,
      "outputs": [
        {
          "output_type": "execute_result",
          "data": {
            "text/plain": [
              "['C00006', 'C00007']"
            ]
          },
          "metadata": {},
          "execution_count": 27
        }
      ]
    },
    {
      "cell_type": "markdown",
      "source": [
        "2. Contains every third customer in the list (1st, 4th, 7th, and so on)"
      ],
      "metadata": {
        "id": "tmFEL8ObuK-W"
      }
    },
    {
      "cell_type": "code",
      "source": [
        "every_third = customer_list[::3]\n",
        "\n",
        "every_third"
      ],
      "metadata": {
        "colab": {
          "base_uri": "https://localhost:8080/"
        },
        "id": "EP4WWy_buHyl",
        "outputId": "bba0a1f9-01d7-4b36-d39e-b0081fdbf8ae"
      },
      "execution_count": 12,
      "outputs": [
        {
          "output_type": "execute_result",
          "data": {
            "text/plain": [
              "['C00001', 'C00005', 'C000018', 'C000014', 'C000029']"
            ]
          },
          "metadata": {},
          "execution_count": 12
        }
      ]
    },
    {
      "cell_type": "markdown",
      "source": [
        "3. Contains the last two customers within the company's dataset"
      ],
      "metadata": {
        "id": "0p3CVXuOuuNV"
      }
    },
    {
      "cell_type": "code",
      "source": [
        "last_two = customer_list[-2:]\n",
        "\n",
        "last_two"
      ],
      "metadata": {
        "colab": {
          "base_uri": "https://localhost:8080/"
        },
        "id": "g8ryGsHGuf3A",
        "outputId": "1e355f6a-6023-41f1-9f90-1731313daafe"
      },
      "execution_count": 16,
      "outputs": [
        {
          "output_type": "execute_result",
          "data": {
            "text/plain": [
              "['C000016', 'C000029']"
            ]
          },
          "metadata": {},
          "execution_count": 16
        }
      ]
    }
  ]
}