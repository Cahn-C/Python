{
  "nbformat": 4,
  "nbformat_minor": 0,
  "metadata": {
    "colab": {
      "provenance": []
    },
    "kernelspec": {
      "name": "python3",
      "display_name": "Python 3"
    },
    "language_info": {
      "name": "python"
    }
  },
  "cells": [
    {
      "cell_type": "markdown",
      "source": [
        "## <b>Project Overview</b>\n",
        "\n",
        "Help get the password from the value provided in the email"
      ],
      "metadata": {
        "id": "Px1wmnL8i2zh"
      }
    },
    {
      "cell_type": "markdown",
      "source": [
        "There are five text messages below.\n",
        "\n",
        "The length of each message repersents the letter in the alphabet for each character in the password"
      ],
      "metadata": {
        "id": "C9UFIaNcjfl2"
      }
    },
    {
      "cell_type": "code",
      "execution_count": 26,
      "metadata": {
        "id": "84l1X3UOicrY"
      },
      "outputs": [],
      "source": [
        "alphabet = \"abcdefghijklmnopqrstuvwxyz\"\n",
        "message1 = \"Hello World!\"\n",
        "message2 = ''\n",
        "message3 = \"It snowed a lot today\"\n",
        "message4 = \"eeee\"\n",
        "message5 = \"I love snow!!\""
      ]
    },
    {
      "cell_type": "markdown",
      "source": [
        "### <b>The length of the message repersents the letter in the `alphabet` variable for each character in the `password` variable</b>"
      ],
      "metadata": {
        "id": "pHHuMsbIoYX4"
      }
    },
    {
      "cell_type": "code",
      "source": [
        "print(\"message 1:\", len(message1))\n",
        "print(\"message 2:\", len(message2))\n",
        "print(\"message 3:\", len(message3))\n",
        "print(\"message 4:\", len(message4))\n",
        "print(\"message 5:\", len(message5))"
      ],
      "metadata": {
        "colab": {
          "base_uri": "https://localhost:8080/"
        },
        "id": "kfV4FW3ukrZQ",
        "outputId": "13fc1828-9190-4ce9-f229-5d83a4ffd822"
      },
      "execution_count": 29,
      "outputs": [
        {
          "output_type": "stream",
          "name": "stdout",
          "text": [
            "message 1: 12\n",
            "message 2: 0\n",
            "message 3: 21\n",
            "message 4: 4\n",
            "message 5: 13\n"
          ]
        }
      ]
    },
    {
      "cell_type": "markdown",
      "source": [
        "## <b>Crack the Code</b>\n",
        "\n",
        "Combine the characters retieved using the length function into a single string, and assign that to the variable `password`"
      ],
      "metadata": {
        "id": "JMMQ6dm-kEKB"
      }
    },
    {
      "cell_type": "code",
      "source": [
        "password = alphabet[12] + alphabet[0] + alphabet[21] + alphabet[4] + alphabet[13]\n",
        "\n",
        "password"
      ],
      "metadata": {
        "colab": {
          "base_uri": "https://localhost:8080/",
          "height": 35
        },
        "id": "vPHZ4ANKkCwp",
        "outputId": "3b14b551-21e7-4864-c21a-e775dafd17b2"
      },
      "execution_count": 28,
      "outputs": [
        {
          "output_type": "execute_result",
          "data": {
            "text/plain": [
              "'maven'"
            ],
            "application/vnd.google.colaboratory.intrinsic+json": {
              "type": "string"
            }
          },
          "metadata": {},
          "execution_count": 28
        }
      ]
    },
    {
      "cell_type": "code",
      "source": [
        "len(\"abcdefghijklm\")"
      ],
      "metadata": {
        "colab": {
          "base_uri": "https://localhost:8080/"
        },
        "id": "4NI_7ZoTkZvr",
        "outputId": "95806145-5e64-4eeb-d189-a11c9e424f9b"
      },
      "execution_count": 7,
      "outputs": [
        {
          "output_type": "execute_result",
          "data": {
            "text/plain": [
              "13"
            ]
          },
          "metadata": {},
          "execution_count": 7
        }
      ]
    }
  ]
}