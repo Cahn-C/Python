{
  "nbformat": 4,
  "nbformat_minor": 0,
  "metadata": {
    "colab": {
      "provenance": []
    },
    "kernelspec": {
      "name": "python3",
      "display_name": "Python 3"
    },
    "language_info": {
      "name": "python"
    }
  },
  "cells": [
    {
      "cell_type": "markdown",
      "source": [
        "## <b>Product Category Analysis</b>"
      ],
      "metadata": {
        "id": "dghibgjd8xsy"
      }
    },
    {
      "cell_type": "code",
      "execution_count": 2,
      "metadata": {
        "id": "f20zMXD1gBVv",
        "colab": {
          "base_uri": "https://localhost:8080/"
        },
        "outputId": "acb19cf4-b65e-40e0-ef25-762c64224b36"
      },
      "outputs": [
        {
          "output_type": "execute_result",
          "data": {
            "text/plain": [
              "{10001: ('Coffee', 5.27, 'beverage', ['250mL']),\n",
              " 10002: ('Beanie', 8.79, 'clothing', ['Child', 'Adult']),\n",
              " 10003: ('Gloves', 17.59, 'clothing', ['Child', 'Adult']),\n",
              " 10004: ('Sweatshirt', 21.99, 'clothing', ['XS', 'S', 'M', 'L', 'XL', 'XXL']),\n",
              " 10005: ('Helmet', 87.99, 'saftey', ['Child', 'Adult']),\n",
              " 10006: ('Snow Pants', 70.39, 'clothing', ['XS', 'S', 'M', 'L', 'XL', 'XXL']),\n",
              " 10007: ('Cost', 105.99, 'clothing', ['S', 'M', 'L']),\n",
              " 10008: ('Ski Poles', 87.99, 'hardware', ['S', 'M', 'L']),\n",
              " 10009: ('Ski Boots', 175.99, 'hardware', [5, 6, 7, 8, 9, 10, 11])}"
            ]
          },
          "metadata": {},
          "execution_count": 2
        }
      ],
      "source": [
        "item_ids = [10001, 10002, 10003, 10004, 10005, 10006, 10007, 10008, 10009]\n",
        "\n",
        "item_names = [\n",
        "    \"Coffee\",\n",
        "    \"Beanie\",\n",
        "    \"Gloves\",\n",
        "    \"Sweatshirt\",\n",
        "    \"Helmet\",\n",
        "    \"Snow Pants\",\n",
        "    \"Cost\",\n",
        "    \"Ski Poles\",\n",
        "    \"Ski Boots\"\n",
        "]\n",
        "\n",
        "euro_prices = [5.27, 8.79, 17.59, 21.99, 87.99, 70.39, 105.99, 87.99, 175.99]\n",
        "\n",
        "item_category = [\n",
        "    \"beverage\",\n",
        "    \"clothing\",\n",
        "    \"clothing\",\n",
        "    \"clothing\",\n",
        "    \"saftey\",\n",
        "    \"clothing\",\n",
        "    \"clothing\",\n",
        "    \"hardware\",\n",
        "    \"hardware\",\n",
        "]\n",
        "\n",
        "sizes = [\n",
        "    [\"250mL\"],\n",
        "    [\"Child\", \"Adult\"],\n",
        "    [\"Child\", \"Adult\"],\n",
        "    [\"XS\", \"S\", \"M\", \"L\", \"XL\", \"XXL\"],\n",
        "    [\"Child\", \"Adult\"],\n",
        "    [\"XS\", \"S\", \"M\", \"L\", \"XL\", \"XXL\"],\n",
        "    [\"S\", \"M\", \"L\"],\n",
        "    [\"S\", \"M\", \"L\"],\n",
        "    [5, 6, 7, 8, 9, 10, 11],\n",
        "    [\"S\", \"M\", \"L\"],\n",
        "    [5, 6, 7, 8, 9, 10, 11],\n",
        "    [\"S\", \"M\", \"L\"],\n",
        "    [\"NA\"],\n",
        "    [\"S\", \"M\", \"L\", \"Powder\"]\n",
        "]\n",
        "\n",
        "euro_items = dict(zip(item_ids, zip(item_names, euro_prices, item_category, sizes)))\n",
        "\n",
        "euro_items"
      ]
    },
    {
      "cell_type": "markdown",
      "source": [
        "### <b>Unique Categories</b>\n",
        "\n",
        "Collect the unique item categories from the dictionary `euro_itmes`"
      ],
      "metadata": {
        "id": "eqxC4-ji9f7M"
      }
    },
    {
      "cell_type": "code",
      "source": [
        "categories = []\n",
        "\n",
        "for category in euro_items.values():\n",
        "    categories.append(category[2])\n",
        "\n",
        "unique_categories = set(categories)\n",
        "\n",
        "unique_categories"
      ],
      "metadata": {
        "colab": {
          "base_uri": "https://localhost:8080/"
        },
        "id": "x3yycgql85fP",
        "outputId": "cbbcd5a0-8e84-4083-bd43-7d2a8d6b99ce"
      },
      "execution_count": 83,
      "outputs": [
        {
          "output_type": "execute_result",
          "data": {
            "text/plain": [
              "{'beverage', 'clothing', 'hardware', 'saftey'}"
            ]
          },
          "metadata": {},
          "execution_count": 83
        }
      ]
    },
    {
      "cell_type": "markdown",
      "source": [
        "### <b>Number of Categories</b>\n",
        "\n",
        "Get the number of categories"
      ],
      "metadata": {
        "id": "Mt_cdNpTAi8q"
      }
    },
    {
      "cell_type": "code",
      "source": [
        "len(unique_categories)"
      ],
      "metadata": {
        "colab": {
          "base_uri": "https://localhost:8080/"
        },
        "id": "_EUmjzemAqIk",
        "outputId": "cfea3f0b-8465-4f9a-ab0f-3b8b2b5e3023"
      },
      "execution_count": 84,
      "outputs": [
        {
          "output_type": "execute_result",
          "data": {
            "text/plain": [
              "4"
            ]
          },
          "metadata": {},
          "execution_count": 84
        }
      ]
    },
    {
      "cell_type": "markdown",
      "source": [
        "### <b>Is 'outdoor' in our set of categories?</b>\n",
        "\n",
        "Outdoor equipment is popular in Europe - I will need to see if the company has added items from that category based on the unique categories that I've created."
      ],
      "metadata": {
        "id": "yD494iP6A2bo"
      }
    },
    {
      "cell_type": "code",
      "source": [
        "'outdoor' in unique_categories"
      ],
      "metadata": {
        "colab": {
          "base_uri": "https://localhost:8080/"
        },
        "id": "LACXZz9ABLRo",
        "outputId": "37126339-3a7d-44c8-8038-5996b1cae859"
      },
      "execution_count": 85,
      "outputs": [
        {
          "output_type": "execute_result",
          "data": {
            "text/plain": [
              "False"
            ]
          },
          "metadata": {},
          "execution_count": 85
        }
      ]
    }
  ]
}