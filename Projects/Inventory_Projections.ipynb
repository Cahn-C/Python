{
  "nbformat": 4,
  "nbformat_minor": 0,
  "metadata": {
    "colab": {
      "provenance": []
    },
    "kernelspec": {
      "name": "python3",
      "display_name": "Python 3"
    },
    "language_info": {
      "name": "python"
    }
  },
  "cells": [
    {
      "cell_type": "markdown",
      "source": [
        "# <b>Inventory Projections</b>\n",
        "\n",
        "## <b>Calculate Projected Inventory for Each Month</b>\n",
        "\n",
        "The company currently have 686 pairs of skis in inventory, and sell 84 each month.\n",
        "\n",
        "The program should print out \"At the end of month <i>x</i>, we have <i>y</i> pairs of inventory\", where `x` is the number of months that has gone by and `y` is the remaining inventory at that month\n",
        "\n",
        "If inventory goes negative, the program will stop running."
      ],
      "metadata": {
        "id": "kb8Km2fEc3qr"
      }
    },
    {
      "cell_type": "code",
      "execution_count": 3,
      "metadata": {
        "colab": {
          "base_uri": "https://localhost:8080/"
        },
        "id": "4lD5UWf0aEjf",
        "outputId": "b078e445-89dd-4721-8f98-ad61bb666616"
      },
      "outputs": [
        {
          "output_type": "stream",
          "name": "stdout",
          "text": [
            "At the end of month 1, we have 602 pairs of skis\n",
            "At the end of month 2, we have 518 pairs of skis\n",
            "At the end of month 3, we have 434 pairs of skis\n",
            "At the end of month 4, we have 350 pairs of skis\n",
            "At the end of month 5, we have 266 pairs of skis\n",
            "At the end of month 6, we have 182 pairs of skis\n",
            "At the end of month 7, we have 98 pairs of skis\n",
            "At the end of month 8, we have 14 pairs of skis\n",
            "At the end of month 9, we have -70 pairs of skis\n"
          ]
        }
      ],
      "source": [
        "current_inventory = 686\n",
        "monthly_sales = 84\n",
        "month = 0\n",
        "\n",
        "while current_inventory > 0:\n",
        "  current_inventory -= monthly_sales\n",
        "  month += 1\n",
        "  print(f\"At the end of month {month}, we have {current_inventory} pairs of skis\")"
      ]
    }
  ]
}