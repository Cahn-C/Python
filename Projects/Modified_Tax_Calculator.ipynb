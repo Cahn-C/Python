{
  "nbformat": 4,
  "nbformat_minor": 0,
  "metadata": {
    "colab": {
      "provenance": []
    },
    "kernelspec": {
      "name": "python3",
      "display_name": "Python 3"
    },
    "language_info": {
      "name": "python"
    }
  },
  "cells": [
    {
      "cell_type": "code",
      "execution_count": 4,
      "metadata": {
        "colab": {
          "base_uri": "https://localhost:8080/"
        },
        "id": "I-pJvBPWBOL_",
        "outputId": "cbd6093f-0bdc-43bc-a5f0-b8a8a4276af1"
      },
      "outputs": [
        {
          "output_type": "stream",
          "name": "stdout",
          "text": [
            "Writing tax_calculator.py\n"
          ]
        }
      ],
      "source": [
        "%%writefile tax_calculator.py\n",
        "\n",
        "def tax_calculator(subtotal, sales_tax = .06):\n",
        "    \"\"\"\n",
        "      Description:\n",
        "        takes in a subtotal and tax rate and returns [subtotal, tax, total]\n",
        "\n",
        "      Args:\n",
        "        subtotal (float): cost of items in transaction\n",
        "        sales_tax (float): Default is set to 6% due to the calculator being created for Stowe employees\n",
        "\n",
        "      Returns:\n",
        "        list that contains the subtotal, tax and total\n",
        "    \"\"\"\n",
        "    tax = round(subtotal * sales_tax, 2)\n",
        "    total = round(tax + subtotal, 2)\n",
        "    return [subtotal, tax, total]"
      ]
    },
    {
      "cell_type": "code",
      "source": [
        "tax_calculator(100, .1)"
      ],
      "metadata": {
        "colab": {
          "base_uri": "https://localhost:8080/"
        },
        "id": "rsHZXc87Bqt2",
        "outputId": "eb93d9cb-a31a-42a0-d698-651327a9470d"
      },
      "execution_count": 5,
      "outputs": [
        {
          "output_type": "execute_result",
          "data": {
            "text/plain": [
              "[100, 10.0, 110.0]"
            ]
          },
          "metadata": {},
          "execution_count": 5
        }
      ]
    }
  ]
}