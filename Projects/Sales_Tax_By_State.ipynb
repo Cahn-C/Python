{
  "nbformat": 4,
  "nbformat_minor": 0,
  "metadata": {
    "colab": {
      "provenance": []
    },
    "kernelspec": {
      "name": "python3",
      "display_name": "Python 3"
    },
    "language_info": {
      "name": "python"
    }
  },
  "cells": [
    {
      "cell_type": "markdown",
      "source": [
        "# <b>Sales Tax By State</b>\n",
        "\n",
        "The company forgot to account the fact that different states have different tax rates.\n",
        "\n",
        "There is a list containing the location of each purchase. The transaction `subtotal()` took place at `locations()`."
      ],
      "metadata": {
        "id": "z2Dmgw5IVoyf"
      }
    },
    {
      "cell_type": "code",
      "source": [
        "subtotals = [15.98, 899.97, 799.97, 117.96, 5.99, 599.99, 24.99, 1799.94, 99.99]\n",
        "\n",
        "location = ['Sun Valley', 'Stowe', 'Mammoth', 'Stowe', 'Sun Valley', 'Mammoth', 'Mammoth', 'Mammoth', 'Sun Valley']"
      ],
      "metadata": {
        "id": "aajbTmOW-zxF"
      },
      "execution_count": 99,
      "outputs": []
    },
    {
      "cell_type": "markdown",
      "source": [
        "The following tax rates should be applied for each location:\n",
        "\n",
        "- Sun Valley: 8%\n",
        "- Stowe: 6%\n",
        "- Mammoth: 7.75%"
      ],
      "metadata": {
        "id": "oqH454wJWJ8M"
      }
    },
    {
      "cell_type": "code",
      "source": [
        "taxes = []\n",
        "totals = []\n",
        "\n",
        "for i, subtotal in enumerate(subtotals):\n",
        "  if location[i] == 'Sun Valley':\n",
        "    tax = round(subtotal * .08, 2)\n",
        "  elif location[i] == 'Stowe':\n",
        "    tax = round(subtotal * .06, 2)\n",
        "  else:\n",
        "    tax = round(subtotal * .0775, 2)\n",
        "  total = round(subtotal + tax, 2)\n",
        "  taxes.append(tax)\n",
        "  totals.append(total)\n",
        "\n",
        "print(taxes)\n",
        "print(totals)"
      ],
      "metadata": {
        "colab": {
          "base_uri": "https://localhost:8080/"
        },
        "id": "D1O2SM_NGQse",
        "outputId": "95da48fc-2bfb-4f59-9554-ee8d1c7aaac0"
      },
      "execution_count": 102,
      "outputs": [
        {
          "output_type": "stream",
          "name": "stdout",
          "text": [
            "[1.28, 54.0, 62.0, 7.08, 0.48, 46.5, 1.94, 139.5, 8.0]\n",
            "[17.26, 953.97, 861.97, 125.04, 6.47, 646.49, 26.93, 1939.44, 107.99]\n"
          ]
        }
      ]
    }
  ]
}