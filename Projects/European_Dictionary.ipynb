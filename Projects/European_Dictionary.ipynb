{
  "nbformat": 4,
  "nbformat_minor": 0,
  "metadata": {
    "colab": {
      "provenance": []
    },
    "kernelspec": {
      "name": "python3",
      "display_name": "Python 3"
    },
    "language_info": {
      "name": "python"
    }
  },
  "cells": [
    {
      "cell_type": "markdown",
      "source": [
        "# <b>European Item Dictionary</b>"
      ],
      "metadata": {
        "id": "YtbGiRUZh7Rh"
      }
    },
    {
      "cell_type": "code",
      "execution_count": 2,
      "metadata": {
        "id": "f20zMXD1gBVv"
      },
      "outputs": [],
      "source": [
        "item_ids = [10001, 10002, 10003, 10004, 10005, 10006, 10007, 10008, 10009]\n",
        "\n",
        "item_names = [\n",
        "    \"Coffee\",\n",
        "    \"Beanie\",\n",
        "    \"Gloves\",\n",
        "    \"Sweatshirt\",\n",
        "    \"Helmet\",\n",
        "    \"Snow Pants\",\n",
        "    \"Cost\",\n",
        "    \"Ski Poles\",\n",
        "    \"Ski Boots\"\n",
        "]\n",
        "\n",
        "euro_prices = [5.27, 8.79, 17.59, 21.99, 87.99, 70.39, 105.99, 87.99, 175.99]\n",
        "\n",
        "item_category = [\n",
        "    \"beverage\",\n",
        "    \"clothing\",\n",
        "    \"clothing\",\n",
        "    \"clothing\",\n",
        "    \"saftey\",\n",
        "    \"clothing\",\n",
        "    \"clothing\",\n",
        "    \"hardware\",\n",
        "    \"hardware\",\n",
        "]\n",
        "\n",
        "sizes = [\n",
        "    [\"250mL\"],\n",
        "    [\"Child\", \"Adult\"],\n",
        "    [\"Child\", \"Adult\"],\n",
        "    [\"XS\", \"S\", \"M\", \"L\", \"XL\", \"XXL\"],\n",
        "    [\"Child\", \"Adult\"],\n",
        "    [\"XS\", \"S\", \"M\", \"L\", \"XL\", \"XXL\"],\n",
        "    [\"S\", \"M\", \"L\"],\n",
        "    [\"S\", \"M\", \"L\"],\n",
        "    [5, 6, 7, 8, 9, 10, 11],\n",
        "    [\"S\", \"M\", \"L\"],\n",
        "    [5, 6, 7, 8, 9, 10, 11],\n",
        "    [\"S\", \"M\", \"L\"],\n",
        "    [\"NA\"],\n",
        "    [\"S\", \"M\", \"L\", \"Powder\"]\n",
        "]"
      ]
    },
    {
      "cell_type": "markdown",
      "source": [
        "Create a dictionary with the `item_ids` as keys and the rest of the data as values\n",
        "\n",
        "The values need to be in the following order: `item_names`, `euro_prices`, `item_category`, `sizes`."
      ],
      "metadata": {
        "id": "a7SwM8GviZ2Y"
      }
    },
    {
      "cell_type": "code",
      "source": [
        "euro_items = dict(zip(item_ids, zip(item_names, euro_prices, item_category, sizes)))\n",
        "\n",
        "euro_items"
      ],
      "metadata": {
        "colab": {
          "base_uri": "https://localhost:8080/"
        },
        "id": "g8Xmw0FmiB4p",
        "outputId": "e8303c02-c2a4-40aa-ec0f-f1978331c69f"
      },
      "execution_count": 22,
      "outputs": [
        {
          "output_type": "execute_result",
          "data": {
            "text/plain": [
              "{10001: ('Coffee', 5.27, 'beverage', ['250mL']),\n",
              " 10002: ('Beanie', 8.79, 'clothing', ['Child', 'Adult']),\n",
              " 10003: ('Gloves', 17.59, 'clothing', ['Child', 'Adult']),\n",
              " 10004: ('Sweatshirt', 21.99, 'clothing', ['XS', 'S', 'M', 'L', 'XL', 'XXL']),\n",
              " 10005: ('Helmet', 87.99, 'saftey', ['Child', 'Adult']),\n",
              " 10006: ('Snow Pants', 70.39, 'clothing', ['XS', 'S', 'M', 'L', 'XL', 'XXL']),\n",
              " 10007: ('Cost', 105.99, 'clothing', ['S', 'M', 'L']),\n",
              " 10008: ('Ski Poles', 87.99, 'hardware', ['S', 'M', 'L']),\n",
              " 10009: ('Ski Boots', 175.99, 'hardware', [5, 6, 7, 8, 9, 10, 11])}"
            ]
          },
          "metadata": {},
          "execution_count": 22
        }
      ]
    }
  ]
}