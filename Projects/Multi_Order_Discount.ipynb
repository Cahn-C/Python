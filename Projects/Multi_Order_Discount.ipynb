{
  "nbformat": 4,
  "nbformat_minor": 0,
  "metadata": {
    "colab": {
      "provenance": []
    },
    "kernelspec": {
      "name": "python3",
      "display_name": "Python 3"
    },
    "language_info": {
      "name": "python"
    }
  },
  "cells": [
    {
      "cell_type": "markdown",
      "source": [
        "# <b>Multi-Order Discount</b>\n",
        "\n",
        "## <b>Apply Discounts for Multi-Order Customer</b>\n",
        "\n",
        "I need to apply a 10% discount to every transaction in the list below.\n",
        "\n",
        "I will also assign the discounted transactions to a new list: `discounted_prices`"
      ],
      "metadata": {
        "id": "xuVao4SpEMbr"
      }
    },
    {
      "cell_type": "code",
      "execution_count": 3,
      "metadata": {
        "colab": {
          "base_uri": "https://localhost:8080/"
        },
        "id": "zFrkWbMGEK9s",
        "outputId": "aec2724e-0f09-4f41-d2fb-1bbf9910a190"
      },
      "outputs": [
        {
          "output_type": "execute_result",
          "data": {
            "text/plain": [
              "[[1799.94, 29.98, 99.99],\n",
              " [15.98, 119.99],\n",
              " [24.99, 24.99],\n",
              " [649.99, 99.99],\n",
              " [599.99, 399.97]]"
            ]
          },
          "metadata": {},
          "execution_count": 3
        }
      ],
      "source": [
        "orders_c00001 = [1799.94, 29.98, 99.99]\n",
        "orders_c00002 = [15.98, 119.99]\n",
        "orders_c00003 = [24.99, 24.99]\n",
        "orders_c00004 = [649.99, 99.99]\n",
        "orders_c00005 = [599.99, 399.97]\n",
        "\n",
        "multi_order_customers = [orders_c00001, orders_c00002, orders_c00003, orders_c00004, orders_c00005]\n",
        "\n",
        "multi_order_customers"
      ]
    },
    {
      "cell_type": "code",
      "source": [
        "discount_prices = []\n",
        "\n",
        "for customer in multi_order_customers: # Iterate through the multi_order_customers list\n",
        "    customer_discount = [] # Empty list\n",
        "    for transactions in customer: # Iterate through each nested list which is customer\n",
        "        customer_discount.append(round(transactions * .9, 2))\n",
        "    discount_prices.append(customer_discount)\n",
        "discount_prices"
      ],
      "metadata": {
        "colab": {
          "base_uri": "https://localhost:8080/"
        },
        "id": "J4JP9tZwEWbH",
        "outputId": "d2abfb68-8f8b-4dff-81be-61b45669d8a5"
      },
      "execution_count": 27,
      "outputs": [
        {
          "output_type": "execute_result",
          "data": {
            "text/plain": [
              "[[1619.95, 26.98, 89.99],\n",
              " [14.38, 107.99],\n",
              " [22.49, 22.49],\n",
              " [584.99, 89.99],\n",
              " [539.99, 359.97]]"
            ]
          },
          "metadata": {},
          "execution_count": 27
        }
      ]
    }
  ]
}