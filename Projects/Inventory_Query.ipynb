{
  "nbformat": 4,
  "nbformat_minor": 0,
  "metadata": {
    "colab": {
      "provenance": []
    },
    "kernelspec": {
      "name": "python3",
      "display_name": "Python 3"
    },
    "language_info": {
      "name": "python"
    }
  },
  "cells": [
    {
      "cell_type": "markdown",
      "source": [
        "## <b>Inventory Message</b>\n",
        "\n",
        "- If inventory is negative or 0, print 'OUT OF STOCK'\n",
        "- If inventory is greater than 0, and less than or equal to 5, print \"Low Stock\"\n",
        "- If inventory is anything else, print \"In Stock\""
      ],
      "metadata": {
        "id": "17WW94_OWnNO"
      }
    },
    {
      "cell_type": "code",
      "execution_count": 5,
      "metadata": {
        "id": "uP2h5sALQw8_"
      },
      "outputs": [],
      "source": [
        "inventory = -1"
      ]
    },
    {
      "cell_type": "code",
      "source": [
        "if inventory <= 0:\n",
        "  print(\"out of stock\".upper())\n",
        "elif inventory >= 1 and inventory <= 5:\n",
        "  print(\"Low Stock\")\n",
        "else:\n",
        "  print(\"Stock\")"
      ],
      "metadata": {
        "colab": {
          "base_uri": "https://localhost:8080/"
        },
        "id": "vt_JE_CZWyzN",
        "outputId": "2e27b5b7-8997-4215-928e-a521ac4a3991"
      },
      "execution_count": 7,
      "outputs": [
        {
          "output_type": "stream",
          "name": "stdout",
          "text": [
            "OUT OF STOCK\n"
          ]
        }
      ]
    },
    {
      "cell_type": "markdown",
      "source": [
        "## <b>Iventory Query Edit</b>\n",
        "\n",
        "- If inventory is 0 or less, and if the customer's name is \"Christ\", print \"You can have the display model, sir\"\n",
        "- Otherwise, print \"Out of stock\""
      ],
      "metadata": {
        "id": "P_fZwGARZuo3"
      }
    },
    {
      "cell_type": "code",
      "source": [
        "inventory = 0\n",
        "customer_name = \"Christ\""
      ],
      "metadata": {
        "id": "D2ceRtyJZtSr"
      },
      "execution_count": 43,
      "outputs": []
    },
    {
      "cell_type": "markdown",
      "source": [
        "## <b>With Nested Logic</b>"
      ],
      "metadata": {
        "id": "jCE_HKpXb4ZU"
      }
    },
    {
      "cell_type": "code",
      "source": [
        "if inventory <= 0:\n",
        "  if customer_name == \"Christ\":\n",
        "    print(\"You have the display model sir\")\n",
        "  else:\n",
        "    print(\"Out of stock\")\n",
        "elif inventory >= 1 and inventory <= 5:\n",
        "  print(\"Low stock\")\n",
        "else:\n",
        "  print(\"In stock\")"
      ],
      "metadata": {
        "colab": {
          "base_uri": "https://localhost:8080/"
        },
        "id": "TrFjuEKJafwx",
        "outputId": "a2f2156e-d536-47e3-8567-e177fba0df5b"
      },
      "execution_count": 44,
      "outputs": [
        {
          "output_type": "stream",
          "name": "stdout",
          "text": [
            "You have the display model sir\n"
          ]
        }
      ]
    },
    {
      "cell_type": "markdown",
      "source": [
        "## <b>Without Nested Logic</b>"
      ],
      "metadata": {
        "id": "bzNMB9zzb99k"
      }
    },
    {
      "cell_type": "code",
      "source": [
        "if inventory <= 0 and customer_name == \"Christ\":\n",
        "  print(\"You have the display model sir\")\n",
        "elif inventory >= 1 and inventory <= 5 and customer_name:\n",
        "  print(\"Low Stock\")\n",
        "elif inventory > 5:\n",
        "  print(\"In stock\")\n",
        "else:\n",
        "  print(\"Out of stock\")"
      ],
      "metadata": {
        "colab": {
          "base_uri": "https://localhost:8080/"
        },
        "id": "ABbtQT6nb9kD",
        "outputId": "0270a9c7-36a2-4d7b-aadc-b7e4f306dd90"
      },
      "execution_count": 45,
      "outputs": [
        {
          "output_type": "stream",
          "name": "stdout",
          "text": [
            "You have the display model sir\n"
          ]
        }
      ]
    }
  ]
}