{
  "nbformat": 4,
  "nbformat_minor": 0,
  "metadata": {
    "colab": {
      "provenance": []
    },
    "kernelspec": {
      "name": "python3",
      "display_name": "Python 3"
    },
    "language_info": {
      "name": "python"
    }
  },
  "cells": [
    {
      "cell_type": "markdown",
      "source": [
        "## <b>Inventory Message</b>\n",
        "\n",
        "- If inventory is negative or 0, print 'OUT OF STOCK'\n",
        "- If inventory is greater than 0, and less than or equal to 5, print \"Low Stock\"\n",
        "- If inventory is anything else, print \"In Stock\""
      ],
      "metadata": {
        "id": "17WW94_OWnNO"
      }
    },
    {
      "cell_type": "code",
      "execution_count": 5,
      "metadata": {
        "id": "uP2h5sALQw8_"
      },
      "outputs": [],
      "source": [
        "inventory = -1"
      ]
    },
    {
      "cell_type": "code",
      "source": [
        "if inventory <= 0:\n",
        "  print(\"out of stock\".upper())\n",
        "elif inventory >= 1 and inventory <= 5:\n",
        "  print(\"Low Stock\")\n",
        "else:\n",
        "  print(\"Stock\")"
      ],
      "metadata": {
        "colab": {
          "base_uri": "https://localhost:8080/"
        },
        "id": "vt_JE_CZWyzN",
        "outputId": "cad7b94e-0d35-4505-acb9-c7ebebf4f61b"
      },
      "execution_count": 6,
      "outputs": [
        {
          "output_type": "stream",
          "name": "stdout",
          "text": [
            "OUT OF STOCK\n"
          ]
        }
      ]
    }
  ]
}