{
  "nbformat": 4,
  "nbformat_minor": 0,
  "metadata": {
    "colab": {
      "provenance": []
    },
    "kernelspec": {
      "name": "python3",
      "display_name": "Python 3"
    },
    "language_info": {
      "name": "python"
    }
  },
  "cells": [
    {
      "cell_type": "markdown",
      "source": [
        "# <b>Using the tax calculator</b>\n",
        "\n",
        "Import the tax calculator"
      ],
      "metadata": {
        "id": "kQ94HBF9O4R9"
      }
    },
    {
      "cell_type": "code",
      "source": [
        "from tax_calculator import tax_calculator"
      ],
      "metadata": {
        "id": "LV80DyaSPCO4"
      },
      "execution_count": 25,
      "outputs": []
    },
    {
      "cell_type": "markdown",
      "source": [
        "## <b>Processing Transactions</b>\n",
        "\n",
        "Apply the tax calculator to the list of subtotals below."
      ],
      "metadata": {
        "id": "D96JBkVjPQI1"
      }
    },
    {
      "cell_type": "code",
      "source": [
        "subtotals = [15.98, 899.97, 799.97, 117.96, 5.98, 599.99]\n",
        "\n",
        "full_transactions = []\n",
        "\n",
        "for subtotal in subtotals:\n",
        "    full_transactions.append(tax_calculator(subtotal))\n",
        "\n",
        "full_transactions"
      ],
      "metadata": {
        "colab": {
          "base_uri": "https://localhost:8080/"
        },
        "id": "p_r4dqHvP_No",
        "outputId": "ecc2a03b-04d5-4915-90df-1cbddb6a483a"
      },
      "execution_count": 26,
      "outputs": [
        {
          "output_type": "execute_result",
          "data": {
            "text/plain": [
              "[[15.98, 0.96, 16.94],\n",
              " [899.97, 54.0, 953.97],\n",
              " [799.97, 48.0, 847.97],\n",
              " [117.96, 7.08, 125.04],\n",
              " [5.98, 0.36, 6.34],\n",
              " [599.99, 36.0, 635.99]]"
            ]
          },
          "metadata": {},
          "execution_count": 26
        }
      ]
    },
    {
      "cell_type": "markdown",
      "source": [
        "## <b>Transaction Dictionary</b>\n",
        "\n",
        "Combine the transactoins with the customer_ids below into a dictionary\n",
        "\n",
        "The customer_ids will be keys, and the transactions will be the values"
      ],
      "metadata": {
        "id": "aeVo39SIRA9t"
      }
    },
    {
      "cell_type": "code",
      "source": [
        "customer_ids = ['C00004', 'C00007', 'C00015', 'C00016', 'C00020', 'C00010']\n",
        "\n",
        "customer_dict = dict(zip(customer_ids, full_transactions))\n",
        "\n",
        "customer_dict"
      ],
      "metadata": {
        "colab": {
          "base_uri": "https://localhost:8080/"
        },
        "id": "BmD7-IwTRRFk",
        "outputId": "9d2d2432-39bb-4e74-f9d1-d2cdc08c3de8"
      },
      "execution_count": 27,
      "outputs": [
        {
          "output_type": "execute_result",
          "data": {
            "text/plain": [
              "{'C00004': [15.98, 0.96, 16.94],\n",
              " 'C00007': [899.97, 54.0, 953.97],\n",
              " 'C00015': [799.97, 48.0, 847.97],\n",
              " 'C00016': [117.96, 7.08, 125.04],\n",
              " 'C00020': [5.98, 0.36, 6.34],\n",
              " 'C00010': [599.99, 36.0, 635.99]}"
            ]
          },
          "metadata": {},
          "execution_count": 27
        }
      ]
    }
  ]
}