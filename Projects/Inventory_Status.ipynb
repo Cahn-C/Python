{
  "nbformat": 4,
  "nbformat_minor": 0,
  "metadata": {
    "colab": {
      "provenance": []
    },
    "kernelspec": {
      "name": "python3",
      "display_name": "Python 3"
    },
    "language_info": {
      "name": "python"
    }
  },
  "cells": [
    {
      "cell_type": "markdown",
      "source": [
        "# <b>Inventory Status</b>\n",
        "\n"
      ],
      "metadata": {
        "id": "aTe4tTHZvt14"
      }
    },
    {
      "cell_type": "code",
      "execution_count": 7,
      "metadata": {
        "id": "oBnkz_wguEN9"
      },
      "outputs": [],
      "source": [
        "items = ['skis', 'snowboard', 'goggles', 'boots']\n",
        "inventory = [10, 0, 0, 7]"
      ]
    },
    {
      "cell_type": "markdown",
      "source": [
        "## <b>Inventory Status Dictonary</b>\n",
        "\n",
        "I will need to create a dictonary that stores the following:\n",
        "\n",
        "- Stores item as the key pairs.\n",
        "- Values are 'sold out' if inventory is 0, and 'in stock' if not."
      ],
      "metadata": {
        "id": "J4Shx8XSv8Z5"
      }
    },
    {
      "cell_type": "code",
      "source": [
        "inventory_status = {}\n",
        "\n",
        "for i, item in enumerate(items):\n",
        "    if inventory[i] > 0: # inventory[i] == 0 works as well\n",
        "       inventory_status[item] = 'in stock'\n",
        "    else:\n",
        "       inventory_status[item] = 'sold out'\n",
        "\n",
        "inventory_status"
      ],
      "metadata": {
        "id": "YrpSJ2IPv7nf"
      },
      "execution_count": null,
      "outputs": []
    }
  ]
}