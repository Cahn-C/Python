{
  "nbformat": 4,
  "nbformat_minor": 0,
  "metadata": {
    "colab": {
      "provenance": []
    },
    "kernelspec": {
      "name": "python3",
      "display_name": "Python 3"
    },
    "language_info": {
      "name": "python"
    }
  },
  "cells": [
    {
      "cell_type": "markdown",
      "source": [
        "# <b>Financial Calculations"
      ],
      "metadata": {
        "id": "osvG5-qRpXM8"
      }
    },
    {
      "cell_type": "markdown",
      "source": [
        "## <b>1. Calculate the gross profit on our snowboard</b>\n",
        "\n",
        "Formula: Price minus cost"
      ],
      "metadata": {
        "id": "BB0sADn0pjDW"
      }
    },
    {
      "cell_type": "code",
      "source": [
        "snowboard_price = 499.99\n",
        "snowboard_cost = 199.99\n",
        "\n",
        "gross_profit = snowboard_price - snowboard_cost\n",
        "\n",
        "print(gross_profit)"
      ],
      "metadata": {
        "id": "6CF9qz2Bm2kk",
        "colab": {
          "base_uri": "https://localhost:8080/"
        },
        "outputId": "6cf27c85-ecc2-436f-ff31-37a92af495f5"
      },
      "execution_count": 27,
      "outputs": [
        {
          "output_type": "stream",
          "name": "stdout",
          "text": [
            "300.0\n"
          ]
        }
      ]
    },
    {
      "cell_type": "markdown",
      "source": [
        "## <b>2. Calculate the gross margin on our snowboard</b>\n",
        "\n",
        "Formula: Gross profit divided by price"
      ],
      "metadata": {
        "id": "S1BsTh6lqwEv"
      }
    },
    {
      "cell_type": "code",
      "source": [
        "gross_margin = gross_profit / snowboard_price\n",
        "\n",
        "\n",
        "print(gross_margin)"
      ],
      "metadata": {
        "id": "pcC4FGukqu5K",
        "colab": {
          "base_uri": "https://localhost:8080/"
        },
        "outputId": "86766493-c636-4bcc-e0b5-90ab5ed1ab71"
      },
      "execution_count": 28,
      "outputs": [
        {
          "output_type": "stream",
          "name": "stdout",
          "text": [
            "0.6000120002400048\n"
          ]
        }
      ]
    },
    {
      "cell_type": "markdown",
      "source": [
        "## <b>3. Calculate the price needed to obtain a gross margin of 70%</b>\n",
        "\n",
        "Formula: Cost divided by (1 minus the desired margin)"
      ],
      "metadata": {
        "id": "zBr8IbSFtvCJ"
      }
    },
    {
      "cell_type": "code",
      "source": [
        "desired_margin = .7\n",
        "gross_margin_70per = snowboard_cost / (1 - desired_margin)\n",
        "\n",
        "\n",
        "print(gross_margin_70per)"
      ],
      "metadata": {
        "id": "s--dr-n9tvaO",
        "colab": {
          "base_uri": "https://localhost:8080/"
        },
        "outputId": "0afd7d4d-954e-408e-a445-9af161beaec2"
      },
      "execution_count": 29,
      "outputs": [
        {
          "output_type": "stream",
          "name": "stdout",
          "text": [
            "666.6333333333332\n"
          ]
        }
      ]
    },
    {
      "cell_type": "markdown",
      "source": [
        "## <b>4. Calculate the sales tax on a sale of our snowboard</b>\n",
        "\n",
        "Tax Rate: 8%\n",
        "\n",
        "Formula: Price times taxe rate"
      ],
      "metadata": {
        "id": "wvUZfiGrupvW"
      }
    },
    {
      "cell_type": "code",
      "source": [
        "tax_rate = .08\n",
        "sales_tax = snowboard_price * tax_rate\n",
        "\n",
        "\n",
        "print(int(sales_tax))"
      ],
      "metadata": {
        "id": "oM07rIqLu20D",
        "colab": {
          "base_uri": "https://localhost:8080/"
        },
        "outputId": "1fb6668b-9367-4164-b800-ab82c2ff75ff"
      },
      "execution_count": 30,
      "outputs": [
        {
          "output_type": "stream",
          "name": "stdout",
          "text": [
            "39\n"
          ]
        }
      ]
    },
    {
      "cell_type": "markdown",
      "source": [
        "## <b>5. Calculate the amount of money we'd have if we invested the profit from selling 5 snowboards for one year</b>\n",
        "\n",
        "Assume an interest rate of 5%\n",
        "\n",
        "The formula is the amount_invested plus (amount_invested times interest_rate)"
      ],
      "metadata": {
        "id": "fLQ8m-8Ru5bW"
      }
    },
    {
      "cell_type": "code",
      "source": [
        "amount_invested = gross_profit * 5\n",
        "interset_rate = .05\n",
        "amount_after_1year = amount_invested + (amount_invested * interset_rate)\n",
        "\n",
        "\n",
        "print(amount_after_1year)"
      ],
      "metadata": {
        "id": "UYCY3kKk1ocO",
        "colab": {
          "base_uri": "https://localhost:8080/"
        },
        "outputId": "af288d9b-0e8f-426b-ed66-ef966f0a8f5d"
      },
      "execution_count": 31,
      "outputs": [
        {
          "output_type": "stream",
          "name": "stdout",
          "text": [
            "1575.0\n"
          ]
        }
      ]
    }
  ]
}