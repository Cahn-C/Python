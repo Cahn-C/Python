{
  "nbformat": 4,
  "nbformat_minor": 0,
  "metadata": {
    "colab": {
      "provenance": []
    },
    "kernelspec": {
      "name": "python3",
      "display_name": "Python 3"
    },
    "language_info": {
      "name": "python"
    }
  },
  "cells": [
    {
      "cell_type": "markdown",
      "source": [
        "# <b>Snack Dictonary</b>"
      ],
      "metadata": {
        "id": "JMD8D92Psr4B"
      }
    },
    {
      "cell_type": "code",
      "source": [
        "snacks = {\n",
        "    'Sally': 'Popcorn',\n",
        "    'Ricard': 'Chocolate Ice Cream',\n",
        "    'Stuart': 'Apple Pie',\n",
        "    'Jerry': 'Raisins',\n",
        "    'Sierra': 'Peanut Butter Cookies'\n",
        "}"
      ],
      "metadata": {
        "id": "i99IVHXNr1tj"
      },
      "execution_count": 23,
      "outputs": []
    },
    {
      "cell_type": "markdown",
      "source": [
        "Lookup Stuart's favorite snack"
      ],
      "metadata": {
        "id": "WkVqtVDXsx_p"
      }
    },
    {
      "cell_type": "code",
      "source": [
        "snacks['Stuart']"
      ],
      "metadata": {
        "colab": {
          "base_uri": "https://localhost:8080/",
          "height": 35
        },
        "id": "6DtQt2ILsHD4",
        "outputId": "e4efbe8c-5aa6-4ec4-863b-fad49b859378"
      },
      "execution_count": 15,
      "outputs": [
        {
          "output_type": "execute_result",
          "data": {
            "text/plain": [
              "'Apple Pie'"
            ],
            "application/vnd.google.colaboratory.intrinsic+json": {
              "type": "string"
            }
          },
          "metadata": {},
          "execution_count": 15
        }
      ]
    },
    {
      "cell_type": "markdown",
      "source": [
        "Make the following changes to the dictonary:\n",
        "\n",
        "- Add Alfie, his favorite snack is 'Cheese and Crackers'.\n",
        "- Change Jerry's favorite snack to 'Fig Bars'\n",
        "- Finally, remove Sierra, she never worked here, not sure how she got on the list."
      ],
      "metadata": {
        "id": "8tA_WDTrs3Xq"
      }
    },
    {
      "cell_type": "code",
      "source": [
        "snacks['Alfie'] = 'Cheese and Crackers'"
      ],
      "metadata": {
        "id": "BRRe77j3sLEe"
      },
      "execution_count": 26,
      "outputs": []
    },
    {
      "cell_type": "code",
      "source": [
        "snacks['Jerry'] = 'Fig Bars'"
      ],
      "metadata": {
        "id": "441H13K1sS9E"
      },
      "execution_count": 18,
      "outputs": []
    },
    {
      "cell_type": "code",
      "source": [
        "del snacks['Sierra']"
      ],
      "metadata": {
        "id": "Tw7QcP8csZ3b"
      },
      "execution_count": 24,
      "outputs": []
    },
    {
      "cell_type": "markdown",
      "source": [
        "### <b>New and Improved Snacks Dictonary</b>"
      ],
      "metadata": {
        "id": "8VXAjqyBtQuK"
      }
    },
    {
      "cell_type": "code",
      "source": [
        "snacks"
      ],
      "metadata": {
        "colab": {
          "base_uri": "https://localhost:8080/"
        },
        "id": "yQbwNUkksee7",
        "outputId": "dcdd8c23-4651-4ca5-920d-84c42d9089aa"
      },
      "execution_count": 27,
      "outputs": [
        {
          "output_type": "execute_result",
          "data": {
            "text/plain": [
              "{'Sally': 'Popcorn',\n",
              " 'Ricard': 'Chocolate Ice Cream',\n",
              " 'Stuart': 'Apple Pie',\n",
              " 'Jerry': 'Raisins',\n",
              " 'Alfie': 'Cheese and Crackers'}"
            ]
          },
          "metadata": {},
          "execution_count": 27
        }
      ]
    }
  ]
}