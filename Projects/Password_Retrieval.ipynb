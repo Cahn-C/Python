{
  "nbformat": 4,
  "nbformat_minor": 0,
  "metadata": {
    "colab": {
      "provenance": []
    },
    "kernelspec": {
      "name": "python3",
      "display_name": "Python 3"
    },
    "language_info": {
      "name": "python"
    }
  },
  "cells": [
    {
      "cell_type": "markdown",
      "source": [
        "### <b>Retrieve the hidden password created by a co-worker</b>"
      ],
      "metadata": {
        "id": "rVyCbc1B3oFs"
      }
    },
    {
      "cell_type": "code",
      "execution_count": 1,
      "metadata": {
        "id": "mWAlGLS13SoN"
      },
      "outputs": [],
      "source": [
        "text1 = '          Your friend Mark'\n",
        "text2 = 'was'\n",
        "text3 = 'having'\n",
        "text4 = 'a great day'\n",
        "text5 = 'on the mountain'"
      ]
    },
    {
      "cell_type": "code",
      "source": [
        "maven = text1[-4] + text2[1] + text3[2] + text4[4] + text5[-1]"
      ],
      "metadata": {
        "id": "5jCWehue38-g"
      },
      "execution_count": 4,
      "outputs": []
    },
    {
      "cell_type": "code",
      "source": [
        "maven"
      ],
      "metadata": {
        "colab": {
          "base_uri": "https://localhost:8080/",
          "height": 35
        },
        "id": "n0wFkiuk4R5Z",
        "outputId": "78126740-06fd-4af0-fcba-4abcf613cce6"
      },
      "execution_count": 5,
      "outputs": [
        {
          "output_type": "execute_result",
          "data": {
            "text/plain": [
              "'Maven'"
            ],
            "application/vnd.google.colaboratory.intrinsic+json": {
              "type": "string"
            }
          },
          "metadata": {},
          "execution_count": 5
        }
      ]
    },
    {
      "cell_type": "code",
      "source": [
        "print(\"The secret password is\", maven)"
      ],
      "metadata": {
        "colab": {
          "base_uri": "https://localhost:8080/"
        },
        "id": "Gf0he7504Sd2",
        "outputId": "ff8181fe-6e38-4d95-fa1d-cc5758fb3348"
      },
      "execution_count": 7,
      "outputs": [
        {
          "output_type": "stream",
          "name": "stdout",
          "text": [
            "The secret password is Maven\n"
          ]
        }
      ]
    }
  ]
}