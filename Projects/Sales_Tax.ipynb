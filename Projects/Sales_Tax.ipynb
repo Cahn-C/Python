{
  "nbformat": 4,
  "nbformat_minor": 0,
  "metadata": {
    "colab": {
      "provenance": []
    },
    "kernelspec": {
      "name": "python3",
      "display_name": "Python 3"
    },
    "language_info": {
      "name": "python"
    }
  },
  "cells": [
    {
      "cell_type": "markdown",
      "source": [
        "# <b>Applying Sales Tax</b>"
      ],
      "metadata": {
        "id": "lvjXisM7uljm"
      }
    },
    {
      "cell_type": "markdown",
      "source": [
        "The transactions are below:"
      ],
      "metadata": {
        "id": "-aOh3656u-2p"
      }
    },
    {
      "cell_type": "code",
      "execution_count": 9,
      "metadata": {
        "id": "x7YJI-dduiBE"
      },
      "outputs": [],
      "source": [
        "subtotals = [15.98, 899.97, 799.97, 117.96, 5.99, 599.99, 24.99, 1799.94, 99.99]"
      ]
    },
    {
      "cell_type": "markdown",
      "source": [
        "I will need to apply sales tax to all of the transactions\n",
        "\n",
        "The tax rate is 8%\n",
        "\n",
        "Once I've calculated the taxes, I will then need to add them to their subtotals and calculate the total invoice value\n",
        "\n",
        "- `taxes`: The first should be a list of the tax amounts on each transaction, rounded to the nearest .01\n",
        "- `totals`: The second should be a list where each element is subtotal[i] + tax[i]"
      ],
      "metadata": {
        "id": "U4_qRjQAvXdP"
      }
    },
    {
      "cell_type": "code",
      "source": [
        "taxes = []\n",
        "totals = []\n",
        "\n",
        "for subtotal in subtotals:\n",
        "  tax = round(subtotal * .08, 2)\n",
        "  total = round(subtotal + tax, 2)\n",
        "  taxes.append(tax)\n",
        "  totals.append(total)\n",
        "\n",
        "print(taxes)\n",
        "print(totals)"
      ],
      "metadata": {
        "colab": {
          "base_uri": "https://localhost:8080/"
        },
        "id": "v4s0cZt2vT07",
        "outputId": "f1c0a758-b0b9-4626-f70b-4baaaf3389d1"
      },
      "execution_count": 20,
      "outputs": [
        {
          "output_type": "stream",
          "name": "stdout",
          "text": [
            "[1.28, 72.0, 64.0, 9.44, 0.48, 48.0, 2.0, 144.0, 8.0]\n",
            "[17.26, 971.97, 863.97, 127.4, 6.47, 647.99, 26.99, 1943.94, 107.99]\n"
          ]
        }
      ]
    }
  ]
}