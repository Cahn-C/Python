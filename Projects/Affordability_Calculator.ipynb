{
  "cells": [
    {
      "cell_type": "markdown",
      "metadata": {
        "id": "ht23AlzaPcEN"
      },
      "source": [
        "# <b>Affordability  Calculator</b>\n",
        "\n",
        "The company wants to make sure that their affordability calculator can handle many data types without stopping - the data is very messy. I will need to make the following changes:\n",
        "\n",
        "- Make sure it converts the string in the list below into a float. Print a warnging that this was string data. Then process as usual\n",
        "- Also, have the loop skip any instances of `None` data types.\n",
        "- Then, remove the generic except statement to avoid processing errors.\n",
        "- Finally, change the hard coded value 50 into a variable so we can change this value based on each customer's budget."
      ]
    },
    {
      "cell_type": "code",
      "execution_count": 23,
      "metadata": {
        "colab": {
          "base_uri": "https://localhost:8080/"
        },
        "id": "nB01YB1aPZbX",
        "outputId": "0a7e4e57-f643-4a97-bc9f-5a7acdc7fb9d"
      },
      "outputs": [
        {
          "name": "stdout",
          "output_type": "stream",
          "text": [
            "I can buy 18.0 of these.\n",
            "I can buy 5.0 of these.\n",
            "I can buy 4.0 of these.\n",
            "This product is free, I can take as many as I like\n",
            "I can buy 1.0 of these.\n",
            "I can buy 1.0 of these.\n"
          ]
        }
      ],
      "source": [
        "price_list = [5.99, None, 19.99, 24.99, 0, '74.99', 99.99]\n",
        "budget = 109\n",
        "\n",
        "for price in price_list:\n",
        "    if price == None:\n",
        "       continue\n",
        "    try:\n",
        "        affordable_quantity = budget//price\n",
        "        print(f\"I can buy {affordable_quantity} of these.\")\n",
        "    except ZeroDivisionError:\n",
        "        print(\"This product is free, I can take as many as I like\")\n",
        "    except TypeError:\n",
        "        affordable_quantity = budget//float(price)\n",
        "        print(f\"I can buy {affordable_quantity} of these.\")\n",
        "    except:\n",
        "      (\"This is not a number\")"
      ]
    }
  ],
  "metadata": {
    "colab": {
      "provenance": []
    },
    "kernelspec": {
      "display_name": "Python 3",
      "name": "python3"
    },
    "language_info": {
      "name": "python"
    }
  },
  "nbformat": 4,
  "nbformat_minor": 0
}
