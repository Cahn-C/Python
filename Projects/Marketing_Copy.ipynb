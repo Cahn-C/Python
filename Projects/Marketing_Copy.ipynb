{
  "nbformat": 4,
  "nbformat_minor": 0,
  "metadata": {
    "colab": {
      "provenance": []
    },
    "kernelspec": {
      "name": "python3",
      "display_name": "Python 3"
    },
    "language_info": {
      "name": "python"
    }
  },
  "cells": [
    {
      "cell_type": "markdown",
      "source": [
        "## <b>Project Objective</b>\n",
        "\n",
        "Help draft a marketing copy that can be used as promotional materials.\n",
        "\n",
        "##<b>Goal of the Project</b>\n",
        "\n",
        "Trim the testimonals down into \"I love skiing. It's my life\""
      ],
      "metadata": {
        "id": "TXBZLa6GbojZ"
      }
    },
    {
      "cell_type": "code",
      "source": [
        "testimonal = '''I love skiing. It's my favorite hobby. Some people say, \"It's not a hobby, it's life.\"'''"
      ],
      "metadata": {
        "id": "D7UGth1VdQ8Y"
      },
      "execution_count": 18,
      "outputs": []
    },
    {
      "cell_type": "markdown",
      "source": [
        "### <b>First Draft</b>\n",
        "\n",
        "Create the message 'I love skiing. It's my life.' by slicing `testimonal`\n",
        "\n",
        "Then assign the message to a variable called `short_variable`"
      ],
      "metadata": {
        "id": "qn8bmOI3cYpP"
      }
    },
    {
      "cell_type": "code",
      "execution_count": 67,
      "metadata": {
        "colab": {
          "base_uri": "https://localhost:8080/"
        },
        "id": "iCfda7fWbfZX",
        "outputId": "ec86a3ba-1fff-4616-bee0-4b31fc592621"
      },
      "outputs": [
        {
          "output_type": "stream",
          "name": "stdout",
          "text": [
            "I love skiing. It's my life.\n"
          ]
        }
      ],
      "source": [
        "sentence1 = testimonal[:22]\n",
        "sentence2 = testimonal[-6:-1]\n",
        "short_testimonal = sentence1 + ' ' + sentence2\n",
        "\n",
        "print(short_testimonal)"
      ]
    },
    {
      "cell_type": "markdown",
      "source": [
        "### <b>Second Draft</b>\n",
        "\n",
        "Shorten the message\n",
        "\n",
        "Slice `short_testimonal` down to 'I love my life!'\n",
        "\n",
        "Add the exclamation point at the end and assign it the a variable called `happy_customer`"
      ],
      "metadata": {
        "id": "6JRIXLo6e9W4"
      }
    },
    {
      "cell_type": "code",
      "source": [
        "sentence3 = short_testimonal[:6]\n",
        "sentence4 = short_testimonal[-9:-2]\n",
        "happy_customer = sentence3 + ' ' + sentence4 + '!'\n",
        "\n",
        "# print(short_testimonal)\n",
        "# print(sentence3)\n",
        "# print(sentence4)\n",
        "print(happy_customer)"
      ],
      "metadata": {
        "colab": {
          "base_uri": "https://localhost:8080/"
        },
        "id": "3-EnvccTePsK",
        "outputId": "c628bcbd-e484-40fd-dd4f-b328e17e7e68"
      },
      "execution_count": 66,
      "outputs": [
        {
          "output_type": "stream",
          "name": "stdout",
          "text": [
            "I love my life!\n"
          ]
        }
      ]
    }
  ]
}