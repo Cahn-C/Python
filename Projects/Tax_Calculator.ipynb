{
  "nbformat": 4,
  "nbformat_minor": 0,
  "metadata": {
    "colab": {
      "provenance": []
    },
    "kernelspec": {
      "name": "python3",
      "display_name": "Python 3"
    },
    "language_info": {
      "name": "python"
    }
  },
  "cells": [
    {
      "cell_type": "markdown",
      "source": [
        "## <b>Tax Calculation</b>\n",
        "\n",
        "Write a function that takes a subtotal and a tax rate and returns the total invoice amount.\n",
        "\n",
        "- Tax is equal to subtotal multiplied by the tax rate.\n",
        "- The total is equal to subtotal plus tax"
      ],
      "metadata": {
        "id": "W0VzigRw89uA"
      }
    },
    {
      "cell_type": "code",
      "source": [
        "def tax_calculator(subtotal, tax_rate):\n",
        "    \"\"\"\n",
        "    Description:\n",
        "        takes in a subtotal and tax rate and returns the total owed\n",
        "\n",
        "    Args:\n",
        "        subtotal(float): cost of items in transaction\n",
        "        tax_rate(float): tax rate at store location\n",
        "\n",
        "    Returns:\n",
        "        float: total amount owed on transaction\n",
        "    \"\"\"\n",
        "    tax = subtotal * tax_rate\n",
        "    total = subtotal + tax\n",
        "    return total"
      ],
      "metadata": {
        "id": "RFyhh0nN9RBF"
      },
      "execution_count": 15,
      "outputs": []
    },
    {
      "cell_type": "code",
      "source": [
        "tax_calculator(50, .05)"
      ],
      "metadata": {
        "colab": {
          "base_uri": "https://localhost:8080/"
        },
        "id": "oX87zPCP9kh5",
        "outputId": "06b095e7-de87-4c41-add9-2dc62de886f7"
      },
      "execution_count": 12,
      "outputs": [
        {
          "output_type": "execute_result",
          "data": {
            "text/plain": [
              "52.5"
            ]
          },
          "metadata": {},
          "execution_count": 12
        }
      ]
    },
    {
      "cell_type": "code",
      "source": [
        "# View the DocString for the specified function\n",
        "\n",
        "tax_calculator?"
      ],
      "metadata": {
        "id": "1SK1sUIS-lVo"
      },
      "execution_count": 16,
      "outputs": []
    }
  ]
}