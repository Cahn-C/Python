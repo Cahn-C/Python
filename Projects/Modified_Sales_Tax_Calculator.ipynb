{
  "nbformat": 4,
  "nbformat_minor": 0,
  "metadata": {
    "colab": {
      "provenance": []
    },
    "kernelspec": {
      "name": "python3",
      "display_name": "Python 3"
    },
    "language_info": {
      "name": "python"
    }
  },
  "cells": [
    {
      "cell_type": "markdown",
      "source": [
        "# <b>Modified Tax Calculator</b>\n",
        "\n",
        "Since the tax calculator I've created was made primarily for the Stowe employeee, I will need modify the tax calculator below to have a default tax rate of 6%.\n",
        "\n",
        "Also, the company wants the output of the funciton to return a list containing the subtotal, tax and totals."
      ],
      "metadata": {
        "id": "tdv_dKa71djY"
      }
    },
    {
      "cell_type": "code",
      "execution_count": 15,
      "metadata": {
        "colab": {
          "base_uri": "https://localhost:8080/"
        },
        "id": "8CbDbQmZ1YEd",
        "outputId": "3bf2ed98-3fa1-43d1-b9c5-eadc4c28c08e"
      },
      "outputs": [
        {
          "output_type": "stream",
          "name": "stdout",
          "text": [
            "Writing employee_tax_rate.py\n"
          ]
        }
      ],
      "source": [
        "%%writefile employee_tax_rate.py\n",
        "\n",
        "def tax_calculator(subtotal, sales_tax = .06):\n",
        "    \"\"\"\n",
        "      Description:\n",
        "\n",
        "      Args:\n",
        "        subtotal (float): cost of items in transaction\n",
        "        sales_tax (float): sales tax rate at the store location, default is .06\n",
        "\n",
        "      Returns:\n",
        "        list: list containing subtotal, tax, and total\n",
        "    \"\"\"\n",
        "\n",
        "    tax = round(subtotal * sales_tax, 2)\n",
        "    total = round(subtotal + tax, 2)\n",
        "    return [subtotal, tax, total]"
      ]
    },
    {
      "cell_type": "code",
      "source": [
        "tax_calculator(100, .1)"
      ],
      "metadata": {
        "colab": {
          "base_uri": "https://localhost:8080/"
        },
        "id": "-tpGEhJmA1vc",
        "outputId": "ebf7eea8-fd6d-4621-f3b0-b943a1914859"
      },
      "execution_count": 18,
      "outputs": [
        {
          "output_type": "execute_result",
          "data": {
            "text/plain": [
              "[100, 10.0, 110.0]"
            ]
          },
          "metadata": {},
          "execution_count": 18
        }
      ]
    }
  ]
}