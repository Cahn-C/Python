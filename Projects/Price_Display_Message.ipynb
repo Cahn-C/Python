{
  "nbformat": 4,
  "nbformat_minor": 0,
  "metadata": {
    "colab": {
      "provenance": []
    },
    "kernelspec": {
      "name": "python3",
      "display_name": "Python 3"
    },
    "language_info": {
      "name": "python"
    }
  },
  "cells": [
    {
      "cell_type": "markdown",
      "source": [
        "## <b>Project Overview</b>\n",
        "\n",
        "Help devlop a piece of code that takes products and prices variables to help speed up the process of inputting values"
      ],
      "metadata": {
        "id": "FlujWFVnhXa_"
      }
    },
    {
      "cell_type": "code",
      "execution_count": 2,
      "metadata": {
        "colab": {
          "base_uri": "https://localhost:8080/"
        },
        "id": "Cgo0Su7VhO_7",
        "outputId": "bf75d475-c00a-48af-a5a6-64191bc63676"
      },
      "outputs": [
        {
          "output_type": "stream",
          "name": "stdout",
          "text": [
            "The snowboard costs $499.99\n"
          ]
        }
      ],
      "source": [
        "price = 499.99\n",
        "product = \"snowboard\"\n",
        "\n",
        "print(f\"The {product} costs ${price}\")"
      ]
    },
    {
      "cell_type": "code",
      "source": [
        "price = 19.99\n",
        "product = \"scarf\"\n",
        "\n",
        "print(f\"The {product} costs ${price}\")"
      ],
      "metadata": {
        "colab": {
          "base_uri": "https://localhost:8080/"
        },
        "id": "NAOL02SQiiU9",
        "outputId": "ad1126e2-9d13-418c-dd44-6cb0566d20c2"
      },
      "execution_count": 4,
      "outputs": [
        {
          "output_type": "stream",
          "name": "stdout",
          "text": [
            "The scarf costs $19.99\n"
          ]
        }
      ]
    }
  ]
}