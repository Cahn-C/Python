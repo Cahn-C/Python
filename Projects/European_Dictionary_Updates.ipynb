{
  "nbformat": 4,
  "nbformat_minor": 0,
  "metadata": {
    "colab": {
      "provenance": []
    },
    "kernelspec": {
      "name": "python3",
      "display_name": "Python 3"
    },
    "language_info": {
      "name": "python"
    }
  },
  "cells": [
    {
      "cell_type": "markdown",
      "source": [
        "# <b>New European Dictionary</b>"
      ],
      "metadata": {
        "id": "4Z7M9KQfttly"
      }
    },
    {
      "cell_type": "code",
      "execution_count": 1,
      "metadata": {
        "id": "f20zMXD1gBVv"
      },
      "outputs": [],
      "source": [
        "item_ids = [10001, 10002, 10003, 10004, 10005, 10006, 10007, 10008, 10009]\n",
        "\n",
        "item_names = [\n",
        "    \"Coffee\",\n",
        "    \"Beanie\",\n",
        "    \"Gloves\",\n",
        "    \"Sweatshirt\",\n",
        "    \"Helmet\",\n",
        "    \"Snow Pants\",\n",
        "    \"Cost\",\n",
        "    \"Ski Poles\",\n",
        "    \"Ski Boots\"\n",
        "]\n",
        "\n",
        "euro_prices = [5.27, 8.79, 17.59, 21.99, 87.99, 70.39, 105.99, 87.99, 175.99]\n",
        "\n",
        "item_category = [\n",
        "    \"beverage\",\n",
        "    \"clothing\",\n",
        "    \"clothing\",\n",
        "    \"clothing\",\n",
        "    \"saftey\",\n",
        "    \"clothing\",\n",
        "    \"clothing\",\n",
        "    \"hardware\",\n",
        "    \"hardware\",\n",
        "]\n",
        "\n",
        "sizes = [\n",
        "    [\"250mL\"],\n",
        "    [\"Child\", \"Adult\"],\n",
        "    [\"Child\", \"Adult\"],\n",
        "    [\"XS\", \"S\", \"M\", \"L\", \"XL\", \"XXL\"],\n",
        "    [\"Child\", \"Adult\"],\n",
        "    [\"XS\", \"S\", \"M\", \"L\", \"XL\", \"XXL\"],\n",
        "    [\"S\", \"M\", \"L\"],\n",
        "    [\"S\", \"M\", \"L\"],\n",
        "    [5, 6, 7, 8, 9, 10, 11],\n",
        "    [\"S\", \"M\", \"L\"],\n",
        "    [5, 6, 7, 8, 9, 10, 11],\n",
        "    [\"S\", \"M\", \"L\"],\n",
        "    [\"NA\"],\n",
        "    [\"S\", \"M\", \"L\", \"Powder\"]\n",
        "]"
      ]
    },
    {
      "cell_type": "code",
      "source": [
        "euro_data = {\n",
        "    item_id: {\"name\": name, \"price\": price, \"category\": category, \"sizes\": sizes}\n",
        "    for item_id, name, price, category, sizes in zip(\n",
        "        item_ids, item_names, euro_prices, item_category, sizes\n",
        "    )\n",
        "}"
      ],
      "metadata": {
        "id": "himWqGMJt1yU"
      },
      "execution_count": 11,
      "outputs": []
    },
    {
      "cell_type": "code",
      "source": [
        "euro_data"
      ],
      "metadata": {
        "colab": {
          "base_uri": "https://localhost:8080/"
        },
        "id": "UzylQxMNy0lA",
        "outputId": "b502a5bd-6d9b-4d56-fce6-0d73cfebf7d3"
      },
      "execution_count": 12,
      "outputs": [
        {
          "output_type": "execute_result",
          "data": {
            "text/plain": [
              "{10001: {'name': 'Coffee',\n",
              "  'price': 5.27,\n",
              "  'category': 'beverage',\n",
              "  'sizes': ['250mL']},\n",
              " 10002: {'name': 'Beanie',\n",
              "  'price': 8.79,\n",
              "  'category': 'clothing',\n",
              "  'sizes': ['Child', 'Adult']},\n",
              " 10003: {'name': 'Gloves',\n",
              "  'price': 17.59,\n",
              "  'category': 'clothing',\n",
              "  'sizes': ['Child', 'Adult']},\n",
              " 10004: {'name': 'Sweatshirt',\n",
              "  'price': 21.99,\n",
              "  'category': 'clothing',\n",
              "  'sizes': ['XS', 'S', 'M', 'L', 'XL', 'XXL']},\n",
              " 10005: {'name': 'Helmet',\n",
              "  'price': 87.99,\n",
              "  'category': 'saftey',\n",
              "  'sizes': ['Child', 'Adult']},\n",
              " 10006: {'name': 'Snow Pants',\n",
              "  'price': 70.39,\n",
              "  'category': 'clothing',\n",
              "  'sizes': ['XS', 'S', 'M', 'L', 'XL', 'XXL']},\n",
              " 10007: {'name': 'Cost',\n",
              "  'price': 105.99,\n",
              "  'category': 'clothing',\n",
              "  'sizes': ['S', 'M', 'L']},\n",
              " 10008: {'name': 'Ski Poles',\n",
              "  'price': 87.99,\n",
              "  'category': 'hardware',\n",
              "  'sizes': ['S', 'M', 'L']},\n",
              " 10009: {'name': 'Ski Boots',\n",
              "  'price': 175.99,\n",
              "  'category': 'hardware',\n",
              "  'sizes': [5, 6, 7, 8, 9, 10, 11]}}"
            ]
          },
          "metadata": {},
          "execution_count": 12
        }
      ]
    },
    {
      "cell_type": "markdown",
      "source": [
        "## <b>Lookup Data</b>\n",
        "\n",
        "Check the price fo item 10009"
      ],
      "metadata": {
        "id": "Rime_mtXwmyh"
      }
    },
    {
      "cell_type": "code",
      "source": [
        "euro_data[10009]"
      ],
      "metadata": {
        "colab": {
          "base_uri": "https://localhost:8080/"
        },
        "id": "hQcMXs57wuJF",
        "outputId": "45bb253f-8905-40fe-aa82-651297746e88"
      },
      "execution_count": 16,
      "outputs": [
        {
          "output_type": "execute_result",
          "data": {
            "text/plain": [
              "{'name': 'Ski Boots',\n",
              " 'price': 175.99,\n",
              " 'category': 'hardware',\n",
              " 'sizes': [5, 6, 7, 8, 9, 10, 11]}"
            ]
          },
          "metadata": {},
          "execution_count": 16
        }
      ]
    },
    {
      "cell_type": "markdown",
      "source": [
        "## <b>European Sizes</b>\n",
        "\n",
        "Change the size for boots(item 10009) to European shoe sizing\n",
        "\n",
        "The European sizes are in a list below"
      ],
      "metadata": {
        "id": "RlGub6YgxGnJ"
      }
    },
    {
      "cell_type": "code",
      "source": [
        "boot_sizes = [37, 38, 39.5, 40.5, 41.5, 43.5, 46.5]\n",
        "\n",
        "for size in euro_data.values():\n",
        "    if size['name'] == 'Ski Boots':\n",
        "        euro_data[10009]['sizes'] = boot_sizes\n",
        "\n",
        "euro_data[10009]"
      ],
      "metadata": {
        "colab": {
          "base_uri": "https://localhost:8080/"
        },
        "id": "6pHhVsr2xY7l",
        "outputId": "1a4ca96e-82c0-4f69-e20e-f60cf7c585ce"
      },
      "execution_count": 20,
      "outputs": [
        {
          "output_type": "execute_result",
          "data": {
            "text/plain": [
              "{'name': 'Ski Boots',\n",
              " 'price': 175.99,\n",
              " 'category': 'hardware',\n",
              " 'sizes': [37, 38, 39.5, 40.5, 41.5, 43.5, 46.5]}"
            ]
          },
          "metadata": {},
          "execution_count": 20
        }
      ]
    },
    {
      "cell_type": "markdown",
      "source": [
        "## <b>Size Dictionary</b>\n",
        "\n",
        "Create a dictionary with item names as keys, and sizes(I will need to keep them in a list) as the values."
      ],
      "metadata": {
        "id": "dVcO6oT5xgFe"
      }
    },
    {
      "cell_type": "code",
      "source": [
        "product_sizes = {}\n",
        "\n",
        "for item in euro_data.values():\n",
        "    product_sizes[item['name']] = item['sizes']\n",
        "\n",
        "product_sizes"
      ],
      "metadata": {
        "colab": {
          "base_uri": "https://localhost:8080/"
        },
        "id": "vbkJlHb7xfYI",
        "outputId": "49d31a09-9bf1-4a8c-ddaf-1d9c3f87ad12"
      },
      "execution_count": 64,
      "outputs": [
        {
          "output_type": "execute_result",
          "data": {
            "text/plain": [
              "{'Coffee': ['250mL'],\n",
              " 'Beanie': ['Child', 'Adult'],\n",
              " 'Gloves': ['Child', 'Adult'],\n",
              " 'Sweatshirt': ['XS', 'S', 'M', 'L', 'XL', 'XXL'],\n",
              " 'Helmet': ['Child', 'Adult'],\n",
              " 'Snow Pants': ['XS', 'S', 'M', 'L', 'XL', 'XXL'],\n",
              " 'Cost': ['S', 'M', 'L'],\n",
              " 'Ski Poles': ['S', 'M', 'L'],\n",
              " 'Ski Boots': [37, 38, 39.5, 40.5, 41.5, 43.5, 46.5]}"
            ]
          },
          "metadata": {},
          "execution_count": 64
        }
      ]
    }
  ]
}