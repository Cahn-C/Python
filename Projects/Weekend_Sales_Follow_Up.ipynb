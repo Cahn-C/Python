{
  "nbformat": 4,
  "nbformat_minor": 0,
  "metadata": {
    "colab": {
      "provenance": []
    },
    "kernelspec": {
      "name": "python3",
      "display_name": "Python 3"
    },
    "language_info": {
      "name": "python"
    }
  },
  "cells": [
    {
      "cell_type": "markdown",
      "source": [
        "## <b>Weekend Sales Follow-Up Analysis</b>\n",
        "\n"
      ],
      "metadata": {
        "id": "omih2-ivMuY1"
      }
    },
    {
      "cell_type": "code",
      "execution_count": 1,
      "metadata": {
        "id": "65v9Lq-uMqzq"
      },
      "outputs": [],
      "source": [
        "friday_customers = ['C00004', 'C00007', 'C00015', 'C00016', 'C00004',\n",
        "                    'C00010', 'C00006', 'C00001', 'C00003', 'C00014',\n",
        "                    'C00001', 'C00001', 'C00005', 'C00008', 'C00013']\n",
        "\n",
        "saturday_customers = ['C00004', 'C00017', 'C00019', 'C00002', 'C00008',\n",
        "                      'C00021', 'C00022']\n",
        "\n",
        "sunday_customers = ['C00006', 'C00018', 'C00018', 'C00010', 'C00016']"
      ]
    },
    {
      "cell_type": "markdown",
      "source": [
        "### <b>Collect Unique Weekend Customers</b>\n",
        "\n",
        "I will need to gather all the unique customers from the weekend(`saturday_customers`, `sunday_customers`)\n",
        "\n",
        "I will then create a set called `weekend_set` to store them in"
      ],
      "metadata": {
        "id": "-MN-ugPoNXTk"
      }
    },
    {
      "cell_type": "code",
      "source": [
        "weekend_set = set(saturday_customers).union(set(sunday_customers))\n",
        "\n",
        "weekend_set"
      ],
      "metadata": {
        "colab": {
          "base_uri": "https://localhost:8080/"
        },
        "id": "Ovgheb_zOil1",
        "outputId": "e5c3bdd2-08a2-4a94-d1f8-1a4848e51c0b"
      },
      "execution_count": 5,
      "outputs": [
        {
          "output_type": "execute_result",
          "data": {
            "text/plain": [
              "{'C00002',\n",
              " 'C00004',\n",
              " 'C00006',\n",
              " 'C00008',\n",
              " 'C00010',\n",
              " 'C00016',\n",
              " 'C00017',\n",
              " 'C00018',\n",
              " 'C00019',\n",
              " 'C00021',\n",
              " 'C00022'}"
            ]
          },
          "metadata": {},
          "execution_count": 5
        }
      ]
    },
    {
      "cell_type": "markdown",
      "source": [
        "### <b>Friday Customers Who Came Back During the Weekend</b>\n",
        "\n",
        "Now that I have the weekend information, I will then need to see which customers made a purchase on Friday and made a purchase during the weekend"
      ],
      "metadata": {
        "id": "jDrdh4rSOjqs"
      }
    },
    {
      "cell_type": "code",
      "source": [
        "weekend_purchase = weekend_set.intersection(set(friday_customers))\n",
        "\n",
        "weekend_purchase"
      ],
      "metadata": {
        "colab": {
          "base_uri": "https://localhost:8080/"
        },
        "id": "y-y7ZGnkOzyv",
        "outputId": "5e2aefbc-daf9-4989-8f33-d450499603eb"
      },
      "execution_count": 6,
      "outputs": [
        {
          "output_type": "execute_result",
          "data": {
            "text/plain": [
              "{'C00004', 'C00006', 'C00008', 'C00010', 'C00016'}"
            ]
          },
          "metadata": {},
          "execution_count": 6
        }
      ]
    }
  ]
}