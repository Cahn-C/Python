{
  "nbformat": 4,
  "nbformat_minor": 0,
  "metadata": {
    "colab": {
      "provenance": []
    },
    "kernelspec": {
      "name": "python3",
      "display_name": "Python 3"
    },
    "language_info": {
      "name": "python"
    }
  },
  "cells": [
    {
      "cell_type": "markdown",
      "source": [
        "### <b>Get the highest priced item that the company sells</b>"
      ],
      "metadata": {
        "id": "Ve-b9nK0r-PG"
      }
    },
    {
      "cell_type": "code",
      "execution_count": 1,
      "metadata": {
        "id": "TYDhkkS-qQUF"
      },
      "outputs": [],
      "source": [
        "price_list = [129.99, 99.99, 119.19, 99.99, 89.99, 79.99, 49.99]"
      ]
    },
    {
      "cell_type": "code",
      "source": [
        "max(price_list)"
      ],
      "metadata": {
        "colab": {
          "base_uri": "https://localhost:8080/"
        },
        "id": "PqeGOgK5s8U3",
        "outputId": "0f1fa508-92ec-4172-d985-dea4e58ec43a"
      },
      "execution_count": 2,
      "outputs": [
        {
          "output_type": "execute_result",
          "data": {
            "text/plain": [
              "129.99"
            ]
          },
          "metadata": {},
          "execution_count": 2
        }
      ]
    },
    {
      "cell_type": "markdown",
      "source": [
        "### <b>Get the lowest priced item that the company sells</b>"
      ],
      "metadata": {
        "id": "bknLoGnftA2k"
      }
    },
    {
      "cell_type": "code",
      "source": [
        "min(price_list)"
      ],
      "metadata": {
        "colab": {
          "base_uri": "https://localhost:8080/"
        },
        "id": "2qmcPkXRtAA3",
        "outputId": "37fc12c5-eddf-46e5-aa3b-820a42039621"
      },
      "execution_count": 3,
      "outputs": [
        {
          "output_type": "execute_result",
          "data": {
            "text/plain": [
              "49.99"
            ]
          },
          "metadata": {},
          "execution_count": 3
        }
      ]
    },
    {
      "cell_type": "markdown",
      "source": [
        "### <b>How much would it cost for a customer to purchase two of every item, rounded to the nearest dollar?</b>"
      ],
      "metadata": {
        "id": "KPGcvLYjtTWk"
      }
    },
    {
      "cell_type": "markdown",
      "source": [
        "Round to the nearest dollar."
      ],
      "metadata": {
        "id": "d4g2TI5cu390"
      }
    },
    {
      "cell_type": "code",
      "source": [
        "total_sum = sum(price_list) # Variable contains the total amount of the prices in the company\n",
        "customer_purchase = 2\n",
        "result = total_sum * customer_purchase\n",
        "\n",
        "round(result)"
      ],
      "metadata": {
        "colab": {
          "base_uri": "https://localhost:8080/"
        },
        "id": "IB4zwj6VtSL5",
        "outputId": "caec7139-9b3f-4703-9250-87a395770ec2"
      },
      "execution_count": 10,
      "outputs": [
        {
          "output_type": "execute_result",
          "data": {
            "text/plain": [
              "1338"
            ]
          },
          "metadata": {},
          "execution_count": 10
        }
      ]
    }
  ]
}