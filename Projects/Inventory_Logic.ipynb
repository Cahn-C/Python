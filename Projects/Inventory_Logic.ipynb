{
  "nbformat": 4,
  "nbformat_minor": 0,
  "metadata": {
    "colab": {
      "provenance": []
    },
    "kernelspec": {
      "name": "python3",
      "display_name": "Python 3"
    },
    "language_info": {
      "name": "python"
    }
  },
  "cells": [
    {
      "cell_type": "markdown",
      "source": [
        "## <b>Project Overview</b>\n",
        "\n",
        "Help develop a logic that displays boolean values based on the company's inventory levels (current inventory = 5)\n",
        "\n",
        "1. Check if inventory is equal to `0`\n",
        "2. Check if inventory is greater than `5`\n",
        "3. If number 2 is True, return a price of `$99`, if not then `0.0`\n",
        "4. Check if the inventory is positive and price is less than `$100`\n",
        "5. Check if the customer's name is <i>'Christ'</i> and the product is <i>super snowboard</i>, or if the inventory is greater than 0"
      ],
      "metadata": {
        "id": "aaPp7RQR6o9d"
      }
    },
    {
      "cell_type": "markdown",
      "source": [
        "### <b>Current Quantity</b>"
      ],
      "metadata": {
        "id": "1y74B40bMj--"
      }
    },
    {
      "cell_type": "code",
      "source": [
        "inventory_count = 5"
      ],
      "metadata": {
        "id": "FA2w9uzxMnYX"
      },
      "execution_count": 29,
      "outputs": []
    },
    {
      "cell_type": "markdown",
      "source": [
        "### <b>Do we have any stock</b>\n",
        "\n",
        "Write a logic that returns True if we have 0 units of inventory."
      ],
      "metadata": {
        "id": "UhQhynkk8HYE"
      }
    },
    {
      "cell_type": "code",
      "execution_count": 23,
      "metadata": {
        "colab": {
          "base_uri": "https://localhost:8080/"
        },
        "id": "s0AjTuU6om1W",
        "outputId": "1434d2f0-5b95-4d92-8d70-b474dde60331"
      },
      "outputs": [
        {
          "output_type": "execute_result",
          "data": {
            "text/plain": [
              "False"
            ]
          },
          "metadata": {},
          "execution_count": 23
        }
      ],
      "source": [
        "inventory_count == 0"
      ]
    },
    {
      "cell_type": "markdown",
      "source": [
        "### <b>Do we have a safe level of inventory</b>\n",
        "\n",
        "Write a logic that returns True if we have more than five units of inventory."
      ],
      "metadata": {
        "id": "ZpiPlnJQ8v8K"
      }
    },
    {
      "cell_type": "code",
      "source": [
        "inventory_count >= 5"
      ],
      "metadata": {
        "colab": {
          "base_uri": "https://localhost:8080/"
        },
        "id": "f2Tl4KYj8rLf",
        "outputId": "0ba8c928-28b5-40fd-9827-7ea99d13de37"
      },
      "execution_count": 24,
      "outputs": [
        {
          "output_type": "execute_result",
          "data": {
            "text/plain": [
              "True"
            ]
          },
          "metadata": {},
          "execution_count": 24
        }
      ]
    },
    {
      "cell_type": "markdown",
      "source": [
        "### <b>Display price if we have more than five units of inventory</b>\n",
        "\n",
        "Logic will display the price of the company's products if they have more than five units of inventory, and 0 if not.\n",
        "\n",
        "Compnay's current price = 99.99"
      ],
      "metadata": {
        "id": "7lja8ZiP85xi"
      }
    },
    {
      "cell_type": "code",
      "source": [
        "price = 99.99\n",
        "\n",
        "(inventory_count > 5) * 99.99"
      ],
      "metadata": {
        "colab": {
          "base_uri": "https://localhost:8080/"
        },
        "id": "jMsvI4Tl832W",
        "outputId": "87b52c54-63f6-4423-8206-0b796eb2ed1c"
      },
      "execution_count": 37,
      "outputs": [
        {
          "output_type": "execute_result",
          "data": {
            "text/plain": [
              "0.0"
            ]
          },
          "metadata": {},
          "execution_count": 37
        }
      ]
    },
    {
      "cell_type": "markdown",
      "source": [
        "## <b>Discount Sale Item Flag</b>\n",
        "\n",
        "Logic that will return True if inventory is greater than 0 and the product price is less then $100."
      ],
      "metadata": {
        "id": "39sZG4BANzEs"
      }
    },
    {
      "cell_type": "code",
      "source": [
        "inventory_count > 0 and price < 100"
      ],
      "metadata": {
        "colab": {
          "base_uri": "https://localhost:8080/"
        },
        "id": "IuEexz5MOHd2",
        "outputId": "28fbc662-f388-46a9-da79-940461a74551"
      },
      "execution_count": 26,
      "outputs": [
        {
          "output_type": "execute_result",
          "data": {
            "text/plain": [
              "True"
            ]
          },
          "metadata": {},
          "execution_count": 26
        }
      ]
    },
    {
      "cell_type": "markdown",
      "source": [
        "## <b>Special Customer Flag</b>\n",
        "\n",
        "Logic that reuturns True if inventory is greater than 0, or the customer's name is <i>Christ</i> and the product is named <i>super_snowboard</i>"
      ],
      "metadata": {
        "id": "cbFPPtJiOLz_"
      }
    },
    {
      "cell_type": "code",
      "source": [
        "custoemr_name = 'Barry'\n",
        "inventory_count = 0\n",
        "product = 'super_snowboard'\n",
        "\n",
        "inventory_count > 0 or custoemr_name == 'Christ' and product == 'super_snowboard'"
      ],
      "metadata": {
        "colab": {
          "base_uri": "https://localhost:8080/"
        },
        "id": "D5yA6dI-OfUo",
        "outputId": "3e867ef7-bc48-4da5-9a06-dec4c9d20054"
      },
      "execution_count": 36,
      "outputs": [
        {
          "output_type": "execute_result",
          "data": {
            "text/plain": [
              "False"
            ]
          },
          "metadata": {},
          "execution_count": 36
        }
      ]
    }
  ]
}