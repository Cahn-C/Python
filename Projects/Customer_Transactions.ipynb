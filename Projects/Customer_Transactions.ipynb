{
  "nbformat": 4,
  "nbformat_minor": 0,
  "metadata": {
    "colab": {
      "provenance": []
    },
    "kernelspec": {
      "name": "python3",
      "display_name": "Python 3"
    },
    "language_info": {
      "name": "python"
    }
  },
  "cells": [
    {
      "cell_type": "markdown",
      "source": [
        "# <b>Customer C00010 Transactions</b>\n",
        "\n",
        "1. Calculate the average value of a transaction\n",
        "2. Report how many transactions C00010 made\n",
        "3. Look up the value of their first transaction\n",
        "4. Compare it to the average value\n",
        "5. Print a list sorted by IDs (no permanent changes needed)"
      ],
      "metadata": {
        "id": "Zh2klwkeKyyC"
      }
    },
    {
      "cell_type": "code",
      "source": [
        "customer_ids = ['C00004', 'C00007', 'C00015', 'C00016', 'C00020',\n",
        "                'C00010', 'C00006', 'C00001' ,'C00003' ,'C00014',\n",
        "                'C00001', 'C00001', 'C00005', 'C00008', 'C00013',\n",
        "                'C00004', 'C00017', 'C00019', 'C00002', 'C00008',\n",
        "                'C00021', 'C00022', 'C00006', 'C00018', 'C00018',\n",
        "                'C00010', 'C00016']\n",
        "\n",
        "subtotals = [15.98, 899.97, 799.97, 117.96, 5.99, 599.99, 24.99, 1799.94,\n",
        "             99.99, 254.95, 29.98, 99.99, 25.98, 649.98, 89.99, 119.99,\n",
        "             599.99, 649.98, 24.99, 99.99, 99.99, 5.99, 24.99, 999.96,\n",
        "             99.99, 399.97, 89.99]"
      ],
      "metadata": {
        "id": "WC5aL0Y1Ly_P"
      },
      "execution_count": 5,
      "outputs": []
    },
    {
      "cell_type": "markdown",
      "source": [
        "### <b>Calculate the average transaction</b>\n",
        "\n",
        "Calculate the average value of the transactions in the list `subtotals`"
      ],
      "metadata": {
        "id": "cmiIVyINLfVf"
      }
    },
    {
      "cell_type": "code",
      "execution_count": 7,
      "metadata": {
        "colab": {
          "base_uri": "https://localhost:8080/"
        },
        "id": "Rb-cwYqvKvFn",
        "outputId": "af78e398-4a93-4339-da64-abd24c6452a3"
      },
      "outputs": [
        {
          "output_type": "execute_result",
          "data": {
            "text/plain": [
              "323.3877777777776"
            ]
          },
          "metadata": {},
          "execution_count": 7
        }
      ],
      "source": [
        "sum(subtotals) / len(subtotals)"
      ]
    },
    {
      "cell_type": "markdown",
      "source": [
        "### <b>Customer Deep Dive</b>\n",
        "\n",
        "How many transactions did customer C00010 make?"
      ],
      "metadata": {
        "id": "ylu5bEACNJRO"
      }
    },
    {
      "cell_type": "code",
      "source": [
        "customer_ids.count('C00010')"
      ],
      "metadata": {
        "colab": {
          "base_uri": "https://localhost:8080/"
        },
        "id": "LucD4QksM9UU",
        "outputId": "b5386733-3845-4b1d-8d5b-fb8a32f57495"
      },
      "execution_count": 8,
      "outputs": [
        {
          "output_type": "execute_result",
          "data": {
            "text/plain": [
              "2"
            ]
          },
          "metadata": {},
          "execution_count": 8
        }
      ]
    },
    {
      "cell_type": "markdown",
      "source": [
        "What is the index of customer C00010's first transaction"
      ],
      "metadata": {
        "id": "o8Rg6oToNykJ"
      }
    },
    {
      "cell_type": "code",
      "source": [
        "customer_ids.index('C00010')"
      ],
      "metadata": {
        "colab": {
          "base_uri": "https://localhost:8080/"
        },
        "id": "RsrOdKV8NVCk",
        "outputId": "d2846d0e-2f90-4f9f-e76d-00f0776f17a9"
      },
      "execution_count": 9,
      "outputs": [
        {
          "output_type": "execute_result",
          "data": {
            "text/plain": [
              "5"
            ]
          },
          "metadata": {},
          "execution_count": 9
        }
      ]
    },
    {
      "cell_type": "markdown",
      "source": [
        "What is the revenue of C00010's first transaction\n",
        "\n",
        "I will need to index `subtotals` using the index returned in the last question\n",
        "\n"
      ],
      "metadata": {
        "id": "7ozZHgXeOIxe"
      }
    },
    {
      "cell_type": "code",
      "source": [
        "subtotals[5]"
      ],
      "metadata": {
        "colab": {
          "base_uri": "https://localhost:8080/"
        },
        "id": "ug-i7Xe8N5kO",
        "outputId": "0eaeb683-013a-42c8-db04-08585c85be87"
      },
      "execution_count": 12,
      "outputs": [
        {
          "output_type": "execute_result",
          "data": {
            "text/plain": [
              "599.99"
            ]
          },
          "metadata": {},
          "execution_count": 12
        }
      ]
    },
    {
      "cell_type": "markdown",
      "source": [
        "### <b>Print a sorted list of customer IDs</b>\n",
        "\n",
        "The company would like to see if any of their loyal customers didn't make a purchase"
      ],
      "metadata": {
        "id": "ycBy87f0Oi3p"
      }
    },
    {
      "cell_type": "code",
      "source": [
        "sorted(customer_ids)"
      ],
      "metadata": {
        "colab": {
          "base_uri": "https://localhost:8080/"
        },
        "id": "f6Ae2LCtOPUM",
        "outputId": "4e32c34b-9b06-4a9e-b621-aeef93423d5e"
      },
      "execution_count": 14,
      "outputs": [
        {
          "output_type": "execute_result",
          "data": {
            "text/plain": [
              "['C00001',\n",
              " 'C00001',\n",
              " 'C00001',\n",
              " 'C00002',\n",
              " 'C00003',\n",
              " 'C00004',\n",
              " 'C00004',\n",
              " 'C00005',\n",
              " 'C00006',\n",
              " 'C00006',\n",
              " 'C00007',\n",
              " 'C00008',\n",
              " 'C00008',\n",
              " 'C00010',\n",
              " 'C00010',\n",
              " 'C00013',\n",
              " 'C00014',\n",
              " 'C00015',\n",
              " 'C00016',\n",
              " 'C00016',\n",
              " 'C00017',\n",
              " 'C00018',\n",
              " 'C00018',\n",
              " 'C00019',\n",
              " 'C00020',\n",
              " 'C00021',\n",
              " 'C00022']"
            ]
          },
          "metadata": {},
          "execution_count": 14
        }
      ]
    }
  ]
}