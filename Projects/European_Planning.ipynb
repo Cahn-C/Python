{
  "cells": [
    {
      "cell_type": "code",
      "execution_count": null,
      "metadata": {
        "id": "tWWWWroCc9yf"
      },
      "outputs": [],
      "source": [
        "item_dict = {\n",
        "    10001: ('Coffee', 5.99, 'beverage', ['250mL']),\n",
        "    10002: ('Beanie', 9.99, 'clothing', ['Child', 'Adult']),\n",
        "    10003: ('Gloves', 19.99, 'clothing', ['Child', 'Adult']),\n",
        "    10004: ('Sweatshirt', 24.99, 'clothing', ['XS', 'S', 'M', 'L', 'XL', 'XXL']),\n",
        "    10005: ('Helmet', 99.99, 'saftey', ['Child', 'Adult']),\n",
        "    10006: ('Snow Pants', 79.99, 'clothing', ['XS', 'S', 'M', 'L', 'XL', 'XXL']),\n",
        "    10007: ('Coat', 119.99, 'clothing', ['S', 'M', 'L']),\n",
        "    10008: ('Ski Poles', 99.99, 'hardware', ['S', 'M', 'L']),\n",
        "    10009: ('Ski Boots', 199.99, 'hardware', [5, 6, 7, 8, 9, 10, 11])\n",
        "}"
      ]
    },
    {
      "cell_type": "markdown",
      "metadata": {
        "id": "1f_k9MXviopG"
      },
      "source": [
        "## <b>Size Counts</b>\n",
        "\n",
        "First I need to make a dictonary with item number in `item_dict` as keys, and the number of sizes available for each item. Sizes are stored in lists at the end of each 'row' of data. Key 10001 has a list with one size, 250ml at the end."
      ]
    },
    {
      "cell_type": "code",
      "execution_count": null,
      "metadata": {
        "colab": {
          "base_uri": "https://localhost:8080/"
        },
        "id": "DjBybIn1iUHz",
        "outputId": "90894118-c71e-43ac-fc9a-229285ab6997"
      },
      "outputs": [
        {
          "name": "stdout",
          "output_type": "stream",
          "text": [
            "{10001: 1, 10002: 2, 10003: 2, 10004: 6, 10005: 2, 10006: 6, 10007: 3, 10008: 3, 10009: 7}\n"
          ]
        }
      ],
      "source": [
        "size_counts = {}\n",
        "\n",
        "for item in item_dict:\n",
        "    # KEY               # VALUE\n",
        "    size_counts[item] = len(item_dict[item][3]) # The value will be the 3 index in each tuple\n",
        "print(size_counts)"
      ]
    },
    {
      "cell_type": "markdown",
      "metadata": {
        "id": "XQnpTQk7mbbE"
      },
      "source": [
        "## <b>New Size Options</b>\n",
        "\n",
        "Add two products to `size_counts`"
      ]
    },
    {
      "cell_type": "code",
      "execution_count": null,
      "metadata": {
        "id": "3BLCEIsDlWH2"
      },
      "outputs": [],
      "source": [
        "size_counts.update({10010: 4, 10011: 7})"
      ]
    },
    {
      "cell_type": "code",
      "execution_count": null,
      "metadata": {
        "colab": {
          "base_uri": "https://localhost:8080/"
        },
        "id": "EsqFt6kKnm4V",
        "outputId": "31caf51d-6c50-4e97-c2ab-871ea43ae5e5"
      },
      "outputs": [
        {
          "data": {
            "text/plain": [
              "{10001: 1,\n",
              " 10002: 2,\n",
              " 10003: 2,\n",
              " 10004: 6,\n",
              " 10005: 2,\n",
              " 10006: 6,\n",
              " 10007: 3,\n",
              " 10008: 3,\n",
              " 10009: 7,\n",
              " 10010: 4,\n",
              " 10011: 7}"
            ]
          },
          "execution_count": 23,
          "metadata": {},
          "output_type": "execute_result"
        }
      ],
      "source": [
        "size_counts"
      ]
    },
    {
      "cell_type": "markdown",
      "metadata": {
        "id": "p8cf2Jdonzz1"
      },
      "source": [
        "## <b>Euro Pricing</b>\n",
        "\n",
        "Pull all prices out of `item_dict` and create a list with converted Euro pricing.\n",
        "\n",
        "Exchange rate of .88"
      ]
    },
    {
      "cell_type": "code",
      "execution_count": null,
      "metadata": {
        "colab": {
          "base_uri": "https://localhost:8080/"
        },
        "id": "TZ4pEw9Fny5I",
        "outputId": "57730ee0-95aa-4610-be54-3955ee890bcc"
      },
      "outputs": [
        {
          "data": {
            "text/plain": [
              "[5.27, 8.79, 17.59, 21.99, 87.99, 70.39, 105.59, 87.99, 175.99]"
            ]
          },
          "execution_count": 28,
          "metadata": {},
          "output_type": "execute_result"
        }
      ],
      "source": [
        "euro_price = []\n",
        "exchange_rate = .88\n",
        "\n",
        "for price in item_dict.values():\n",
        "    euro_price.append(round(price[1] * exchange_rate, 2))\n",
        "euro_price"
      ]
    }
  ],
  "metadata": {
    "colab": {
      "provenance": []
    },
    "kernelspec": {
      "display_name": "Python 3",
      "name": "python3"
    },
    "language_info": {
      "name": "python",
      "version": "3.11.4"
    }
  },
  "nbformat": 4,
  "nbformat_minor": 0
}
