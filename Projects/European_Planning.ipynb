{
 "cells": [
  {
   "cell_type": "code",
   "execution_count": 102,
   "metadata": {},
   "outputs": [],
   "source": [
    "numbers = list(range(0, 20))\n",
    "\n",
    "even_numbers = []\n",
    "odd_numbers = []\n",
    "\n",
    "for i in numbers:\n",
    "    if i % 2 == 0:\n",
    "        even_numbers.append(numbers[i])\n",
    "    else:\n",
    "        odd_numbers.append(numbers[i])"
   ]
  },
  {
   "cell_type": "code",
   "execution_count": 103,
   "metadata": {},
   "outputs": [
    {
     "data": {
      "text/plain": [
       "[0, 2, 4, 6, 8, 10, 12, 14, 16, 18]"
      ]
     },
     "execution_count": 103,
     "metadata": {},
     "output_type": "execute_result"
    }
   ],
   "source": [
    "even_numbers"
   ]
  },
  {
   "cell_type": "code",
   "execution_count": 104,
   "metadata": {},
   "outputs": [
    {
     "data": {
      "text/plain": [
       "[1, 3, 5, 7, 9, 11, 13, 15, 17, 19]"
      ]
     },
     "execution_count": 104,
     "metadata": {},
     "output_type": "execute_result"
    }
   ],
   "source": [
    "odd_numbers"
   ]
  },
  {
   "cell_type": "code",
   "execution_count": 128,
   "metadata": {},
   "outputs": [],
   "source": [
    "new_dict = {\n",
    "    'C0001' : [19.99, 98.99],\n",
    "    'C0002' : [11.99, 8.99],\n",
    "    'C0003' : [19.99, 12.99, 45.99, 43.99, 12.99],\n",
    "    'C0004' : [9.99, 98.99, 67.99],\n",
    "    'C0005' : [19.99, 98.99],\n",
    "    'C0006' : [19.99, 12.99],\n",
    "    'C0007' : [19.99, 24.99, 15.99],\n",
    "}"
   ]
  },
  {
   "cell_type": "code",
   "execution_count": 135,
   "metadata": {},
   "outputs": [
    {
     "data": {
      "text/plain": [
       "{'C0001': 49.495,\n",
       " 'C0002': 4.495,\n",
       " 'C0003': 6.495,\n",
       " 'C0004': 49.495,\n",
       " 'C0005': 49.495,\n",
       " 'C0006': 6.495,\n",
       " 'C0007': 12.495}"
      ]
     },
     "execution_count": 135,
     "metadata": {},
     "output_type": "execute_result"
    }
   ],
   "source": [
    "empty_dict = {}\n",
    "exchange_rate = .50\n",
    "\n",
    "for price in new_dict:\n",
    "    price_exchange = (new_dict[price][1] * exchange_rate)\n",
    "    empty_dict[price] = price_exchange\n",
    "\n",
    "empty_dict"
   ]
  },
  {
   "cell_type": "code",
   "execution_count": 110,
   "metadata": {},
   "outputs": [],
   "source": [
    "depen_list = {\n",
    "    'C0001': 19.79,\n",
    "    'C0002': 11.87,\n",
    "    'C0003': 19.79,\n",
    "    'C0004': 9.89,\n",
    "    'C0005': 19.79,\n",
    "    'C0006': 19.79,\n",
    "    'C0007': 19.79\n",
    " }"
   ]
  },
  {
   "cell_type": "code",
   "execution_count": 125,
   "metadata": {},
   "outputs": [
    {
     "data": {
      "text/plain": [
       "[19.79, 11.87, 19.79, 9.89, 19.79, 19.79, 19.79]"
      ]
     },
     "execution_count": 125,
     "metadata": {},
     "output_type": "execute_result"
    }
   ],
   "source": [
    "mew_empty_list = []\n",
    "\n",
    "for i in depen_list:\n",
    "    mew_empty_list.append((depen_list[i]))\n",
    "\n",
    "mew_empty_list"
   ]
  },
  {
   "cell_type": "code",
   "execution_count": null,
   "metadata": {},
   "outputs": [],
   "source": [
    "ratings = ['5 stars', '4 stars', '5 stars', '4 stars', '4 stars', '4 stars', '2 stars', '3 stars']"
   ]
  },
  {
   "cell_type": "code",
   "execution_count": null,
   "metadata": {},
   "outputs": [
    {
     "data": {
      "text/plain": [
       "[5, 4, 5, 4, 4, 4, 2, 3]"
      ]
     },
     "execution_count": 90,
     "metadata": {},
     "output_type": "execute_result"
    }
   ],
   "source": [
    "number_ratings = []\n",
    "\n",
    "for number in ratings:\n",
    "    number_ratings.append((int(number[0])))\n",
    "\n",
    "number_ratings"
   ]
  },
  {
   "cell_type": "code",
   "execution_count": null,
   "metadata": {},
   "outputs": [
    {
     "data": {
      "text/plain": [
       "3.875"
      ]
     },
     "execution_count": 92,
     "metadata": {},
     "output_type": "execute_result"
    }
   ],
   "source": [
    "total_ratings = sum(number_ratings) / len(number_ratings)\n",
    "\n",
    "total_ratings"
   ]
  },
  {
   "cell_type": "code",
   "execution_count": null,
   "metadata": {},
   "outputs": [],
   "source": []
  }
 ],
 "metadata": {
  "kernelspec": {
   "display_name": "Python 3",
   "language": "python",
   "name": "python3"
  },
  "language_info": {
   "codemirror_mode": {
    "name": "ipython",
    "version": 3
   },
   "file_extension": ".py",
   "mimetype": "text/x-python",
   "name": "python",
   "nbconvert_exporter": "python",
   "pygments_lexer": "ipython3",
   "version": "3.11.4"
  },
  "orig_nbformat": 4
 },
 "nbformat": 4,
 "nbformat_minor": 2
}
