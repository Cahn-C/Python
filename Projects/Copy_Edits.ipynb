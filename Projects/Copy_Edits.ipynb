{
  "nbformat": 4,
  "nbformat_minor": 0,
  "metadata": {
    "colab": {
      "provenance": []
    },
    "kernelspec": {
      "name": "python3",
      "display_name": "Python 3"
    },
    "language_info": {
      "name": "python"
    }
  },
  "cells": [
    {
      "cell_type": "markdown",
      "source": [
        "## <b>Project Overview</b>\n",
        "\n",
        "Create a draft copy from the following:\n",
        "\n",
        "- Combine the text messages and call it <i>\"full text\"</i>\n",
        "- Remove leading spaces and convert to lowercase, call it <i>\"fixed_text\"\"</i>\n",
        "- Change <i>\"on the mountain\"</i> to <i>\"at the ski shop\"</i>\n",
        "- Look up a method to count the number of spaces in <i>\"new_text\"</i>; the company pays by word so they want to know how much their ad will cost. Word count equals the number of spaces plus 1"
      ],
      "metadata": {
        "id": "f5zGspBYvP5M"
      }
    },
    {
      "cell_type": "markdown",
      "source": [
        "Below are the five messages we need to draw from"
      ],
      "metadata": {
        "id": "HxW9v6rvwHYT"
      }
    },
    {
      "cell_type": "code",
      "execution_count": 1,
      "metadata": {
        "id": "X6_1WNEVtlDx"
      },
      "outputs": [],
      "source": [
        "text1 = \"                 Your friend Mark\"\n",
        "text2 = \"was\"\n",
        "text3 = \"having\"\n",
        "text4 = \"a great day\"\n",
        "text5 = \"on the mountain\""
      ]
    },
    {
      "cell_type": "markdown",
      "source": [
        "## <b>Combine the Texts</b>\n",
        "\n",
        "Combine the messages into a single string, assigned to `full_text`"
      ],
      "metadata": {
        "id": "xJ8X9RCqwWsw"
      }
    },
    {
      "cell_type": "code",
      "source": [
        "full_text = text1 + ' ' + text2 + ' ' + text3 + ' ' + text4 + ' ' + text5\n",
        "\n",
        "full_text"
      ],
      "metadata": {
        "colab": {
          "base_uri": "https://localhost:8080/",
          "height": 35
        },
        "id": "f_zXJlaMwgPY",
        "outputId": "48383328-1fd9-44c7-8271-9b31c7e3a7fe"
      },
      "execution_count": 5,
      "outputs": [
        {
          "output_type": "execute_result",
          "data": {
            "text/plain": [
              "'               Your friend Mark was having a great day on the mountain'"
            ],
            "application/vnd.google.colaboratory.intrinsic+json": {
              "type": "string"
            }
          },
          "metadata": {},
          "execution_count": 5
        }
      ]
    },
    {
      "cell_type": "markdown",
      "source": [
        "## <b>Clean Up</b>\n",
        "\n",
        "Remove the leading spaces make the entire sentence lower case"
      ],
      "metadata": {
        "id": "-ytskkTwwxgJ"
      }
    },
    {
      "cell_type": "code",
      "source": [
        "fixed_text = full_text.strip().lower()\n",
        "\n",
        "fixed_text"
      ],
      "metadata": {
        "colab": {
          "base_uri": "https://localhost:8080/",
          "height": 35
        },
        "id": "AKvpfR7dwn6c",
        "outputId": "d555cefc-0520-41c1-9f04-1702d3fac49e"
      },
      "execution_count": 7,
      "outputs": [
        {
          "output_type": "execute_result",
          "data": {
            "text/plain": [
              "'your friend mark was having a great day on the mountain'"
            ],
            "application/vnd.google.colaboratory.intrinsic+json": {
              "type": "string"
            }
          },
          "metadata": {},
          "execution_count": 7
        }
      ]
    },
    {
      "cell_type": "markdown",
      "source": [
        "## <b>A <i>Slight</i> Change</b>\n",
        "\n",
        "Change the portion of the message that reads <i>\"on the mountain\"</i> to <i>\"at the ski shop\"</i>"
      ],
      "metadata": {
        "id": "ntTFfQjNxZvy"
      }
    },
    {
      "cell_type": "code",
      "source": [
        "new_text = fixed_text.replace('on the mountain', 'at the ski shop')\n",
        "\n",
        "new_text"
      ],
      "metadata": {
        "colab": {
          "base_uri": "https://localhost:8080/",
          "height": 35
        },
        "id": "ls1Ki6rexFjN",
        "outputId": "c06d3f0d-0c64-402e-c8be-93b0ca5a0cc2"
      },
      "execution_count": 8,
      "outputs": [
        {
          "output_type": "execute_result",
          "data": {
            "text/plain": [
              "'your friend mark was having a great day at the ski shop'"
            ],
            "application/vnd.google.colaboratory.intrinsic+json": {
              "type": "string"
            }
          },
          "metadata": {},
          "execution_count": 8
        }
      ]
    },
    {
      "cell_type": "markdown",
      "source": [
        "## <b>Count the words</b>\n",
        "\n",
        "Use the `.count` to count the number of words in the prevoius message. I just need to find out the number of spaces there are in the message then add it by 1."
      ],
      "metadata": {
        "id": "Jpx7SIasxzdS"
      }
    },
    {
      "cell_type": "code",
      "source": [
        "word_count = new_text.count(' ') + 1\n",
        "\n",
        "word_count"
      ],
      "metadata": {
        "colab": {
          "base_uri": "https://localhost:8080/"
        },
        "id": "Jv8H5bT1xxh1",
        "outputId": "70399368-34cc-4b20-b380-82d835e6ca22"
      },
      "execution_count": 12,
      "outputs": [
        {
          "output_type": "execute_result",
          "data": {
            "text/plain": [
              "12"
            ]
          },
          "metadata": {},
          "execution_count": 12
        }
      ]
    }
  ]
}
