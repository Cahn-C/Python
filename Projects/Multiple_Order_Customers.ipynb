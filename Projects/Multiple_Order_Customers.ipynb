{
  "nbformat": 4,
  "nbformat_minor": 0,
  "metadata": {
    "colab": {
      "provenance": []
    },
    "kernelspec": {
      "name": "python3",
      "display_name": "Python 3"
    },
    "language_info": {
      "name": "python"
    }
  },
  "cells": [
    {
      "cell_type": "markdown",
      "source": [
        "# <b>Customers with Muliple Orders</b>\n",
        "\n",
        "- Create a list with these 5 lists as elements\n",
        "- Print the second and third orders for the customer that made three total orders\n",
        "- Create a copy of this list and change the transaction values for C00004(friend of owner) to 0.0 - without changing the original"
      ],
      "metadata": {
        "id": "ES9LQaV9jYQR"
      }
    },
    {
      "cell_type": "code",
      "execution_count": 1,
      "metadata": {
        "id": "FOTHiL1bjTLj"
      },
      "outputs": [],
      "source": [
        "orders_c00001 = [1799.94, 29.98, 99.99]\n",
        "orders_c00004 = [15.98, 119.98]\n",
        "orders_c00006 = [24.98, 24.99]\n",
        "orders_c00008 = [649.99, 99.99]\n",
        "orders_c00010 = [599.99, 399.97]"
      ]
    },
    {
      "cell_type": "markdown",
      "source": [
        "### <b>VIP List</b>\n",
        "\n",
        "Create a list with all 5 orders combined into one list"
      ],
      "metadata": {
        "id": "zvbEZXQllBxA"
      }
    },
    {
      "cell_type": "code",
      "source": [
        "vip_list = [orders_c00001, orders_c00004, orders_c00006, orders_c00008, orders_c00010]\n",
        "\n",
        "vip_list"
      ],
      "metadata": {
        "colab": {
          "base_uri": "https://localhost:8080/"
        },
        "id": "Z7gQmz3okiW9",
        "outputId": "bacc60b4-824f-4c69-e413-e3f657ca61c8"
      },
      "execution_count": 4,
      "outputs": [
        {
          "output_type": "execute_result",
          "data": {
            "text/plain": [
              "[[1799.94, 29.98, 99.99],\n",
              " [15.98, 119.98],\n",
              " [24.98, 24.99],\n",
              " [649.99, 99.99],\n",
              " [599.99, 399.97]]"
            ]
          },
          "metadata": {},
          "execution_count": 4
        }
      ]
    },
    {
      "cell_type": "markdown",
      "source": [
        "### <b>Last two orders</b>\n",
        "\n",
        "Get the secon and third orders from the customer with three total orders"
      ],
      "metadata": {
        "id": "PJugMfu7lMiB"
      }
    },
    {
      "cell_type": "code",
      "source": [
        "vip_list[0][-2:]"
      ],
      "metadata": {
        "colab": {
          "base_uri": "https://localhost:8080/"
        },
        "id": "okvGY7HWkqwG",
        "outputId": "522b6a65-d956-43c8-f347-ee5e7d982a52"
      },
      "execution_count": 7,
      "outputs": [
        {
          "output_type": "execute_result",
          "data": {
            "text/plain": [
              "[29.98, 99.99]"
            ]
          },
          "metadata": {},
          "execution_count": 7
        }
      ]
    },
    {
      "cell_type": "markdown",
      "source": [
        "### <b>Transaction Changes</b>\n",
        "\n",
        "Make a copy of the list then change the values for customer C00004 to 0.0"
      ],
      "metadata": {
        "id": "zPy3Vmf8lw5a"
      }
    },
    {
      "cell_type": "code",
      "source": [
        "from copy import deepcopy"
      ],
      "metadata": {
        "id": "uslFjB29lmAE"
      },
      "execution_count": 8,
      "outputs": []
    },
    {
      "cell_type": "code",
      "source": [
        "revenue_adjusted_list = deepcopy(vip_list)\n",
        "\n",
        "revenue_adjusted_list"
      ],
      "metadata": {
        "colab": {
          "base_uri": "https://localhost:8080/"
        },
        "id": "ueimtlxkmB4M",
        "outputId": "5faa4d2f-6b88-4eb1-b257-5a17acca2fdb"
      },
      "execution_count": 31,
      "outputs": [
        {
          "output_type": "execute_result",
          "data": {
            "text/plain": [
              "[[1799.94, 29.98, 99.99],\n",
              " [15.98, 119.98],\n",
              " [24.98, 24.99],\n",
              " [649.99, 99.99],\n",
              " [599.99, 399.97]]"
            ]
          },
          "metadata": {},
          "execution_count": 31
        }
      ]
    },
    {
      "cell_type": "code",
      "source": [
        "revenue_adjusted_list[1] = [0.0,0.0]\n",
        "\n",
        "revenue_adjusted_list"
      ],
      "metadata": {
        "colab": {
          "base_uri": "https://localhost:8080/"
        },
        "id": "FGRKZvlwpZUl",
        "outputId": "be9c25de-b9d4-46ee-a427-ea7743bd2222"
      },
      "execution_count": 33,
      "outputs": [
        {
          "output_type": "execute_result",
          "data": {
            "text/plain": [
              "[[1799.94, 29.98, 99.99],\n",
              " [0.0, 0.0],\n",
              " [24.98, 24.99],\n",
              " [649.99, 99.99],\n",
              " [599.99, 399.97]]"
            ]
          },
          "metadata": {},
          "execution_count": 33
        }
      ]
    },
    {
      "cell_type": "code",
      "source": [
        "vip_list"
      ],
      "metadata": {
        "colab": {
          "base_uri": "https://localhost:8080/"
        },
        "id": "7ZaEf59ipk2u",
        "outputId": "63516a4e-f1ba-4bcd-baaf-1c5c44d9940d"
      },
      "execution_count": 21,
      "outputs": [
        {
          "output_type": "execute_result",
          "data": {
            "text/plain": [
              "[[1799.94, 29.98, 99.99],\n",
              " [15.98, 119.98],\n",
              " [24.98, 24.99],\n",
              " [649.99, 99.99],\n",
              " [599.99, 399.97]]"
            ]
          },
          "metadata": {},
          "execution_count": 21
        }
      ]
    }
  ]
}