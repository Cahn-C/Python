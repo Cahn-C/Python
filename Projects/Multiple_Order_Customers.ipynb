{
  "nbformat": 4,
  "nbformat_minor": 0,
  "metadata": {
    "colab": {
      "provenance": []
    },
    "kernelspec": {
      "name": "python3",
      "display_name": "Python 3"
    },
    "language_info": {
      "name": "python"
    }
  },
  "cells": [
    {
      "cell_type": "markdown",
      "source": [
        "# <b>Customers with Muliple Orders</b>\n",
        "\n",
        "- Create a list with these 5 lists as elements\n",
        "- Print the second and third orders for the customer that made three total orders\n",
        "- Create a copy of this list and change the transaction values for C00004(friend of owner) to 0.0 - without changing the original"
      ],
      "metadata": {
        "id": "ES9LQaV9jYQR"
      }
    },
    {
      "cell_type": "code",
      "execution_count": 2,
      "metadata": {
        "id": "FOTHiL1bjTLj"
      },
      "outputs": [],
      "source": [
        "orders_c00001 = [1799.94, 29.98, 99.99]\n",
        "orders_c00004 = [15.98, 119.98]\n",
        "orders_c00006 = [24.98, 24.99]\n",
        "orders_c00008 = [649.99, 99.99]\n",
        "orders_c00010 = [599.99, 399.97]"
      ]
    },
    {
      "cell_type": "markdown",
      "source": [
        "### <b>VIP List</b>\n",
        "\n",
        "Create a list with all 5 orders combined into one list"
      ],
      "metadata": {
        "id": "zvbEZXQllBxA"
      }
    },
    {
      "cell_type": "code",
      "source": [
        "vip_list = [orders_c00001, orders_c00004, orders_c00006, orders_c00008, orders_c00010]\n",
        "\n",
        "vip_list"
      ],
      "metadata": {
        "colab": {
          "base_uri": "https://localhost:8080/"
        },
        "id": "Z7gQmz3okiW9",
        "outputId": "c7a11875-61cc-4096-f8b9-6ffe5e06fd46"
      },
      "execution_count": 3,
      "outputs": [
        {
          "output_type": "execute_result",
          "data": {
            "text/plain": [
              "[[1799.94, 29.98, 99.99],\n",
              " [15.98, 119.98],\n",
              " [24.98, 24.99],\n",
              " [649.99, 99.99],\n",
              " [599.99, 399.97]]"
            ]
          },
          "metadata": {},
          "execution_count": 3
        }
      ]
    },
    {
      "cell_type": "markdown",
      "source": [
        "### <b>Last two orders</b>\n",
        "\n",
        "Get the secon and third orders from the customer with three total orders"
      ],
      "metadata": {
        "id": "PJugMfu7lMiB"
      }
    },
    {
      "cell_type": "code",
      "source": [
        "vip_list[0][-2:]"
      ],
      "metadata": {
        "colab": {
          "base_uri": "https://localhost:8080/"
        },
        "id": "okvGY7HWkqwG",
        "outputId": "ff956969-640e-4a7e-f718-a1e9787b23b0"
      },
      "execution_count": 4,
      "outputs": [
        {
          "output_type": "execute_result",
          "data": {
            "text/plain": [
              "[29.98, 99.99]"
            ]
          },
          "metadata": {},
          "execution_count": 4
        }
      ]
    },
    {
      "cell_type": "markdown",
      "source": [
        "### <b>Transaction Changes</b>\n",
        "\n",
        "Make a copy of the list then change the values for customer C00004 to 0.0"
      ],
      "metadata": {
        "id": "zPy3Vmf8lw5a"
      }
    },
    {
      "cell_type": "code",
      "source": [
        "from copy import deepcopy"
      ],
      "metadata": {
        "id": "uslFjB29lmAE"
      },
      "execution_count": 5,
      "outputs": []
    },
    {
      "cell_type": "code",
      "source": [
        "revenue_adjusted_list = deepcopy(vip_list)\n",
        "\n",
        "revenue_adjusted_list"
      ],
      "metadata": {
        "colab": {
          "base_uri": "https://localhost:8080/"
        },
        "id": "ueimtlxkmB4M",
        "outputId": "702b118a-7ac7-42f9-8101-569c95b0671e"
      },
      "execution_count": 6,
      "outputs": [
        {
          "output_type": "execute_result",
          "data": {
            "text/plain": [
              "[[1799.94, 29.98, 99.99],\n",
              " [15.98, 119.98],\n",
              " [24.98, 24.99],\n",
              " [649.99, 99.99],\n",
              " [599.99, 399.97]]"
            ]
          },
          "metadata": {},
          "execution_count": 6
        }
      ]
    },
    {
      "cell_type": "code",
      "source": [
        "revenue_adjusted_list[1] = [0.0,0.0]\n",
        "\n",
        "revenue_adjusted_list"
      ],
      "metadata": {
        "colab": {
          "base_uri": "https://localhost:8080/"
        },
        "id": "FGRKZvlwpZUl",
        "outputId": "fbb24177-1e24-4a7d-9798-305adc2ddb30"
      },
      "execution_count": 7,
      "outputs": [
        {
          "output_type": "execute_result",
          "data": {
            "text/plain": [
              "[[1799.94, 29.98, 99.99],\n",
              " [0.0, 0.0],\n",
              " [24.98, 24.99],\n",
              " [649.99, 99.99],\n",
              " [599.99, 399.97]]"
            ]
          },
          "metadata": {},
          "execution_count": 7
        }
      ]
    },
    {
      "cell_type": "code",
      "source": [
        "vip_list"
      ],
      "metadata": {
        "colab": {
          "base_uri": "https://localhost:8080/"
        },
        "id": "7ZaEf59ipk2u",
        "outputId": "a73f396d-496e-4d54-9fe6-7db7efe05dab"
      },
      "execution_count": 8,
      "outputs": [
        {
          "output_type": "execute_result",
          "data": {
            "text/plain": [
              "[[1799.94, 29.98, 99.99],\n",
              " [15.98, 119.98],\n",
              " [24.98, 24.99],\n",
              " [649.99, 99.99],\n",
              " [599.99, 399.97]]"
            ]
          },
          "metadata": {},
          "execution_count": 8
        }
      ]
    },
    {
      "cell_type": "markdown",
      "source": [
        "# <b>Sales Tax</b>\n",
        "\n",
        "I will need to calculate the sales taxes for the company's customer that made three transactions\n",
        "\n",
        "The customer that made three transactions was customer C00001"
      ],
      "metadata": {
        "id": "taI-MiaexEWy"
      }
    },
    {
      "cell_type": "code",
      "source": [
        "transaction1, transaction2, transaction3 = tuple(vip_list[0])"
      ],
      "metadata": {
        "id": "aMXdwy-TxEEz"
      },
      "execution_count": 45,
      "outputs": []
    },
    {
      "cell_type": "code",
      "source": [
        "transaction1"
      ],
      "metadata": {
        "colab": {
          "base_uri": "https://localhost:8080/"
        },
        "id": "ODS0HmQGxXKf",
        "outputId": "47b0fce2-43f8-4ac3-b345-4e7d436d9a5c"
      },
      "execution_count": 46,
      "outputs": [
        {
          "output_type": "execute_result",
          "data": {
            "text/plain": [
              "1799.94"
            ]
          },
          "metadata": {},
          "execution_count": 46
        }
      ]
    },
    {
      "cell_type": "code",
      "source": [
        "transaction2"
      ],
      "metadata": {
        "colab": {
          "base_uri": "https://localhost:8080/"
        },
        "id": "v6pF5X9YxgBK",
        "outputId": "149d0816-4280-4a23-ca77-ac219bd90fa6"
      },
      "execution_count": 47,
      "outputs": [
        {
          "output_type": "execute_result",
          "data": {
            "text/plain": [
              "29.98"
            ]
          },
          "metadata": {},
          "execution_count": 47
        }
      ]
    },
    {
      "cell_type": "code",
      "source": [
        "transaction3"
      ],
      "metadata": {
        "colab": {
          "base_uri": "https://localhost:8080/"
        },
        "id": "DNBZUYMExmad",
        "outputId": "77b2ba25-6d19-46c9-90ab-8a494d17846b"
      },
      "execution_count": 48,
      "outputs": [
        {
          "output_type": "execute_result",
          "data": {
            "text/plain": [
              "99.99"
            ]
          },
          "metadata": {},
          "execution_count": 48
        }
      ]
    },
    {
      "cell_type": "code",
      "source": [
        "print(round(transaction1 * 0.08, 2))\n",
        "print(round(transaction2 * 0.08, 2))\n",
        "print(round(transaction3 * 0.08, 2))"
      ],
      "metadata": {
        "colab": {
          "base_uri": "https://localhost:8080/"
        },
        "id": "gAYbTql2xnOB",
        "outputId": "c3eae348-e139-4e6a-8797-01c15d2a5030"
      },
      "execution_count": 49,
      "outputs": [
        {
          "output_type": "stream",
          "name": "stdout",
          "text": [
            "144.0\n",
            "2.4\n",
            "8.0\n"
          ]
        }
      ]
    }
  ]
}