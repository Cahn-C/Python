{
  "nbformat": 4,
  "nbformat_minor": 0,
  "metadata": {
    "colab": {
      "provenance": []
    },
    "kernelspec": {
      "name": "python3",
      "display_name": "Python 3"
    },
    "language_info": {
      "name": "python"
    }
  },
  "cells": [
    {
      "cell_type": "markdown",
      "source": [
        "# <b>Black Friday Customers</b>\n",
        "\n",
        "- Return 99.99 if customer C00009 made a purchase, otherwise return 0.0\n",
        "- Create seperate lists for the 5th adn 6th custoemr, every third customer, and the last 2 customers, we're conducting market research"
      ],
      "metadata": {
        "id": "SYiTRmZNwFc5"
      }
    },
    {
      "cell_type": "markdown",
      "source": [
        "### <b>List of customers that made purchases on Black Friday</b>\n",
        "\n",
        "The customers that made purchases on Black Friday were:\n",
        "\n",
        "C00001, C00003, C00004, C00005, C00006, C00007, C00018, C00010, C00013, C00014, C00015, C00016, C00029"
      ],
      "metadata": {
        "id": "HtLJBFXarsUj"
      }
    },
    {
      "cell_type": "code",
      "execution_count": 24,
      "metadata": {
        "id": "21zIlqHywDdh"
      },
      "outputs": [],
      "source": [
        "customer_list = [\n",
        "                 'C00001', 'C00003', 'C00004', 'C00005', 'C00006',\n",
        "                 'C00007', 'C00018', 'C00010', 'C00013', 'C00014',\n",
        "                 'C00015', 'C00016', 'C00029'\n",
        "                ]"
      ]
    },
    {
      "cell_type": "code",
      "source": [
        "customer_list"
      ],
      "metadata": {
        "colab": {
          "base_uri": "https://localhost:8080/"
        },
        "id": "FaJr8cdDsYFC",
        "outputId": "57f81a66-427a-451a-a7bd-6eb51ff19dec"
      },
      "execution_count": 25,
      "outputs": [
        {
          "output_type": "execute_result",
          "data": {
            "text/plain": [
              "['C00001',\n",
              " 'C00003',\n",
              " 'C00004',\n",
              " 'C00005',\n",
              " 'C00006',\n",
              " 'C00007',\n",
              " 'C00018',\n",
              " 'C00010',\n",
              " 'C00013',\n",
              " 'C00014',\n",
              " 'C00015',\n",
              " 'C00016',\n",
              " 'C00029']"
            ]
          },
          "metadata": {},
          "execution_count": 25
        }
      ]
    },
    {
      "cell_type": "markdown",
      "source": [
        "### <b>Did C00009 make a purchase</b>\n",
        "\n",
        "This customer said they made a purchase we're not seeing it inour data. If they did, we need to record the revenue."
      ],
      "metadata": {
        "id": "3fyZTlCqsxZD"
      }
    },
    {
      "cell_type": "code",
      "source": [
        "('C00009' in customer_list) * 99.99"
      ],
      "metadata": {
        "colab": {
          "base_uri": "https://localhost:8080/"
        },
        "id": "ZlqTr02IsaT2",
        "outputId": "1b57e542-9338-4fa1-aace-09b3d87c0ce2"
      },
      "execution_count": 26,
      "outputs": [
        {
          "output_type": "execute_result",
          "data": {
            "text/plain": [
              "0.0"
            ]
          },
          "metadata": {},
          "execution_count": 26
        }
      ]
    },
    {
      "cell_type": "markdown",
      "source": [
        "### <b>Market Research Samples</b>\n",
        "\n",
        "1. Contain the fifth and sixth customer and name the list `fifth_sixth`"
      ],
      "metadata": {
        "id": "Wa94m7_qtxRz"
      }
    },
    {
      "cell_type": "code",
      "source": [
        "# fifth_sixth = [customer_list[4], customer_list[5]]\n",
        "\n",
        "# or\n",
        "\n",
        "fifth_sixth = customer_list[4:6]\n",
        "\n",
        "fifth_sixth"
      ],
      "metadata": {
        "colab": {
          "base_uri": "https://localhost:8080/"
        },
        "id": "eauYgsl2thIa",
        "outputId": "36828107-02da-4fb9-d6c7-4223af55180d"
      },
      "execution_count": 27,
      "outputs": [
        {
          "output_type": "execute_result",
          "data": {
            "text/plain": [
              "['C00006', 'C00007']"
            ]
          },
          "metadata": {},
          "execution_count": 27
        }
      ]
    },
    {
      "cell_type": "markdown",
      "source": [
        "2. Contains every third customer in the list (1st, 4th, 7th, and so on)"
      ],
      "metadata": {
        "id": "tmFEL8ObuK-W"
      }
    },
    {
      "cell_type": "code",
      "source": [
        "every_third = customer_list[::3]\n",
        "\n",
        "every_third"
      ],
      "metadata": {
        "colab": {
          "base_uri": "https://localhost:8080/"
        },
        "id": "EP4WWy_buHyl",
        "outputId": "589f473b-0eed-4eee-be86-a9ddf01d0fe2"
      },
      "execution_count": 28,
      "outputs": [
        {
          "output_type": "execute_result",
          "data": {
            "text/plain": [
              "['C00001', 'C00005', 'C00018', 'C00014', 'C00029']"
            ]
          },
          "metadata": {},
          "execution_count": 28
        }
      ]
    },
    {
      "cell_type": "markdown",
      "source": [
        "3. Contains the last two customers within the company's dataset"
      ],
      "metadata": {
        "id": "0p3CVXuOuuNV"
      }
    },
    {
      "cell_type": "code",
      "source": [
        "last_two = customer_list[-2:]\n",
        "\n",
        "last_two"
      ],
      "metadata": {
        "colab": {
          "base_uri": "https://localhost:8080/"
        },
        "id": "g8ryGsHGuf3A",
        "outputId": "005ea5e4-c563-4728-bb8c-ad7aaa0c7820"
      },
      "execution_count": 29,
      "outputs": [
        {
          "output_type": "execute_result",
          "data": {
            "text/plain": [
              "['C00016', 'C00029']"
            ]
          },
          "metadata": {},
          "execution_count": 29
        }
      ]
    },
    {
      "cell_type": "markdown",
      "source": [
        "## <b>Adding Customers</b>"
      ],
      "metadata": {
        "id": "uDecqh4Q0-2l"
      }
    },
    {
      "cell_type": "markdown",
      "source": [
        "The company was able to find the receipt for customer C00009 in the warehouse, I will need to add that customer into the list"
      ],
      "metadata": {
        "id": "QZIjb6Ci2Mk1"
      }
    },
    {
      "cell_type": "code",
      "source": [
        "customer_list.append('C00009')"
      ],
      "metadata": {
        "id": "c7M3fFcG2EMO"
      },
      "execution_count": 31,
      "outputs": []
    },
    {
      "cell_type": "code",
      "source": [
        "customer_list"
      ],
      "metadata": {
        "colab": {
          "base_uri": "https://localhost:8080/"
        },
        "id": "mANEMusm2FDi",
        "outputId": "2b1f3656-24ec-4b6a-bf96-c454be1463a7"
      },
      "execution_count": 32,
      "outputs": [
        {
          "output_type": "execute_result",
          "data": {
            "text/plain": [
              "['C00001',\n",
              " 'C00003',\n",
              " 'C00004',\n",
              " 'C00005',\n",
              " 'C00006',\n",
              " 'C00007',\n",
              " 'C00018',\n",
              " 'C00010',\n",
              " 'C00013',\n",
              " 'C00014',\n",
              " 'C00015',\n",
              " 'C00016',\n",
              " 'C00029',\n",
              " 'C00009']"
            ]
          },
          "metadata": {},
          "execution_count": 32
        }
      ]
    },
    {
      "cell_type": "markdown",
      "source": [
        "The company has also decided to extend the sale through Saturday due to high volume\n",
        "\n",
        "I will need to make a Saturday list then add the orignal list of customers to that list"
      ],
      "metadata": {
        "id": "fyK8WFqa2YRO"
      }
    },
    {
      "cell_type": "code",
      "source": [
        "new_customers_list = ['C00004', 'C00017', 'C00019', 'C00002', 'C00008', 'C00021', 'C00022']"
      ],
      "metadata": {
        "id": "FVr1yV8G2JWo"
      },
      "execution_count": 39,
      "outputs": []
    },
    {
      "cell_type": "code",
      "source": [
        "saturday_list = customer_list + new_customers_list\n",
        "\n",
        "\n",
        "saturday_list"
      ],
      "metadata": {
        "colab": {
          "base_uri": "https://localhost:8080/"
        },
        "id": "xHVpeWwF3BYV",
        "outputId": "658c5fa5-3eb6-4a82-f3e0-32aad821bd62"
      },
      "execution_count": 40,
      "outputs": [
        {
          "output_type": "execute_result",
          "data": {
            "text/plain": [
              "['C00001',\n",
              " 'C00003',\n",
              " 'C00004',\n",
              " 'C00005',\n",
              " 'C00006',\n",
              " 'C00007',\n",
              " 'C00018',\n",
              " 'C00010',\n",
              " 'C00013',\n",
              " 'C00014',\n",
              " 'C00015',\n",
              " 'C00016',\n",
              " 'C00029',\n",
              " 'C00009',\n",
              " 'C00004',\n",
              " 'C00017',\n",
              " 'C00019',\n",
              " 'C00002',\n",
              " 'C00008',\n",
              " 'C00021',\n",
              " 'C00022']"
            ]
          },
          "metadata": {},
          "execution_count": 40
        }
      ]
    },
    {
      "cell_type": "markdown",
      "source": [
        "## <b>Change of Plan</b>\n",
        "\n",
        "- The company has decided to keep the Friday and Saturday sales separate for now.\n",
        "- Also, customer C00004 is a friend of the owner and should not be counted in the Black Friday sales.\n"
      ],
      "metadata": {
        "id": "vQoyOlfG4g9O"
      }
    },
    {
      "cell_type": "markdown",
      "source": [
        "### <b>Removing Saturday's customers</b>"
      ],
      "metadata": {
        "id": "WdeeZ9jU4lx1"
      }
    },
    {
      "cell_type": "code",
      "source": [
        "del saturday_list[14:]"
      ],
      "metadata": {
        "id": "Pz3z-GOA4cIu"
      },
      "execution_count": 44,
      "outputs": []
    },
    {
      "cell_type": "code",
      "source": [
        "saturday_list"
      ],
      "metadata": {
        "colab": {
          "base_uri": "https://localhost:8080/"
        },
        "id": "Ux-VXsik4ygE",
        "outputId": "ef75ef51-535f-4d97-93f0-18fb4c46e31c"
      },
      "execution_count": 45,
      "outputs": [
        {
          "output_type": "execute_result",
          "data": {
            "text/plain": [
              "['C00001',\n",
              " 'C00003',\n",
              " 'C00004',\n",
              " 'C00005',\n",
              " 'C00006',\n",
              " 'C00007',\n",
              " 'C00018',\n",
              " 'C00010',\n",
              " 'C00013',\n",
              " 'C00014',\n",
              " 'C00015',\n",
              " 'C00016',\n",
              " 'C00029',\n",
              " 'C00009']"
            ]
          },
          "metadata": {},
          "execution_count": 45
        }
      ]
    },
    {
      "cell_type": "markdown",
      "source": [
        "### <b>Removing customer C00004</b>"
      ],
      "metadata": {
        "id": "FtFbHy6W5EHu"
      }
    },
    {
      "cell_type": "code",
      "source": [
        "customer_list.remove('C00004')"
      ],
      "metadata": {
        "id": "RF7ckW9l4-Xs"
      },
      "execution_count": 46,
      "outputs": []
    },
    {
      "cell_type": "code",
      "source": [
        "customer_list"
      ],
      "metadata": {
        "colab": {
          "base_uri": "https://localhost:8080/"
        },
        "id": "XLxhdyZk5NLJ",
        "outputId": "a66ddcca-695b-46e6-b33f-966e466468b8"
      },
      "execution_count": 47,
      "outputs": [
        {
          "output_type": "execute_result",
          "data": {
            "text/plain": [
              "['C00001',\n",
              " 'C00003',\n",
              " 'C00005',\n",
              " 'C00006',\n",
              " 'C00007',\n",
              " 'C00018',\n",
              " 'C00010',\n",
              " 'C00013',\n",
              " 'C00014',\n",
              " 'C00015',\n",
              " 'C00016',\n",
              " 'C00029',\n",
              " 'C00009']"
            ]
          },
          "metadata": {},
          "execution_count": 47
        }
      ]
    }
  ]
}