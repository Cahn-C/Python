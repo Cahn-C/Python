{
  "nbformat": 4,
  "nbformat_minor": 0,
  "metadata": {
    "colab": {
      "provenance": []
    },
    "kernelspec": {
      "name": "python3",
      "display_name": "Python 3"
    },
    "language_info": {
      "name": "python"
    }
  },
  "cells": [
    {
      "cell_type": "markdown",
      "source": [
        "# <b>Lambda</b>\n",
        "\n",
        "One of Pythons most useful tools is the lambda expression. Lambda expressions allow us to create \"anonymous\" functoins. This basically means we can quickly make ad-hoc functions without needing to properly define a function using `def`\n",
        "\n",
        "Function objects returned by running lambda expressions work exactly the same as those created and assigned by `defs`. There is a key difference that makes lambda useful in specialized roles\n",
        "\n",
        "<b>Lambda's body is a single expression, not a block of statements</b>\n",
        "  - Python supports the creation of anonymous functions at runtime, using a construct called `lambda`\n",
        "  - This approach is most commonly ised when passing a simple function as an argument to another function"
      ],
      "metadata": {
        "id": "pqAyeabBueUR"
      }
    },
    {
      "cell_type": "code",
      "execution_count": 5,
      "metadata": {
        "colab": {
          "base_uri": "https://localhost:8080/"
        },
        "id": "OU4l-C-fuVr7",
        "outputId": "88884289-ea64-4d86-9aa0-98b83587360a"
      },
      "outputs": [
        {
          "output_type": "stream",
          "name": "stdout",
          "text": [
            "10\n"
          ]
        }
      ],
      "source": [
        "def square(num):\n",
        "  result = num * 5\n",
        "  return result\n",
        "\n",
        "print(square(2))"
      ]
    },
    {
      "cell_type": "markdown",
      "source": [
        "We can actually write in one line (Which is not recommended)"
      ],
      "metadata": {
        "id": "n125ruBCwm_q"
      }
    },
    {
      "cell_type": "code",
      "source": [
        "def square(num): return num * 2"
      ],
      "metadata": {
        "id": "8uAKxrQnwVEz"
      },
      "execution_count": 6,
      "outputs": []
    },
    {
      "cell_type": "markdown",
      "source": [
        "This is the form of a function that a lambda expression intends to replicate. A lambda expression can then be written as:"
      ],
      "metadata": {
        "id": "hgcW3JMCw95X"
      }
    },
    {
      "cell_type": "code",
      "source": [
        "square_num = lambda num: num * 2"
      ],
      "metadata": {
        "id": "FTSqw1srw9Fa"
      },
      "execution_count": 7,
      "outputs": []
    },
    {
      "cell_type": "code",
      "source": [
        "square_num(5)"
      ],
      "metadata": {
        "colab": {
          "base_uri": "https://localhost:8080/"
        },
        "id": "nB0ZeNj0xe41",
        "outputId": "46c788a1-af2e-4f7a-dd2f-2c709f0a37ed"
      },
      "execution_count": 8,
      "outputs": [
        {
          "output_type": "execute_result",
          "data": {
            "text/plain": [
              "10"
            ]
          },
          "metadata": {},
          "execution_count": 8
        }
      ]
    }
  ]
}
