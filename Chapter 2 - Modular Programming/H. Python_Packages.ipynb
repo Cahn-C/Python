{
  "nbformat": 4,
  "nbformat_minor": 0,
  "metadata": {
    "colab": {
      "provenance": []
    },
    "kernelspec": {
      "name": "python3",
      "display_name": "Python 3"
    },
    "language_info": {
      "name": "python"
    }
  },
  "cells": [
    {
      "cell_type": "markdown",
      "source": [
        "# <b>Modules, Packages and `import`</b>\n",
        "\n",
        "A module is a collection of functions and variables that have been bundled in a single file. Module helps us:\n",
        "\n",
        "- Used for code organization, packaging and reusability\n",
        "- Module: A Python file\n",
        "- Package: A folder with an `__init__.py` file\n",
        "- Namespace is based on a file's directory path\n",
        "\n",
        "Module's are usually organized around a theme. To access our module, import it using the `import` statement. Math module provides access to the mathematical functions"
      ],
      "metadata": {
        "id": "O6ztermh-uCz"
      }
    },
    {
      "cell_type": "code",
      "execution_count": 1,
      "metadata": {
        "colab": {
          "base_uri": "https://localhost:8080/"
        },
        "id": "dqBH9fG7816h",
        "outputId": "5dbe82fe-0261-4c78-9ebb-7d309402b600"
      },
      "outputs": [
        {
          "output_type": "execute_result",
          "data": {
            "text/plain": [
              "8.0"
            ]
          },
          "metadata": {},
          "execution_count": 1
        }
      ],
      "source": [
        "# import the math module\n",
        "import math\n",
        "\n",
        "# use the log10 function in the math module\n",
        "math.pow(2, 3)"
      ]
    },
    {
      "cell_type": "code",
      "source": [],
      "metadata": {
        "id": "MvdUS_66ARuf"
      },
      "execution_count": null,
      "outputs": []
    }
  ]
}