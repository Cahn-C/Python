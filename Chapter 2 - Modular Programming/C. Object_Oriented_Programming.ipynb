{
  "nbformat": 4,
  "nbformat_minor": 0,
  "metadata": {
    "colab": {
      "provenance": []
    },
    "kernelspec": {
      "name": "python3",
      "display_name": "Python 3"
    },
    "language_info": {
      "name": "python"
    }
  },
  "cells": [
    {
      "cell_type": "markdown",
      "source": [
        "# <b>Objects</b>\n",
        "\n",
        "In Python, everything is an object. Use `type()` to check the type of the object."
      ],
      "metadata": {
        "id": "LatUNg_Zy6RX"
      }
    },
    {
      "cell_type": "code",
      "execution_count": 5,
      "metadata": {
        "id": "of1ckHBPyZpO"
      },
      "outputs": [],
      "source": [
        "a = \"Hello, my name is Chaanyah\""
      ]
    },
    {
      "cell_type": "code",
      "source": [
        "type(a)"
      ],
      "metadata": {
        "colab": {
          "base_uri": "https://localhost:8080/"
        },
        "id": "ndUIy39_zKlO",
        "outputId": "92ad9fff-6972-4477-b751-04969dad0574"
      },
      "execution_count": 6,
      "outputs": [
        {
          "output_type": "execute_result",
          "data": {
            "text/plain": [
              "str"
            ]
          },
          "metadata": {},
          "execution_count": 6
        }
      ]
    },
    {
      "cell_type": "code",
      "source": [
        "a.upper()"
      ],
      "metadata": {
        "colab": {
          "base_uri": "https://localhost:8080/",
          "height": 35
        },
        "id": "ulrVZ2CHzLhl",
        "outputId": "1b407735-50b1-439c-d215-3232a2c5bb1f"
      },
      "execution_count": 7,
      "outputs": [
        {
          "output_type": "execute_result",
          "data": {
            "text/plain": [
              "'HELLO, MY NAME IS CHAANYAH'"
            ],
            "application/vnd.google.colaboratory.intrinsic+json": {
              "type": "string"
            }
          },
          "metadata": {},
          "execution_count": 7
        }
      ]
    },
    {
      "cell_type": "code",
      "source": [
        "a.lower()"
      ],
      "metadata": {
        "colab": {
          "base_uri": "https://localhost:8080/",
          "height": 35
        },
        "id": "esp8kqPWzSB-",
        "outputId": "0ad18fcb-a349-4b29-dbf2-bfe3bb69849b"
      },
      "execution_count": 8,
      "outputs": [
        {
          "output_type": "execute_result",
          "data": {
            "text/plain": [
              "'hello, my name is chaanyah'"
            ],
            "application/vnd.google.colaboratory.intrinsic+json": {
              "type": "string"
            }
          },
          "metadata": {},
          "execution_count": 8
        }
      ]
    },
    {
      "cell_type": "code",
      "source": [
        "print(type(1))\n",
        "print(type([]))\n",
        "print(type({}))\n",
        "print(type(()))"
      ],
      "metadata": {
        "colab": {
          "base_uri": "https://localhost:8080/"
        },
        "id": "Xc59XSwxzTdq",
        "outputId": "f6a52098-4cb1-4e05-9b76-1a3c40bbc488"
      },
      "execution_count": 9,
      "outputs": [
        {
          "output_type": "stream",
          "name": "stdout",
          "text": [
            "<class 'int'>\n",
            "<class 'list'>\n",
            "<class 'dict'>\n",
            "<class 'tuple'>\n"
          ]
        }
      ]
    },
    {
      "cell_type": "markdown",
      "source": [
        "#<b>Class</b>\n",
        "\n",
        "How can we create our own Object types? That is where the `class` keyword comes in\n",
        "\n",
        "The user defined objects are created using the class keyword. The class is a blueprint that defines a nature of a future object. From classes we can construct instances. An instance is a specific object created from a particular class"
      ],
      "metadata": {
        "id": "WZ-eD6zpzb6R"
      }
    },
    {
      "cell_type": "code",
      "source": [
        "# Create a new object type called Sample\n",
        "class Sample():\n",
        "  pass\n",
        "\n",
        "# Instance of Sample\n",
        "x = Sample()\n",
        "\n",
        "print(type(x))"
      ],
      "metadata": {
        "colab": {
          "base_uri": "https://localhost:8080/"
        },
        "id": "MEqr1lpEzaKN",
        "outputId": "00f34f91-657f-4839-fb9f-c9d252595330"
      },
      "execution_count": 10,
      "outputs": [
        {
          "output_type": "stream",
          "name": "stdout",
          "text": [
            "<class '__main__.Sample'>\n"
          ]
        }
      ]
    },
    {
      "cell_type": "markdown",
      "source": [
        "Note how x is now the reference to our new instance of a Sample class. In other words, we <b>instantiate</b> the Sample class\n",
        "\n",
        "Inside of the class we currently just have pass. But we can define class attributes and methods\n",
        "\n",
        "An <b>attribute</b> is a characteristic of an object. A <b>method</b> is an operation we can perform with the object\n",
        "\n",
        "For example we can create a class called Dog. An attribute of a dog may be its breed or its name, while a method of a dog may be defined by a .bark() method which returns a sound\n",
        "\n",
        "# <b>Attributes</b>\n",
        "\n",
        "The syntax for creating an attribute is:\n",
        "\n",
        "    self.attribute = something\n",
        "\n",
        "There is a special method called:\n",
        "\n",
        "    __init__()\n",
        "\n",
        "which is ued to initialize the attribute of an object"
      ],
      "metadata": {
        "id": "R8RGzWPE0tb6"
      }
    },
    {
      "cell_type": "code",
      "source": [
        "class Dog(object):\n",
        "  def __init__(self, breed):      # self should be the first argument always in the __init__ method\n",
        "    self.breed = breed\n",
        "\n",
        "sam = Dog(breed = \"Lab\")          # Instance 1. Copy one of the class Dog\n",
        "frank = Dog(breed = \"Huskie\")     # Instance 2. Copy two of the class Dog"
      ],
      "metadata": {
        "id": "TPI6llpJ0eHL"
      },
      "execution_count": 15,
      "outputs": []
    },
    {
      "cell_type": "markdown",
      "source": [
        "Lets break down what we have above. The special method\n",
        "\n",
        "    __init__()\n",
        "\n",
        "Is called automatically right after the object has been created:\n",
        "\n",
        "    def __init__(self, breed):\n",
        "\n",
        "Each attribute in a class definition begins with a reference to the instance object. It it by convention named `self`. The breed is the argument. The calue is passed during the class instantiation\n",
        "\n",
        "    self.breed = breed\n",
        "\n",
        "Now we have created two instances of the Dog class. With two breed types, we can then access these attributes like this:"
      ],
      "metadata": {
        "id": "b2ZGKzYx6Ore"
      }
    },
    {
      "cell_type": "code",
      "source": [
        "sam.breed"
      ],
      "metadata": {
        "colab": {
          "base_uri": "https://localhost:8080/",
          "height": 35
        },
        "id": "23Mzghds5Z6N",
        "outputId": "26cb61b0-d35f-4380-fac1-5ad84156bde7"
      },
      "execution_count": 13,
      "outputs": [
        {
          "output_type": "execute_result",
          "data": {
            "text/plain": [
              "'Lab'"
            ],
            "application/vnd.google.colaboratory.intrinsic+json": {
              "type": "string"
            }
          },
          "metadata": {},
          "execution_count": 13
        }
      ]
    },
    {
      "cell_type": "code",
      "source": [
        "frank.breed"
      ],
      "metadata": {
        "colab": {
          "base_uri": "https://localhost:8080/",
          "height": 35
        },
        "id": "UMDOUNFm7IDU",
        "outputId": "2d13e09b-4ede-4a5d-8d24-1f345b654b34"
      },
      "execution_count": 16,
      "outputs": [
        {
          "output_type": "execute_result",
          "data": {
            "text/plain": [
              "'Huskie'"
            ],
            "application/vnd.google.colaboratory.intrinsic+json": {
              "type": "string"
            }
          },
          "metadata": {},
          "execution_count": 16
        }
      ]
    },
    {
      "cell_type": "markdown",
      "source": [
        "Note how we don't have any parenthesis after breed, this is because it is an attribute and doesn't take any arguments"
      ],
      "metadata": {
        "id": "eqXqEpeq7UJl"
      }
    },
    {
      "cell_type": "markdown",
      "source": [
        "# <b>Methods</b>\n",
        "\n",
        "Methods are functions defined inside the body of a class. They are used to perform opreations with the attributes of our objects. Methods are essential in encapsulation concept of the OOP diagram. This is essential in dividing responsibilities in programming, especially in large applications\n",
        "\n",
        "You can basically think of methods as functions acting on an Object that takes the Objet itself into account through its self argument"
      ],
      "metadata": {
        "id": "TK-kUcWX7fvQ"
      }
    },
    {
      "cell_type": "markdown",
      "source": [
        "## <b>Explanation</b>\n",
        "\n",
        "  - `self` is similar to the `this` pointer in other languages, except that(1) it needs to be explicitly passed as the first parameter of the instance method, and (2) is not a reserved keyword\n",
        "  - The `__init__` method is an initializer (not constructor) and called on instantiation\n",
        "  - The `__str__` method is equivalent to toString()\n",
        "  - The `__repr__` method defines how the object is repersented on console"
      ],
      "metadata": {
        "id": "HWqfdYcX8JZC"
      }
    },
    {
      "cell_type": "code",
      "source": [
        "class Cirlce(object):\n",
        "  pi = 3.14 # This is a Class-Object attribute\n",
        "            # It remains the same for all of the methods within the class\n",
        "\n",
        "  # Circle get instantiated with a radius(default is 1)\n",
        "  def __init__(self, radius = 1):\n",
        "    self.radius = radius\n",
        "\n",
        "  # Area method calculates the area. Note the use of self\n",
        "  def area(self):\n",
        "    return self.radius * self.radius * Cirlce.pi\n",
        "\n",
        "  # Method for resetting Radius\n",
        "  def setRadius(self, radius):\n",
        "    self.radius = radius\n",
        "\n",
        "  # Method for getting radius(Sames as just calling .radius)\n",
        "  def getRadius(self):\n",
        "    return self.radius\n",
        "\n",
        "c = Cirlce()\n",
        "\n",
        "c.setRadius(2)\n",
        "print(\"Radius is: \", c.getRadius())\n",
        "print(\"Area is: \", c.area())"
      ],
      "metadata": {
        "colab": {
          "base_uri": "https://localhost:8080/"
        },
        "id": "w6-fF_az7JVb",
        "outputId": "3f942708-8ea3-4eb8-96d8-282873c07b91"
      },
      "execution_count": 18,
      "outputs": [
        {
          "output_type": "stream",
          "name": "stdout",
          "text": [
            "Radius is:  2\n",
            "Area is:  12.56\n"
          ]
        }
      ]
    },
    {
      "cell_type": "markdown",
      "source": [
        "## <b>Instance vs Class vs Static Method</b>\n",
        "\n",
        "- Instance methods have access to the instance of the class\n",
        "- Class methods have access to the class (classes are also objects in Python), but not instances. This is similar to the static methods in Java/C#\n",
        "- Static methods have no access to either instances or classes. They are more like plain functions, just bounded with the class for scoping"
      ],
      "metadata": {
        "id": "snWrLcQ8DDcE"
      }
    },
    {
      "cell_type": "code",
      "source": [
        "class MyClass:\n",
        "  def instance_method(self):\n",
        "    print(\"instance method called\", self)\n",
        "\n",
        "  @classmethod\n",
        "  def class_method(cls):\n",
        "    print(\"class method called\", cls)\n",
        "\n",
        "  @staticmethod\n",
        "  def static_method():\n",
        "    print(\"static method called\")\n",
        "\n",
        "obj = MyClass()\n",
        "\n",
        "obj.instance_method()\n",
        "MyClass.class_method()\n",
        "MyClass.static_method()"
      ],
      "metadata": {
        "colab": {
          "base_uri": "https://localhost:8080/"
        },
        "id": "JB1JmSG9B85T",
        "outputId": "2cae37c1-67db-4066-f964-5cb5a098b6a7"
      },
      "execution_count": 20,
      "outputs": [
        {
          "output_type": "stream",
          "name": "stdout",
          "text": [
            "instance method called <__main__.MyClass object at 0x7fdb04abdc00>\n",
            "class method called <class '__main__.MyClass'>\n",
            "static method called\n"
          ]
        }
      ]
    }
  ]
}
