{
  "nbformat": 4,
  "nbformat_minor": 0,
  "metadata": {
    "colab": {
      "provenance": []
    },
    "kernelspec": {
      "name": "python3",
      "display_name": "Python 3"
    },
    "language_info": {
      "name": "python"
    }
  },
  "cells": [
    {
      "cell_type": "markdown",
      "source": [
        "Maven Ski Shop is runng a special email campaign to give products away to lucky customers who make a purchase\n",
        "\n",
        "The company needs the following generated:\n",
        "\n",
        "- The first 10 even customers(starting with the company's 2nd customer) will receive a coffee mug\n",
        "\n",
        "- The first 10 odd customers(starting with the company's 1st customer) will receive keychains\n",
        "\n",
        "- Every seventh customer from the company's first 100 customers(starting with their 7th customer) will receive beanies"
      ],
      "metadata": {
        "id": "KdniBlF25zMe"
      }
    },
    {
      "cell_type": "markdown",
      "source": [
        "## <b>Even Customers</b>"
      ],
      "metadata": {
        "id": "OILeGxnV69a7"
      }
    },
    {
      "cell_type": "code",
      "execution_count": 5,
      "metadata": {
        "colab": {
          "base_uri": "https://localhost:8080/"
        },
        "id": "B55yEgI84_aC",
        "outputId": "909e9ee5-6b41-488e-e394-20fa286369a4"
      },
      "outputs": [
        {
          "output_type": "execute_result",
          "data": {
            "text/plain": [
              "range(2, 11, 2)"
            ]
          },
          "metadata": {},
          "execution_count": 5
        }
      ],
      "source": [
        "even_customers = range(2, 11, 2)\n",
        "\n",
        "even_customers"
      ]
    },
    {
      "cell_type": "code",
      "source": [
        "list(even_customers)"
      ],
      "metadata": {
        "colab": {
          "base_uri": "https://localhost:8080/"
        },
        "id": "w9yC5F2a5Qs_",
        "outputId": "222de79f-3d36-4332-efd2-c8a16ab37ae6"
      },
      "execution_count": 6,
      "outputs": [
        {
          "output_type": "execute_result",
          "data": {
            "text/plain": [
              "[2, 4, 6, 8, 10]"
            ]
          },
          "metadata": {},
          "execution_count": 6
        }
      ]
    },
    {
      "cell_type": "markdown",
      "source": [
        "## <b>Odd Customers</b>"
      ],
      "metadata": {
        "id": "ESpLDPGm7BiL"
      }
    },
    {
      "cell_type": "code",
      "source": [
        "odd_customers = range(1, 11, 2)\n",
        "\n",
        "odd_customers"
      ],
      "metadata": {
        "colab": {
          "base_uri": "https://localhost:8080/"
        },
        "id": "XZh6GKhY5UFZ",
        "outputId": "7a9fa06a-002c-4226-9829-eaf253c198ce"
      },
      "execution_count": 9,
      "outputs": [
        {
          "output_type": "execute_result",
          "data": {
            "text/plain": [
              "range(1, 11, 2)"
            ]
          },
          "metadata": {},
          "execution_count": 9
        }
      ]
    },
    {
      "cell_type": "code",
      "source": [
        "list(odd_customers)"
      ],
      "metadata": {
        "colab": {
          "base_uri": "https://localhost:8080/"
        },
        "id": "7wn8hTi-5en1",
        "outputId": "4785b1f7-e07f-4874-90b0-cc22b01c6c4a"
      },
      "execution_count": 10,
      "outputs": [
        {
          "output_type": "execute_result",
          "data": {
            "text/plain": [
              "[1, 3, 5, 7, 9]"
            ]
          },
          "metadata": {},
          "execution_count": 10
        }
      ]
    },
    {
      "cell_type": "markdown",
      "source": [
        "## <b>Every Seventh Customers</b>"
      ],
      "metadata": {
        "id": "us1Ztqby7DUl"
      }
    },
    {
      "cell_type": "code",
      "source": [
        "every_seventh_customer = range(7, 100, 7)\n",
        "\n",
        "every_seventh_customer"
      ],
      "metadata": {
        "colab": {
          "base_uri": "https://localhost:8080/"
        },
        "id": "FvKxYOrG5ft-",
        "outputId": "24df9b7e-35b4-4a33-e47e-788ac34f2200"
      },
      "execution_count": 11,
      "outputs": [
        {
          "output_type": "execute_result",
          "data": {
            "text/plain": [
              "range(7, 100, 7)"
            ]
          },
          "metadata": {},
          "execution_count": 11
        }
      ]
    },
    {
      "cell_type": "code",
      "source": [
        "list(every_seventh_customer)"
      ],
      "metadata": {
        "colab": {
          "base_uri": "https://localhost:8080/"
        },
        "id": "9pi_591N5vEC",
        "outputId": "0820cbc0-98f0-42fb-89b7-519edf334a69"
      },
      "execution_count": 12,
      "outputs": [
        {
          "output_type": "execute_result",
          "data": {
            "text/plain": [
              "[7, 14, 21, 28, 35, 42, 49, 56, 63, 70, 77, 84, 91, 98]"
            ]
          },
          "metadata": {},
          "execution_count": 12
        }
      ]
    }
  ]
}