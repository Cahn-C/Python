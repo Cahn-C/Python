{
  "nbformat": 4,
  "nbformat_minor": 0,
  "metadata": {
    "colab": {
      "provenance": []
    },
    "kernelspec": {
      "name": "python3",
      "display_name": "Python 3"
    },
    "language_info": {
      "name": "python"
    }
  },
  "cells": [
    {
      "cell_type": "markdown",
      "source": [
        "# <b>Chapter 1: Introduction to Python (Basics)</b>"
      ],
      "metadata": {
        "id": "NGIJEl3kzA1b"
      }
    },
    {
      "cell_type": "markdown",
      "source": [
        "![My Image](https://download.logo.wine/logo/Python_(programming_language)/Python_(programming_language)-Logo.wine.png)\n",
        "\n",
        "Python is a:\n",
        "\n",
        "- General purpose programming language\n",
        "- Interpreted, not compiled\n",
        "- Both dynamically typed and strongly typed\n",
        "- Supports multiple programming paradigms, object orientd, functional\n",
        "- Comes in 2 main versions in use today - 2.7 and 3.x"
      ],
      "metadata": {
        "id": "ACnlq3Qi271f"
      }
    },
    {
      "cell_type": "markdown",
      "source": [
        "## <b>Python's Interactive Console: The Interpreter</b>\n",
        "\n",
        "- The Python interpreter is a console that allows interactive development\n",
        "\n",
        "#### <b>Let's try it out</b>"
      ],
      "metadata": {
        "id": "pLHnRt-r7y30"
      }
    },
    {
      "cell_type": "code",
      "source": [
        "print(\"Hello World\") # As usual with any language we start with the print function"
      ],
      "metadata": {
        "id": "tgY1M6QS3XIu"
      },
      "execution_count": null,
      "outputs": []
    },
    {
      "cell_type": "code",
      "source": [
        "print(\"Hello my name is Chaanyah Laborde\")"
      ],
      "metadata": {
        "colab": {
          "base_uri": "https://localhost:8080/"
        },
        "id": "9iNKV-6N8W5P",
        "outputId": "c1bf1a56-1c97-4011-b063-4f8e3af8e032"
      },
      "execution_count": 42,
      "outputs": [
        {
          "output_type": "stream",
          "name": "stdout",
          "text": [
            "Hello my name is Chaanyah Laborde\n"
          ]
        }
      ]
    },
    {
      "cell_type": "markdown",
      "source": [],
      "metadata": {
        "id": "BSu73aEE-QuR"
      }
    },
    {
      "cell_type": "markdown",
      "source": [
        "# <b>Python Basics</b>\n",
        "\n",
        "- Basic data types\n",
        "- Variables and Scoping\n",
        "- Modules, Packages and the ```import``` statement\n",
        "- Operators\n",
        "\n",
        "<br>\n",
        "<br>\n",
        "\n",
        "<center><img src=\"https://upload.wikimedia.org/wikipedia/commons/thumb/c/c3/Python-logo-notext.svg/172px-Python-logo-notext.svg.png\"/></center>\n",
        "\n",
        "<br>\n",
        "<br>\n",
        "\n",
        "## <b>Strings</b>\n",
        "\n",
        "String are used in Python to record text information, such as name. Strings in Python are actually a sequence, which basically measn Python keeps track of every element in the string as a sequence. For example, Python understands the string \"Python\" to be a sequence of letters in a specific order. This means we will be able to use indexing to rab particular letters(like the first letter, or the last letter).\n",
        "\n",
        "<br>\n",
        "\n",
        "<center><img src=\"https://encrypted-tbn0.gstatic.com/images?q=tbn:ANd9GcSNNrs1wRyTBMmCf05LAdOyW1g7Zi2ov8w6rx9EW6D5YJk1uHuC6a0ueEWTdkQ0IJQWzwA&usqp=CAU\" /></center>\n",
        "\n",
        "<br>\n",
        "\n",
        "## <b>Creating a String</b>\n",
        "\n",
        "To create a string in Python you need to use either single quotes or double quotes. For example:"
      ],
      "metadata": {
        "id": "8n3Af7XW-es_"
      }
    },
    {
      "cell_type": "code",
      "source": [
        "# Single word\n",
        "print('Hello')\n",
        "\n",
        "print() # Used to have a line space between two sentences.\n",
        "\n",
        "# Single Sentence\n",
        "print('I am a Azure Data Engineer')"
      ],
      "metadata": {
        "id": "Q2hvCHND8ih7"
      },
      "execution_count": null,
      "outputs": []
    },
    {
      "cell_type": "code",
      "source": [
        "# Print using double quotations\n",
        "print(\"Chaanyah Laborde\")"
      ],
      "metadata": {
        "id": "mxB8QyGTEXOV"
      },
      "execution_count": null,
      "outputs": []
    },
    {
      "cell_type": "markdown",
      "source": [
        "# <b>Variables</b>\n",
        "\n",
        "Variables can be extremely useful in many cases, where you can call the variable instead of typing the sting everytime. This not only makes our code clean, but it also makes it less redundant. Example syntax to assign a value or expression to a variable,\n",
        "\n",
        "```variable_name = value or expression```\n",
        "\n",
        "<br>\n",
        "<br>\n",
        "\n",
        "<center><img src=\"https://www.datamentor.io/sites/tutorial2program/files/assign-value-to-variable.png\" /></center>"
      ],
      "metadata": {
        "id": "YjIW8ih1Efy5"
      }
    },
    {
      "cell_type": "markdown",
      "source": [
        "## <b>String Indexing</b>\n",
        "\n",
        "We know strings are a sequence, which means Python can use indexes to call parts of the sequence.\n",
        "\n",
        "<br>\n",
        "\n",
        "<center><img src=\"data:image/png;base64,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\" height=\"300\" width=\"500\"/></center>\n",
        "\n",
        "<br>\n",
        "\n",
        "In Python, we use brackets ```[]``` after an object to call its index. We should also note that indexing starts at 0 for Python."
      ],
      "metadata": {
        "id": "YSl3Zch4GkUP"
      }
    },
    {
      "cell_type": "code",
      "source": [
        "# Assing s as a string\n",
        "s = \"Hello World\""
      ],
      "metadata": {
        "id": "yMooz1VyEeWr"
      },
      "execution_count": null,
      "outputs": []
    },
    {
      "cell_type": "code",
      "source": [
        "print(s[0])"
      ],
      "metadata": {
        "id": "mbIOGrXVHlIh"
      },
      "execution_count": null,
      "outputs": []
    },
    {
      "cell_type": "code",
      "source": [
        "# Print the object\n",
        "print(s)\n",
        "\n",
        "print() # Line space\n",
        "\n",
        "# Show first element (in this case a letter or character)\n",
        "print(s[0])\n",
        "\n",
        "print() # Line space\n",
        "\n",
        "# Show the second element (also a letter or character)\n",
        "print(s[1])\n",
        "\n",
        "print() # Line space\n",
        "\n",
        "# Show the first letter \"l\" from the object\n",
        "print(s[2])\n",
        "\n",
        "print() # Line space\n",
        "\n",
        "# Show the letter \"d\" from the object\n",
        "print(s[10])"
      ],
      "metadata": {
        "id": "75qtT5USHl5C"
      },
      "execution_count": null,
      "outputs": []
    },
    {
      "cell_type": "markdown",
      "source": [
        "# <b>String Concatenation and Repetition</b>\n",
        "\n",
        "String Concatenation is a process to combine two strings. it is done using the ```+``` operator\n",
        "\n",
        "<br>\n",
        "\n",
        "<center><img src=\"https://media.geeksforgeeks.org/wp-content/uploads/20230915112055/StringConcatenation-(1)-(1).png\" width=\"450\"/></center>\n",
        "\n",
        "<br>\n",
        "\n",
        "String Repetition is a process of repeating a same string multiple times"
      ],
      "metadata": {
        "id": "iViLy1xcIde0"
      }
    },
    {
      "cell_type": "code",
      "source": [
        "# Concatenation (addition)\n",
        "\n",
        "s1 = \"Hello\"\n",
        "s2 = \"World\"\n",
        "\n",
        "print(s1 + ' ' + s2) # The single quotation marks creates space for the strings"
      ],
      "metadata": {
        "id": "SpSVmfwQIDbg"
      },
      "execution_count": null,
      "outputs": []
    },
    {
      "cell_type": "code",
      "source": [
        "# Repetition (multiplication)\n",
        "\n",
        "print(\"Hello_\" * 5)\n",
        "\n",
        "print()\n",
        "\n",
        "print(\"-\" * 10)"
      ],
      "metadata": {
        "id": "2FrzXiNuK3ni"
      },
      "execution_count": null,
      "outputs": []
    },
    {
      "cell_type": "code",
      "source": [
        "# Print Data 16 times\n",
        "\n",
        "print(\"Data \" * 16)"
      ],
      "metadata": {
        "id": "GEvsoVHCLL5F"
      },
      "execution_count": null,
      "outputs": []
    },
    {
      "cell_type": "code",
      "source": [
        "# or\n",
        "\n",
        "s3 = \"Data \"\n",
        "\n",
        "print(s3 * 16)"
      ],
      "metadata": {
        "id": "_S2Pt-tELacO"
      },
      "execution_count": null,
      "outputs": []
    },
    {
      "cell_type": "markdown",
      "source": [
        "# <b>String Slicing & Indexing</b>\n",
        "\n",
        "String Indexing is used to select the letter at a particlar index/position.\n",
        "\n",
        "<br>\n",
        "\n",
        "<center><img src=\"https://www.scientecheasy.com/wp-content/uploads/2023/01/python-string-slicing.png\" /></center>"
      ],
      "metadata": {
        "id": "HjU49nDlLlMe"
      }
    },
    {
      "cell_type": "code",
      "source": [
        "a = \"Chaanyah Laborde\"\n",
        "\n",
        "# Print sub strings\n",
        "print(a[1])   # This is indexing\n",
        "print(a[0:8]) # This is known as slicing\n",
        "print(a[9:16])\n",
        "print(a[-5])\n",
        "\n",
        "# Test substring membership\n",
        "print(\"C\" in a)"
      ],
      "metadata": {
        "id": "cYiJqCxhLgi_"
      },
      "execution_count": null,
      "outputs": []
    },
    {
      "cell_type": "markdown",
      "source": [
        "# <b>Basic Built-in String methods</b>\n",
        "\n",
        "Objects in Python usually have built-in methods. These methods are functions inside the object\n",
        "\n",
        "We call methods with a period and then the method name. Methods are in the form:\n",
        "\n",
        "```object.method(parameters)```\n",
        "\n",
        "Where parameters are extra arguments we can pass into the method."
      ],
      "metadata": {
        "id": "vKtYcIDOOb-s"
      }
    },
    {
      "cell_type": "code",
      "source": [
        "s = \"Hello World\"\n",
        "\n",
        "print(s.upper()) ## Converts all of the elements of the string to be UPPER cased\n",
        "print(s.lower()) ## Converts all of the elements of the string to be lower cased"
      ],
      "metadata": {
        "id": "DnTmgfL3Ne6e"
      },
      "execution_count": null,
      "outputs": []
    },
    {
      "cell_type": "code",
      "source": [
        "print(type(s))"
      ],
      "metadata": {
        "id": "EQmHO4phP575"
      },
      "execution_count": null,
      "outputs": []
    },
    {
      "cell_type": "markdown",
      "source": [
        "# <b>Print Formatting</b>\n",
        "\n",
        "We can use the ```.format()``` method to add formatted objects to printed string statements"
      ],
      "metadata": {
        "id": "iyCeepP0QBwJ"
      }
    },
    {
      "cell_type": "code",
      "source": [
        "name = \"Chaanyah\"\n",
        "age = 24\n",
        "married = False\n",
        "\n",
        "print(\"My name is %s, my age is %s, and it is %s that I am married\" % (name, age, married))\n",
        "print(\"My name is {}, my age is {}, and it is {} that I am married\".format(name, age, married))\n",
        "print(f\"My name is {name}, my age is {age}, and it is {married} that I am married\")"
      ],
      "metadata": {
        "id": "JbngJFgmP9FA"
      },
      "execution_count": null,
      "outputs": []
    },
    {
      "cell_type": "code",
      "source": [],
      "metadata": {
        "id": "xiFVEQx8Q05l"
      },
      "execution_count": null,
      "outputs": []
    }
  ]
}
