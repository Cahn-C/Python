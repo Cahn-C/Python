{
  "nbformat": 4,
  "nbformat_minor": 0,
  "metadata": {
    "colab": {
      "provenance": []
    },
    "kernelspec": {
      "name": "python3",
      "display_name": "Python 3"
    },
    "language_info": {
      "name": "python"
    }
  },
  "cells": [
    {
      "cell_type": "code",
      "source": [
        "# @markdown # <b>Tax Calculations<b>\n",
        "%%markdown\n",
        "\n",
        "# Tax Calculatoins"
      ],
      "metadata": {
        "cellView": "form",
        "id": "2PleZaz0M0e5"
      },
      "execution_count": null,
      "outputs": []
    },
    {
      "cell_type": "code",
      "source": [
        "price = 5\n",
        "tax = 2\n",
        "total = price + tax\n",
        "\n",
        "print(total)"
      ],
      "metadata": {
        "colab": {
          "base_uri": "https://localhost:8080/"
        },
        "id": "kaWm8c7hM52D",
        "outputId": "898bda9b-9094-4096-eec7-2c572e46d405"
      },
      "execution_count": 50,
      "outputs": [
        {
          "output_type": "stream",
          "name": "stdout",
          "text": [
            "7\n"
          ]
        }
      ]
    }
  ]
}