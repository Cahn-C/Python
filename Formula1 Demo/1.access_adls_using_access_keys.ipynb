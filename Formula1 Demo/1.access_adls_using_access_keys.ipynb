{
 "cells": [
  {
   "cell_type": "markdown",
   "metadata": {
    "application/vnd.databricks.v1+cell": {
     "cellMetadata": {},
     "inputWidgets": {},
     "nuid": "ed6cebdb-ee97-4a76-971b-6c42b4d54da5",
     "showTitle": false,
     "title": ""
    }
   },
   "source": [
    "\n",
    "## Access Azure Data Lake using access keys\n",
    "1. Set the spark config fs.azure.account.key\n",
    "1. List files from demo container\n",
    "1. Read data from circuits.csv file"
   ]
  },
  {
   "cell_type": "markdown",
   "metadata": {
    "application/vnd.databricks.v1+cell": {
     "cellMetadata": {},
     "inputWidgets": {},
     "nuid": "6a62f106-273f-4a31-be70-b066332e8f35",
     "showTitle": false,
     "title": ""
    }
   },
   "source": [
    "\n",
    "- Never a good a idea to keep your keys in plain text\n",
    "- The risks are uploading them into GitHub or some public domain and compromising the keys.\n",
    "\n",
    "<br>\n",
    "\n",
    "- In order for us to access the data in a data lake, we need to set the Spark configuration, fs.azure.account.key with the access of the storage account.\n",
    "- Then we will be able to access the data with the abfss driver."
   ]
  },
  {
   "cell_type": "code",
   "execution_count": 0,
   "metadata": {
    "application/vnd.databricks.v1+cell": {
     "cellMetadata": {
      "byteLimit": 2048000,
      "rowLimit": 10000
     },
     "inputWidgets": {},
     "nuid": "fb966679-251b-44d3-a688-e651b3a0be40",
     "showTitle": false,
     "title": ""
    }
   },
   "outputs": [],
   "source": [
    "# First part of the spark.conf.set configuration command -----> fs.azure.account.key\n",
    "# Second part of the spark.conf.set configuration command -----> endpoint name: storage_account_name.dfs.core.windows.net\n",
    "\n",
    "spark.conf.set(\"fs.azure.account.key.clabordeformula1dl.dfs.core.windows.net\",\n",
    "               \"LWOLfxCqyhhm5Bk7/slFjJSsRwYxGfwpVs2gS5APVrqyPp7mwFnpBeRk+0R8LDiIh+qmApvNw0L9+ASt1AIkKw==\")"
   ]
  },
  {
   "cell_type": "markdown",
   "metadata": {
    "application/vnd.databricks.v1+cell": {
     "cellMetadata": {},
     "inputWidgets": {},
     "nuid": "808ee386-2e2f-40cf-bedf-d68ef880d94a",
     "showTitle": false,
     "title": ""
    }
   },
   "source": [
    "\n",
    "- abfs(Azure Blob File System)\n",
    "- Use abfss to ensure TLS or Transport Level Security, the data will be encrypted while at transit.\n",
    "\n",
    "```abfss://container@storage_account_name.dfs.core.windows.net/folder_path/file_name```"
   ]
  },
  {
   "cell_type": "code",
   "execution_count": 0,
   "metadata": {
    "application/vnd.databricks.v1+cell": {
     "cellMetadata": {
      "byteLimit": 2048000,
      "rowLimit": 10000
     },
     "inputWidgets": {},
     "nuid": "33081247-b865-448d-aae1-077898b2b5a0",
     "showTitle": false,
     "title": ""
    }
   },
   "outputs": [
    {
     "output_type": "display_data",
     "data": {
      "text/html": [
       "<style scoped>\n",
       "  .table-result-container {\n",
       "    max-height: 300px;\n",
       "    overflow: auto;\n",
       "  }\n",
       "  table, th, td {\n",
       "    border: 1px solid black;\n",
       "    border-collapse: collapse;\n",
       "  }\n",
       "  th, td {\n",
       "    padding: 5px;\n",
       "  }\n",
       "  th {\n",
       "    text-align: left;\n",
       "  }\n",
       "</style><div class='table-result-container'><table class='table-result'><thead style='background-color: white'><tr><th>path</th><th>name</th><th>size</th><th>modificationTime</th></tr></thead><tbody><tr><td>abfss://demo@clabordeformula1dl.dfs.core.windows.net/circuits.csv</td><td>circuits.csv</td><td>10044</td><td>1700085137000</td></tr></tbody></table></div>"
      ]
     },
     "metadata": {
      "application/vnd.databricks.v1+output": {
       "addedWidgets": {},
       "aggData": [],
       "aggError": "",
       "aggOverflow": false,
       "aggSchema": [],
       "aggSeriesLimitReached": false,
       "aggType": "",
       "arguments": {},
       "columnCustomDisplayInfos": {},
       "data": [
        [
         "abfss://demo@clabordeformula1dl.dfs.core.windows.net/circuits.csv",
         "circuits.csv",
         10044,
         1700085137000
        ]
       ],
       "datasetInfos": [],
       "dbfsResultPath": null,
       "isJsonSchema": true,
       "metadata": {},
       "overflow": false,
       "plotOptions": {
        "customPlotOptions": {},
        "displayType": "table",
        "pivotAggregation": null,
        "pivotColumns": null,
        "xColumns": null,
        "yColumns": null
       },
       "removedWidgets": [],
       "schema": [
        {
         "metadata": "{}",
         "name": "path",
         "type": "\"string\""
        },
        {
         "metadata": "{}",
         "name": "name",
         "type": "\"string\""
        },
        {
         "metadata": "{}",
         "name": "size",
         "type": "\"long\""
        },
        {
         "metadata": "{}",
         "name": "modificationTime",
         "type": "\"long\""
        }
       ],
       "type": "table"
      }
     },
     "output_type": "display_data"
    }
   ],
   "source": [
    "# List the files in the demo container\n",
    "\n",
    "display(dbutils.fs.ls(\"abfss://demo@clabordeformula1dl.dfs.core.windows.net\"))"
   ]
  }
 ],
 "metadata": {
  "application/vnd.databricks.v1+notebook": {
   "dashboards": [],
   "language": "python",
   "notebookMetadata": {
    "pythonIndentUnit": 4
   },
   "notebookName": "1.access_adls_using_access_keys",
   "widgets": {}
  }
 },
 "nbformat": 4,
 "nbformat_minor": 0
}
