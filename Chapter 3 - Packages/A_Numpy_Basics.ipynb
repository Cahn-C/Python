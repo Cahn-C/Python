{
  "nbformat": 4,
  "nbformat_minor": 0,
  "metadata": {
    "colab": {
      "provenance": []
    },
    "kernelspec": {
      "name": "python3",
      "display_name": "Python 3"
    },
    "language_info": {
      "name": "python"
    }
  },
  "cells": [
    {
      "cell_type": "markdown",
      "source": [
        "# <b>Numpy Basics</b>\n",
        "\n",
        "## <center><img src = \"https://us-east-1-02900067-view.menlosecurity.com/c/0/i/aHR0cHM6Ly91cGxvYWQud2lraW1lZGlhLm9yZy93aWtpcGVkaWEvY29tbW9ucy90aHVtYi8zLzMxL051bVB5X2xvZ29fMjAyMC5zdmcvNzY4cHgtTnVtUHlfbG9nb18yMDIwLnN2Zy5wbmc~\"></center>\n",
        "\n",
        "NumPy, which stands for Numerical Python, is a library consisting of multidimensional array objects and a collect of routines for processing those arrays. Using NumPy, mathematical and logical operation on arrays can be performed.\n",
        "\n",
        "Installation syntax:\n",
        "\n",
        "    pip install numpy\n",
        "  \n",
        "- Main object: `ndarry`"
      ],
      "metadata": {
        "id": "X-9yB_cmdY_p"
      }
    },
    {
      "cell_type": "markdown",
      "source": [
        "## <b>ndarray</b>\n",
        "\n",
        "The most important object defined in NumPy is an N-dimensional array type called ndarray. It describes the collection of items of the same type. Items in the collection can be accessed using a zero-based index.\n",
        "\n",
        "Every item in an ndarray takes the same size of block in the memory. Each element in ndarray is an object of data-type object (called dtype) Any item  extracted from dnarry object(by slicing) is repersented by a Python object of one of the array scalar types.\n",
        "\n",
        "You import the function in python by calling `import numpy`. The basic ndarray is created using an array function in NumPy as follows"
      ],
      "metadata": {
        "id": "aIRsljfefBz-"
      }
    },
    {
      "cell_type": "code",
      "execution_count": 1,
      "metadata": {
        "colab": {
          "base_uri": "https://localhost:8080/"
        },
        "id": "pfDyFVnedVR1",
        "outputId": "f30cc852-715a-4e35-b053-e4db8d87ff22"
      },
      "outputs": [
        {
          "output_type": "execute_result",
          "data": {
            "text/plain": [
              "<function numpy.array>"
            ]
          },
          "metadata": {},
          "execution_count": 1
        }
      ],
      "source": [
        "import numpy\n",
        "numpy.array"
      ]
    },
    {
      "cell_type": "markdown",
      "source": [
        "## <b>How do I create Arrays in Python</b>\n",
        "\n",
        "- Create an array from a regular Python list or tuple using array function\n",
        "- The type of the resulting array is deduced from the type of the elements in the sequences"
      ],
      "metadata": {
        "id": "DiIYhJ6shYxn"
      }
    },
    {
      "cell_type": "markdown",
      "source": [
        "It creates an ndarray from any object exposing array interface, or from any method that returns an array."
      ],
      "metadata": {
        "id": "9ub3GN9giewx"
      }
    },
    {
      "cell_type": "code",
      "source": [
        "import numpy as np\n",
        "\n",
        "# From list: 1D array\n",
        "my_list = [10, 20, 30]\n",
        "np.array(my_list)"
      ],
      "metadata": {
        "colab": {
          "base_uri": "https://localhost:8080/"
        },
        "id": "FduOaC81hRfo",
        "outputId": "c74e9c34-bccc-46d9-d9be-a1309d948724"
      },
      "execution_count": 2,
      "outputs": [
        {
          "output_type": "execute_result",
          "data": {
            "text/plain": [
              "array([10, 20, 30])"
            ]
          },
          "metadata": {},
          "execution_count": 2
        }
      ]
    },
    {
      "cell_type": "code",
      "source": [
        "# From list: 2D array\n",
        "\n",
        "new_lists = [[2, 4, 6], [8, 10, 12], [14, 16, 18]]\n",
        "np.array(new_lists)"
      ],
      "metadata": {
        "colab": {
          "base_uri": "https://localhost:8080/"
        },
        "id": "wvfRawkGi7mP",
        "outputId": "db0149f0-e716-4f8d-84a2-66a3c40b2d2e"
      },
      "execution_count": 3,
      "outputs": [
        {
          "output_type": "execute_result",
          "data": {
            "text/plain": [
              "array([[ 2,  4,  6],\n",
              "       [ 8, 10, 12],\n",
              "       [14, 16, 18]])"
            ]
          },
          "metadata": {},
          "execution_count": 3
        }
      ]
    },
    {
      "cell_type": "code",
      "source": [
        "type(np.array(new_lists))"
      ],
      "metadata": {
        "colab": {
          "base_uri": "https://localhost:8080/"
        },
        "id": "7vaUstoejyGF",
        "outputId": "2e9fdedd-d114-4ba6-b57f-333f0aebdfa4"
      },
      "execution_count": 4,
      "outputs": [
        {
          "output_type": "execute_result",
          "data": {
            "text/plain": [
              "numpy.ndarray"
            ]
          },
          "metadata": {},
          "execution_count": 4
        }
      ]
    },
    {
      "cell_type": "code",
      "source": [
        "# From list: 3D array\n",
        "three_dimensional_list = [[1, 2, 3], [4, 5, 6],], [[7, 8, 9], [10, 11, 12]], [[13, 14, 15], [16, 17, 18]]\n",
        "np.array(three_dimensional_list)"
      ],
      "metadata": {
        "colab": {
          "base_uri": "https://localhost:8080/"
        },
        "id": "GZnk44CskAVr",
        "outputId": "408e9508-d1b4-466b-9862-1e82deb9bb37"
      },
      "execution_count": 5,
      "outputs": [
        {
          "output_type": "execute_result",
          "data": {
            "text/plain": [
              "array([[[ 1,  2,  3],\n",
              "        [ 4,  5,  6]],\n",
              "\n",
              "       [[ 7,  8,  9],\n",
              "        [10, 11, 12]],\n",
              "\n",
              "       [[13, 14, 15],\n",
              "        [16, 17, 18]]])"
            ]
          },
          "metadata": {},
          "execution_count": 5
        }
      ]
    },
    {
      "cell_type": "markdown",
      "source": [
        "`ndarray` is also known by the alias `array`. Note that `numpy.array` is not the same as the Standard Python Library class `array.array`, which only handles one-dimensional arrays and offers less functionality. The more important attributes of an `ndarray` object are:\n",
        "\n",
        "- <b><i>ndarray.shape</i></b> the dimensions of the array. This is a tuple of integers indicating the size of the array in each dimension. For a matrix with <i>n</i> rows and <i>m</i> columns, `shape` will be `(n, m)`. The length of the `shape` tuple is therefore the rank, or number of dimensions, `ndim`\n",
        "\n",
        "- <b><i>ndarray.dtype</i></b> an object describing the type of the elements in the array. One can create or specify dtype's using standard Python types. Additionally NumPy provides types of its own: `numpy.int32`, `numpy.int16` and `numpy.float64` are some examples.\n",
        "\n",
        "- <b><i>ndarray.reshape</i></b> Returns an array containing the same data with a new shape."
      ],
      "metadata": {
        "id": "C43-wULkhn8s"
      }
    },
    {
      "cell_type": "markdown",
      "source": [
        "## <b>numpy.dtype</b>\n",
        "\n",
        "The data type of dtype describes that kind of elements that are contained within the array.\n",
        "\n",
        "- <b>bool</b>: Boolean values\n",
        "- <b>int</b>: Integer values. Can be int16, int32, or int64\n",
        "- <b>float</b>: Floating point values. Can be float16, float32, or float64\n",
        "\n",
        "- <b>string</b>: Text can be a string or unicode(this distinction is greatly simplified in Python 3)"
      ],
      "metadata": {
        "id": "Xw1ubKkmjpl1"
      }
    },
    {
      "cell_type": "code",
      "source": [
        "my_list = [10, 20, 30]\n",
        "\n",
        "arr = np.array(my_list)\n",
        "\n",
        "print(type(arr))\n",
        "print(type(arr.dtype))\n",
        "print(type(arr.shape))\n",
        "print(arr.dtype)\n",
        "print(arr.shape)"
      ],
      "metadata": {
        "colab": {
          "base_uri": "https://localhost:8080/"
        },
        "id": "GsoEorajjn8N",
        "outputId": "a623ea79-bf72-40f9-e7ed-a807333dadcc"
      },
      "execution_count": 13,
      "outputs": [
        {
          "output_type": "stream",
          "name": "stdout",
          "text": [
            "<class 'numpy.ndarray'>\n",
            "<class 'numpy.dtype[int64]'>\n",
            "<class 'tuple'>\n",
            "int64\n",
            "(3,)\n"
          ]
        }
      ]
    },
    {
      "cell_type": "markdown",
      "source": [
        "# <b>NumPy Built-in methods</b>\n",
        "\n",
        "`arange`\n",
        "\n",
        "`arange([start], [step], [dtype])`: Returns an array with evenly spaced elements as per interval. The interval mentioned is half opened i.e <b>[Start], [Stop]</b> (similar to Python `range()` function)"
      ],
      "metadata": {
        "id": "MCzBL-Mpp1KQ"
      }
    },
    {
      "cell_type": "markdown",
      "source": [
        "## <b>`zeros` and `ones`</b>"
      ],
      "metadata": {
        "id": "Sx9jZOjGq-IT"
      }
    },
    {
      "cell_type": "markdown",
      "source": [
        "Generate arrays of all zeros and ones"
      ],
      "metadata": {
        "id": "gUpZxjq5rGOd"
      }
    },
    {
      "cell_type": "code",
      "source": [
        "np.zeros((2, 3))"
      ],
      "metadata": {
        "colab": {
          "base_uri": "https://localhost:8080/"
        },
        "id": "2F6I2TJVk1rf",
        "outputId": "52532601-6e36-44fb-8c91-bc797beeeed1"
      },
      "execution_count": 15,
      "outputs": [
        {
          "output_type": "execute_result",
          "data": {
            "text/plain": [
              "array([[0., 0., 0.],\n",
              "       [0., 0., 0.]])"
            ]
          },
          "metadata": {},
          "execution_count": 15
        }
      ]
    },
    {
      "cell_type": "code",
      "source": [
        "np.ones((2, 5))"
      ],
      "metadata": {
        "colab": {
          "base_uri": "https://localhost:8080/"
        },
        "id": "ENJH8HeVrMeP",
        "outputId": "5547b7ed-016e-4745-e85d-a2d8ada56068"
      },
      "execution_count": 16,
      "outputs": [
        {
          "output_type": "execute_result",
          "data": {
            "text/plain": [
              "array([[1., 1., 1., 1., 1.],\n",
              "       [1., 1., 1., 1., 1.]])"
            ]
          },
          "metadata": {},
          "execution_count": 16
        }
      ]
    },
    {
      "cell_type": "markdown",
      "source": [
        "## <b>`linspace`</b>"
      ],
      "metadata": {
        "id": "-OJcz5LzrYeJ"
      }
    },
    {
      "cell_type": "markdown",
      "source": [
        "Linespace: Return <b>evenly spaced</b> numbers over a specified interval.\n",
        "\n",
        "    linspace(start, stop, num=50, endpoint=True, retstep=False)\n",
        "\n",
        "- Will return `num` number of values\n",
        "- Equally spaced samples in the closed interval [start, stop] or the half-open interval [start, stop]\n",
        "- Closed or half-open interval depends on whether 'endpoint' is True or False"
      ],
      "metadata": {
        "id": "kS-aMmEorefW"
      }
    },
    {
      "cell_type": "code",
      "source": [
        "# Divide into 7 interval from 0 to 10\n",
        "np.linspace(0, 10, 7)"
      ],
      "metadata": {
        "colab": {
          "base_uri": "https://localhost:8080/"
        },
        "id": "YgTs5QVrrTv5",
        "outputId": "6d8eb0fd-7cc4-4abf-b2f7-2a3bdeecfe8c"
      },
      "execution_count": 18,
      "outputs": [
        {
          "output_type": "execute_result",
          "data": {
            "text/plain": [
              "array([ 0.        ,  1.66666667,  3.33333333,  5.        ,  6.66666667,\n",
              "        8.33333333, 10.        ])"
            ]
          },
          "metadata": {},
          "execution_count": 18
        }
      ]
    },
    {
      "cell_type": "markdown",
      "source": [
        "## <b>How to generate Random Numbers</b>"
      ],
      "metadata": {
        "id": "WpKyLbq109hn"
      }
    },
    {
      "cell_type": "markdown",
      "source": [
        "Numpy also has lots of ways to create random number arrays of given space\n",
        "- <b>`read`</b>:\n",
        "\n",
        "`numpy.random.rand(d0, d1, _, dn)` Creates an array of the given shape and populates it with random samples from a <b>uniform distribution</b>\n",
        "- <b>`randn`</b>:\n",
        "\n",
        "`numpy.random.randn(d0, d1, _, dn)` creates an array of specified shape and fills it with random values as per <b>standard normal distribution</b>\n",
        "\n",
        "If posistive arguments are provided, randn generates an array of shape(d0, d1, ....., dn), filled with random floats sampled from a univariate \"normal\"(Gaussian) distribution of mean 0 and variance 1 (if any of the d_i are floats, they are first converted to integers by trincation).\n",
        "\n",
        "A single float randomly sampled from the distribution is returned if no argument is provided.\n",
        "- `<b>randint</b>`:\n",
        "\n",
        "Return random integers from the \"discrete uniform\" distribution of the specified dtype in the \"half-open\" interval [low, high]. If high is None (the default), then results are from [0, low]."
      ],
      "metadata": {
        "id": "UbH7iNFV1Iaf"
      }
    },
    {
      "cell_type": "code",
      "source": [
        "# Random number (uniform distribution) array of shape (3, 4)\n",
        "\n",
        "np.random.rand(3, 4)"
      ],
      "metadata": {
        "colab": {
          "base_uri": "https://localhost:8080/"
        },
        "id": "J74Dd5DSsdcu",
        "outputId": "83a05548-842f-46c7-e3db-13b830fe453b"
      },
      "execution_count": 21,
      "outputs": [
        {
          "output_type": "execute_result",
          "data": {
            "text/plain": [
              "array([[0.38853259, 0.27589311, 0.78888341, 0.27100624],\n",
              "       [0.44844966, 0.37804905, 0.71825243, 0.18526264],\n",
              "       [0.05648509, 0.46936773, 0.31125796, 0.85707245]])"
            ]
          },
          "metadata": {},
          "execution_count": 21
        }
      ]
    },
    {
      "cell_type": "code",
      "source": [
        "# Random number (standard normal distribution) array of shape (2, 3)\n",
        "\n",
        "print(np.random.rand(3, 4))"
      ],
      "metadata": {
        "colab": {
          "base_uri": "https://localhost:8080/"
        },
        "id": "xD57MQ3d6FRg",
        "outputId": "34098cb9-ced8-4583-c985-43ee1a2132a0"
      },
      "execution_count": 22,
      "outputs": [
        {
          "output_type": "stream",
          "name": "stdout",
          "text": [
            "[[0.81565486 0.68357632 0.84635791 0.08291174]\n",
            " [0.56958565 0.7384221  0.8506535  0.54130385]\n",
            " [0.57811922 0.1989181  0.03385945 0.47937136]]\n"
          ]
        }
      ]
    },
    {
      "cell_type": "code",
      "source": [
        "# 10 random integers up to 50 (exclusive). This makes the start value default to 0.\n",
        "# The size parameter dictates the return array shape\n",
        "\n",
        "np.random.randint(50, size=(4,4))"
      ],
      "metadata": {
        "colab": {
          "base_uri": "https://localhost:8080/"
        },
        "id": "Qyrv83Vv6Ltb",
        "outputId": "a43e142e-e541-438b-f28c-f028521d29d1"
      },
      "execution_count": 24,
      "outputs": [
        {
          "output_type": "execute_result",
          "data": {
            "text/plain": [
              "array([[ 6, 11, 28,  1],\n",
              "       [17,  0, 34, 39],\n",
              "       [ 4, 26,  6, 19],\n",
              "       [ 5,  4, 41, 23]])"
            ]
          },
          "metadata": {},
          "execution_count": 24
        }
      ]
    }
  ]
}