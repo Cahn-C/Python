{
  "nbformat": 4,
  "nbformat_minor": 0,
  "metadata": {
    "colab": {
      "provenance": []
    },
    "kernelspec": {
      "name": "python3",
      "display_name": "Python 3"
    },
    "language_info": {
      "name": "python"
    }
  },
  "cells": [
    {
      "cell_type": "markdown",
      "source": [
        "# <b>Why Pandas?</b>\n",
        "\n",
        "- Intrinsic data alignment\n",
        "- Data standardization\n",
        "- Data operation\n",
        "- Functions for handling missing data\n",
        "- Data Structures handling major use cases"
      ],
      "metadata": {
        "id": "jJyYxJNO7ZlQ"
      }
    },
    {
      "cell_type": "markdown",
      "source": [
        "# <b>Features of Pandas</b>\n",
        "\n",
        "- Powerful data structure\n",
        "- Fast and effcient data wrangling\n",
        "- Easy data aggregation & transformation\n",
        "- Tools for reading/writing data\n",
        "- Intelligent and automated data alignment\n",
        "- High performance merging and joining of data sets"
      ],
      "metadata": {
        "id": "mEyN_nJH7012"
      }
    },
    {
      "cell_type": "markdown",
      "source": [
        "## <b>Pandas Series</b>\n",
        "\n",
        "- Very similar to a NumPy array.\n",
        "- What differentiates the NumPy array from a Series, is that a Series can have axis labels, meaning it can be indexed by a lebel, meaning it can be indexed by a label, instead of just a number location."
      ],
      "metadata": {
        "id": "MQDLsHPL8_Qg"
      }
    },
    {
      "cell_type": "markdown",
      "source": [
        "## <b>How to create a Series?</b>\n",
        "\n",
        "You can convert a list, numpy array, or dictionary to a Series. To create a series you call the function pd.Series()"
      ],
      "metadata": {
        "id": "4E_mSQ899fGg"
      }
    },
    {
      "cell_type": "code",
      "execution_count": 8,
      "metadata": {
        "id": "4Uprpo2B7VTT"
      },
      "outputs": [],
      "source": [
        "# Creating a pandas series from a list\n",
        "\n",
        "import pandas as pd"
      ]
    },
    {
      "cell_type": "code",
      "source": [
        "my_list = [10, 20, 30]"
      ],
      "metadata": {
        "id": "1QXU-YiL9z01"
      },
      "execution_count": 2,
      "outputs": []
    },
    {
      "cell_type": "code",
      "source": [
        "series = pd.Series(my_list)"
      ],
      "metadata": {
        "id": "lMeX6JT692Oe"
      },
      "execution_count": 3,
      "outputs": []
    },
    {
      "cell_type": "code",
      "source": [
        "print(series)"
      ],
      "metadata": {
        "colab": {
          "base_uri": "https://localhost:8080/"
        },
        "id": "lK6SS1q896EB",
        "outputId": "0a5d489b-2133-4644-dd82-71fb3dde75fa"
      },
      "execution_count": 4,
      "outputs": [
        {
          "output_type": "stream",
          "name": "stdout",
          "text": [
            "0    10\n",
            "1    20\n",
            "2    30\n",
            "dtype: int64\n"
          ]
        }
      ]
    },
    {
      "cell_type": "code",
      "source": [
        "print(series.index)"
      ],
      "metadata": {
        "colab": {
          "base_uri": "https://localhost:8080/"
        },
        "id": "zrTsLsWW99Ap",
        "outputId": "9921364e-c8e5-417d-ec2c-3ff397eaeb81"
      },
      "execution_count": 5,
      "outputs": [
        {
          "output_type": "stream",
          "name": "stdout",
          "text": [
            "RangeIndex(start=0, stop=3, step=1)\n"
          ]
        }
      ]
    },
    {
      "cell_type": "code",
      "source": [
        "print(series.values)"
      ],
      "metadata": {
        "colab": {
          "base_uri": "https://localhost:8080/"
        },
        "id": "bsZ_I3IP-BkR",
        "outputId": "784f3cc9-fa07-4494-d4ef-d3f34ac9fe27"
      },
      "execution_count": 6,
      "outputs": [
        {
          "output_type": "stream",
          "name": "stdout",
          "text": [
            "[10 20 30]\n"
          ]
        }
      ]
    },
    {
      "cell_type": "code",
      "source": [
        "# Creating a series from the numpy Array\n",
        "\n",
        "import pandas as pd\n",
        "import numpy as np\n",
        "\n",
        "index = ['a', 'b', 'c']\n",
        "arr = np.array([10, 20, 30])\n",
        "\n",
        "pd.Series(data=arr, index=index)"
      ],
      "metadata": {
        "colab": {
          "base_uri": "https://localhost:8080/"
        },
        "id": "C-Oz9QTN-Dqa",
        "outputId": "50144309-6cd5-424a-a725-eab2f365ecbc"
      },
      "execution_count": 11,
      "outputs": [
        {
          "output_type": "execute_result",
          "data": {
            "text/plain": [
              "a    10\n",
              "b    20\n",
              "c    30\n",
              "dtype: int64"
            ]
          },
          "metadata": {},
          "execution_count": 11
        }
      ]
    },
    {
      "cell_type": "code",
      "source": [
        "# Creating a series from dictionary\n",
        "\n",
        "d = {'a': 10, 'b': 20, 'c': 30}\n",
        "pd.Series(d)"
      ],
      "metadata": {
        "colab": {
          "base_uri": "https://localhost:8080/"
        },
        "id": "hQ0D64vq-0-e",
        "outputId": "027c6b7f-4826-482b-ea93-3a4f88caaff9"
      },
      "execution_count": 12,
      "outputs": [
        {
          "output_type": "execute_result",
          "data": {
            "text/plain": [
              "a    10\n",
              "b    20\n",
              "c    30\n",
              "dtype: int64"
            ]
          },
          "metadata": {},
          "execution_count": 12
        }
      ]
    },
    {
      "cell_type": "markdown",
      "source": [
        "## <b>Using Index in a Series</b>\n",
        "\n",
        "- The key to using a Series is understanding its index.\n",
        "- Pandas makes use of these index names or numbers by allowing for fast lookups of information (works like a hash table or dictionary)."
      ],
      "metadata": {
        "id": "BbHtdXGc_kFf"
      }
    },
    {
      "cell_type": "code",
      "source": [
        "# Custom index\n",
        "\n",
        "ser1 = pd.Series([1, 2, 3, 4], index=['USA', 'Germany', 'USSR', 'Japan'])\n",
        "ser2 = pd.Series([1, 2, 5, 4], index=['USA', 'Germany', 'Italy', 'Japan'])\n",
        "\n",
        "# Get the value of 'USA'\n",
        "print(ser1['USA'])"
      ],
      "metadata": {
        "colab": {
          "base_uri": "https://localhost:8080/"
        },
        "id": "mvdo3ENm_T8S",
        "outputId": "a2813073-a467-4c93-c4b3-157a4ad30a28"
      },
      "execution_count": 14,
      "outputs": [
        {
          "output_type": "stream",
          "name": "stdout",
          "text": [
            "1\n"
          ]
        }
      ]
    },
    {
      "cell_type": "code",
      "source": [
        "print(ser1)"
      ],
      "metadata": {
        "colab": {
          "base_uri": "https://localhost:8080/"
        },
        "id": "3nii9EzgAfrv",
        "outputId": "6ef6fc8d-bae7-4728-eaca-e72028074023"
      },
      "execution_count": 15,
      "outputs": [
        {
          "output_type": "stream",
          "name": "stdout",
          "text": [
            "USA        1\n",
            "Germany    2\n",
            "USSR       3\n",
            "Japan      4\n",
            "dtype: int64\n"
          ]
        }
      ]
    },
    {
      "cell_type": "code",
      "source": [
        "print(ser2)"
      ],
      "metadata": {
        "colab": {
          "base_uri": "https://localhost:8080/"
        },
        "id": "lpzn5el8AiyU",
        "outputId": "b911b5e1-c635-4fe3-dcc2-5f8a69a6f733"
      },
      "execution_count": 16,
      "outputs": [
        {
          "output_type": "stream",
          "name": "stdout",
          "text": [
            "USA        1\n",
            "Germany    2\n",
            "Italy      5\n",
            "Japan      4\n",
            "dtype: int64\n"
          ]
        }
      ]
    },
    {
      "cell_type": "code",
      "source": [
        "print(ser1 + ser2)"
      ],
      "metadata": {
        "colab": {
          "base_uri": "https://localhost:8080/"
        },
        "id": "dj7jFg45Aj0o",
        "outputId": "034b466e-fa0d-41be-8033-e47f1fc381a6"
      },
      "execution_count": 17,
      "outputs": [
        {
          "output_type": "stream",
          "name": "stdout",
          "text": [
            "Germany    4.0\n",
            "Italy      NaN\n",
            "Japan      8.0\n",
            "USA        2.0\n",
            "USSR       NaN\n",
            "dtype: float64\n"
          ]
        }
      ]
    },
    {
      "cell_type": "markdown",
      "source": [
        "## <b>What are DataFrames</b>\n",
        "\n",
        "DataFrames are a way to store data in rectangular grids that can easily be overviewed. Each row of these grids corresponds to measurements or values of an instance, while each column is a vector containing data for a specific variable. This means that a data frame's rows do not need to contain, but can contain, the same type of values: they can be numeric, character, logical, etc.\n",
        "\n",
        "Data frames in Python come within the Panadas data frame consists of three main components: the data, the index and the columns\n",
        "\n",
        "<b>Creating DataFrames manually</b>\n",
        "\n",
        "The function that you will use is the Pandas Dataframe() function: It requires you to pass the data that you want to put in, the indices and the columns."
      ],
      "metadata": {
        "id": "qlQbYCWfAwaB"
      }
    },
    {
      "cell_type": "code",
      "source": [
        "df = pd.DataFrame([[1, 2, 3], [3, 4, 5], [5, 6, 7], [7, 8, 9]])"
      ],
      "metadata": {
        "id": "Lg1P2HNiAvyF"
      },
      "execution_count": 18,
      "outputs": []
    },
    {
      "cell_type": "code",
      "source": [
        "print(df)"
      ],
      "metadata": {
        "colab": {
          "base_uri": "https://localhost:8080/"
        },
        "id": "P0uEyn-6ClKo",
        "outputId": "564f9d0f-f907-4fd7-c426-d0fc9d511a85"
      },
      "execution_count": 19,
      "outputs": [
        {
          "output_type": "stream",
          "name": "stdout",
          "text": [
            "   0  1  2\n",
            "0  1  2  3\n",
            "1  3  4  5\n",
            "2  5  6  7\n",
            "3  7  8  9\n"
          ]
        }
      ]
    },
    {
      "cell_type": "code",
      "source": [
        "df = pd.DataFrame([[1, 2, 3], [3, 4, 5], [5, 6, 7], [7, 8, 9]])"
      ],
      "metadata": {
        "id": "gi5IQ4-eCmPN"
      },
      "execution_count": 20,
      "outputs": []
    },
    {
      "cell_type": "code",
      "source": [
        "print(\"Shape:\", df.shape)\n",
        "print(\"Index:\", df.index)\n",
        "print(' ')\n",
        "print(df)"
      ],
      "metadata": {
        "colab": {
          "base_uri": "https://localhost:8080/"
        },
        "id": "J1jF3h8KDW3c",
        "outputId": "37565107-7ce5-4a6b-c42a-0faa295a2fca"
      },
      "execution_count": 23,
      "outputs": [
        {
          "output_type": "stream",
          "name": "stdout",
          "text": [
            "Shape: (4, 3)\n",
            "Index: RangeIndex(start=0, stop=4, step=1)\n",
            " \n",
            "   0  1  2\n",
            "0  1  2  3\n",
            "1  3  4  5\n",
            "2  5  6  7\n",
            "3  7  8  9\n"
          ]
        }
      ]
    },
    {
      "cell_type": "markdown",
      "source": [
        "### <b>Understanding the Index</b>\n",
        "\n",
        "Before you start with adding, deleting and renaming the components of your DataFrame, you first need to know how you can select these elements.\n",
        "\n",
        "This is where indexes come into play, just the way you can use an index page in a book to locate your chapters, you can use `loc()` or `iloc()` function in panadas to access data in particular columns of your DataFrame."
      ],
      "metadata": {
        "id": "l-nsEpWjDz4o"
      }
    },
    {
      "cell_type": "code",
      "source": [
        "df2 = pd.DataFrame([[1, 2, 3], [3, 4, 5], [5, 6, 7], [7, 8, 9]], index = ['a', 'b', 'c', 'd'], columns = ['x', 'y', 'z'])"
      ],
      "metadata": {
        "id": "fbGlaUyDDfQg"
      },
      "execution_count": 24,
      "outputs": []
    },
    {
      "cell_type": "code",
      "source": [
        "print(df2)"
      ],
      "metadata": {
        "colab": {
          "base_uri": "https://localhost:8080/"
        },
        "id": "95eqaFXlE8mo",
        "outputId": "559e4704-a0cb-460f-c6d5-95b87d0ee2cc"
      },
      "execution_count": 25,
      "outputs": [
        {
          "output_type": "stream",
          "name": "stdout",
          "text": [
            "   x  y  z\n",
            "a  1  2  3\n",
            "b  3  4  5\n",
            "c  5  6  7\n",
            "d  7  8  9\n"
          ]
        }
      ]
    }
  ]
}