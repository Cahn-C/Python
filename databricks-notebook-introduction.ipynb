{
 "cells": [
  {
   "cell_type": "markdown",
   "metadata": {
    "application/vnd.databricks.v1+cell": {
     "cellMetadata": {},
     "inputWidgets": {},
     "nuid": "6e946de8-8566-419e-85e6-d0ad5583be0c",
     "showTitle": false,
     "title": ""
    }
   },
   "source": [
    "\n",
    "# Notebook Introduction\n",
    "## UI Introduction\n",
    "## Magic Commands\n",
    "\n",
    "- %python\n",
    "- %scala\n",
    "- %r\n",
    "- %sql"
   ]
  },
  {
   "cell_type": "code",
   "execution_count": 0,
   "metadata": {
    "application/vnd.databricks.v1+cell": {
     "cellMetadata": {
      "byteLimit": 2048000,
      "rowLimit": 10000
     },
     "inputWidgets": {},
     "nuid": "44b77680-2618-45dc-bf08-52246628ee08",
     "showTitle": false,
     "title": ""
    }
   },
   "outputs": [
    {
     "output_type": "stream",
     "name": "stdout",
     "output_type": "stream",
     "text": [
      "Chaanyah Laborde\n"
     ]
    }
   ],
   "source": [
    "print(\"Chaanyah Laborde\")"
   ]
  },
  {
   "cell_type": "code",
   "execution_count": 0,
   "metadata": {
    "application/vnd.databricks.v1+cell": {
     "cellMetadata": {
      "byteLimit": 2048000,
      "rowLimit": 10000
     },
     "inputWidgets": {},
     "nuid": "5e158ce7-0e50-4708-b04c-5811ea0d38ea",
     "showTitle": false,
     "title": ""
    }
   },
   "outputs": [],
   "source": [
    "message = \"This is a message\""
   ]
  },
  {
   "cell_type": "code",
   "execution_count": 0,
   "metadata": {
    "application/vnd.databricks.v1+cell": {
     "cellMetadata": {
      "byteLimit": 2048000,
      "rowLimit": 10000
     },
     "inputWidgets": {},
     "nuid": "ce7cbaf8-ec98-46b1-9c91-2f8c675c5996",
     "showTitle": false,
     "title": ""
    }
   },
   "outputs": [
    {
     "output_type": "stream",
     "name": "stdout",
     "output_type": "stream",
     "text": [
      "This is a message\n"
     ]
    }
   ],
   "source": [
    "print(message)"
   ]
  },
  {
   "cell_type": "code",
   "execution_count": 0,
   "metadata": {
    "application/vnd.databricks.v1+cell": {
     "cellMetadata": {
      "byteLimit": 2048000,
      "implicitDf": true,
      "rowLimit": 10000
     },
     "inputWidgets": {},
     "nuid": "09980bc3-4557-4936-a6a6-8fb514bf9942",
     "showTitle": false,
     "title": ""
    }
   },
   "outputs": [
    {
     "output_type": "display_data",
     "data": {
      "text/html": [
       "<style scoped>\n",
       "  .table-result-container {\n",
       "    max-height: 300px;\n",
       "    overflow: auto;\n",
       "  }\n",
       "  table, th, td {\n",
       "    border: 1px solid black;\n",
       "    border-collapse: collapse;\n",
       "  }\n",
       "  th, td {\n",
       "    padding: 5px;\n",
       "  }\n",
       "  th {\n",
       "    text-align: left;\n",
       "  }\n",
       "</style><div class='table-result-container'><table class='table-result'><thead style='background-color: white'><tr><th>Chaanyah Laborde</th></tr></thead><tbody><tr><td>Chaanyah Laborde</td></tr></tbody></table></div>"
      ]
     },
     "metadata": {
      "application/vnd.databricks.v1+output": {
       "addedWidgets": {},
       "aggData": [],
       "aggError": "",
       "aggOverflow": false,
       "aggSchema": [],
       "aggSeriesLimitReached": false,
       "aggType": "",
       "arguments": {},
       "columnCustomDisplayInfos": {},
       "data": [
        [
         "Chaanyah Laborde"
        ]
       ],
       "datasetInfos": [],
       "dbfsResultPath": null,
       "isJsonSchema": true,
       "metadata": {
        "dataframeName": "_sqldf",
        "executionCount": 6
       },
       "overflow": false,
       "plotOptions": {
        "customPlotOptions": {},
        "displayType": "table",
        "pivotAggregation": null,
        "pivotColumns": null,
        "xColumns": null,
        "yColumns": null
       },
       "removedWidgets": [],
       "schema": [
        {
         "metadata": "{}",
         "name": "Chaanyah Laborde",
         "type": "\"string\""
        }
       ],
       "type": "table"
      }
     },
     "output_type": "display_data"
    }
   ],
   "source": [
    "%sql\n",
    "\n",
    "SELECT \"Chaanyah Laborde\""
   ]
  },
  {
   "cell_type": "code",
   "execution_count": 0,
   "metadata": {
    "application/vnd.databricks.v1+cell": {
     "cellMetadata": {
      "byteLimit": 2048000,
      "rowLimit": 10000
     },
     "inputWidgets": {},
     "nuid": "8794a21a-5d68-4dce-9ba3-a1584298f58f",
     "showTitle": false,
     "title": ""
    }
   },
   "outputs": [
    {
     "output_type": "display_data",
     "data": {
      "text/html": [
       "<style scoped>\n",
       "  .ansiout {\n",
       "    display: block;\n",
       "    unicode-bidi: embed;\n",
       "    white-space: pre-wrap;\n",
       "    word-wrap: break-word;\n",
       "    word-break: break-all;\n",
       "    font-family: \"Menlo\", \"Monaco\", \"Consolas\", \"Ubuntu Mono\", \"Source Code Pro\", monospace;\n",
       "    font-size: 13px;\n",
       "    color: #555;\n",
       "    margin-left: 4px;\n",
       "    line-height: 19px;\n",
       "  }\n",
       "</style>\n",
       "<div class=\"ansiout\">Chaanyahmsg: String = Chaanyah\n",
       "</div>"
      ]
     },
     "metadata": {
      "application/vnd.databricks.v1+output": {
       "addedWidgets": {},
       "arguments": {},
       "data": "<div class=\"ansiout\">Chaanyahmsg: String = Chaanyah\n</div>",
       "datasetInfos": [],
       "metadata": {
        "isDbfsCommandResult": false
       },
       "removedWidgets": [],
       "type": "html"
      }
     },
     "output_type": "display_data"
    }
   ],
   "source": [
    "%scala\n",
    "\n",
    "val msg = \"Chaanyah\"\n",
    "print(msg)"
   ]
  },
  {
   "cell_type": "code",
   "execution_count": 0,
   "metadata": {
    "application/vnd.databricks.v1+cell": {
     "cellMetadata": {
      "byteLimit": 2048000,
      "rowLimit": 10000
     },
     "inputWidgets": {},
     "nuid": "f85fa70b-0816-48e4-994b-b4a7a126f6cf",
     "showTitle": false,
     "title": ""
    }
   },
   "outputs": [
    {
     "output_type": "display_data",
     "data": {
      "text/html": [
       "<style scoped>\n",
       "  .table-result-container {\n",
       "    max-height: 300px;\n",
       "    overflow: auto;\n",
       "  }\n",
       "  table, th, td {\n",
       "    border: 1px solid black;\n",
       "    border-collapse: collapse;\n",
       "  }\n",
       "  th, td {\n",
       "    padding: 5px;\n",
       "  }\n",
       "  th {\n",
       "    text-align: left;\n",
       "  }\n",
       "</style><div class='table-result-container'><table class='table-result'><thead style='background-color: white'><tr><th>path</th><th>name</th><th>size</th><th>modificationTime</th></tr></thead><tbody><tr><td>dbfs:/Volume/</td><td>Volume/</td><td>0</td><td>0</td></tr><tr><td>dbfs:/Volumes/</td><td>Volumes/</td><td>0</td><td>0</td></tr><tr><td>dbfs:/databricks-datasets/</td><td>databricks-datasets/</td><td>0</td><td>0</td></tr><tr><td>dbfs:/databricks-results/</td><td>databricks-results/</td><td>0</td><td>0</td></tr><tr><td>dbfs:/volume/</td><td>volume/</td><td>0</td><td>0</td></tr><tr><td>dbfs:/volumes/</td><td>volumes/</td><td>0</td><td>0</td></tr></tbody></table></div>"
      ]
     },
     "metadata": {
      "application/vnd.databricks.v1+output": {
       "addedWidgets": {},
       "aggData": [],
       "aggError": "",
       "aggOverflow": false,
       "aggSchema": [],
       "aggSeriesLimitReached": false,
       "aggType": "",
       "arguments": {},
       "columnCustomDisplayInfos": {},
       "data": [
        [
         "dbfs:/Volume/",
         "Volume/",
         0,
         0
        ],
        [
         "dbfs:/Volumes/",
         "Volumes/",
         0,
         0
        ],
        [
         "dbfs:/databricks-datasets/",
         "databricks-datasets/",
         0,
         0
        ],
        [
         "dbfs:/databricks-results/",
         "databricks-results/",
         0,
         0
        ],
        [
         "dbfs:/volume/",
         "volume/",
         0,
         0
        ],
        [
         "dbfs:/volumes/",
         "volumes/",
         0,
         0
        ]
       ],
       "datasetInfos": [],
       "dbfsResultPath": null,
       "isJsonSchema": true,
       "metadata": {
        "isDbfsCommandResult": false
       },
       "overflow": false,
       "plotOptions": {
        "customPlotOptions": {},
        "displayType": "table",
        "pivotAggregation": null,
        "pivotColumns": null,
        "xColumns": null,
        "yColumns": null
       },
       "removedWidgets": [],
       "schema": [
        {
         "metadata": "{}",
         "name": "path",
         "type": "\"string\""
        },
        {
         "metadata": "{}",
         "name": "name",
         "type": "\"string\""
        },
        {
         "metadata": "{}",
         "name": "size",
         "type": "\"long\""
        },
        {
         "metadata": "{}",
         "name": "modificationTime",
         "type": "\"long\""
        }
       ],
       "type": "table"
      }
     },
     "output_type": "display_data"
    }
   ],
   "source": [
    "%fs\n",
    "\n",
    "ls"
   ]
  },
  {
   "cell_type": "code",
   "execution_count": 0,
   "metadata": {
    "application/vnd.databricks.v1+cell": {
     "cellMetadata": {
      "byteLimit": 2048000,
      "rowLimit": 10000
     },
     "inputWidgets": {},
     "nuid": "87667532-73ac-49e4-b6fe-f618bc374204",
     "showTitle": false,
     "title": ""
    }
   },
   "outputs": [
    {
     "output_type": "stream",
     "name": "stdout",
     "output_type": "stream",
     "text": [
      "UID          PID    PPID  C STIME TTY          TIME CMD\nroot           1       0  0 08:36 ?        00:00:00 /sbin/init\nroot          41       1  0 08:36 ?        00:00:00 /lib/systemd/systemd-journald\nsystemd+      59       1  0 08:36 ?        00:00:00 /lib/systemd/systemd-resolved\nroot          61       1  0 08:36 ?        00:00:00 /usr/sbin/cron -f -P\nmessage+      62       1  0 08:36 ?        00:00:00 @dbus-daemon --system --address=systemd: --nofork --nopidfile --systemd-activation --syslog-only\nroot          66       1  0 08:36 ?        00:00:00 /usr/bin/python3 /usr/bin/networkd-dispatcher --run-startup-triggers\nsyslog        68       1  0 08:36 ?        00:00:00 /usr/sbin/rsyslogd -n -iNONE\nroot          72       1  0 08:36 ?        00:00:00 /lib/systemd/systemd-logind\nroot          75       1  0 08:36 ?        00:00:00 sshd: /usr/sbin/sshd -D [listener] 0 of 10-100 startups\nroot          79       1  0 08:36 pts/0    00:00:00 /sbin/agetty -o -p -- \\u --noclear --keep-baud console 115200,38400,9600 vt220\nroot          83       1  0 08:36 ?        00:00:00 /usr/bin/python3 /usr/share/unattended-upgrades/unattended-upgrade-shutdown --wait-for-signal\nroot          86       1  0 08:36 ?        00:00:00 /usr/bin/monit -c /etc/monit/monitrc\nroot         151       1  0 08:36 ?        00:00:00 /bin/bash /databricks/spark/scripts/fuse/start_wsfs.sh\nroot         159     151  0 08:36 ?        00:00:00 /databricks/spark/scripts/fuse/wsfs /Workspace\nroot         160       1  0 08:36 ?        00:00:00 /bin/bash /databricks/spark/scripts/fuse/start_ucfuse.sh\nroot         180     160  0 08:36 ?        00:00:00 /databricks/spark/scripts/fuse/goofys-dbr -f -o allow_other --unity_catalog --file-mode=0777 --dir-mode=0777 --type-cache-ttl 0 --stat-cache-ttl 1s --http-timeout 120s --uid 65534 --gid 65534 /: /Volumes\nroot         181       1  0 08:36 ?        00:00:00 /databricks/spark/scripts/fuse/goofys-dbr -f -o allow_other -o bg --file-mode=0777 --dir-mode=0777 --type-cache-ttl 0 --stat-cache-ttl 1s --http-timeout 120s --uid 65534 --gid 65534 /: /dbfs\nroot         346       1 17 08:36 ?        00:01:05 java -Dlog4j2.formatMsgNoLookups=true -XX:-UseContainerSupport -XX:+PrintFlagsFinal -XX:+PrintGCDetails -XX:+PrintGCDateStamps -verbose:gc -XX:+HeapDumpOnOutOfMemoryError -XX:HeapDumpPath=logs -XX:-OmitStackTraceInFastThrow -Xms1024m -Xmx1024m -Ddatabricks.serviceName=chauffeur-1 -cp /databricks/spark/dbconf/log4j/chauffeur:/databricks/chauffeur-jars/* com.databricks.spark.chauffeur.ChauffeurDaemon\nroot         432     346  0 08:36 ?        00:00:00 bash /databricks/spark/scripts/start_driver.sh /tmp/driver-env.sh\nroot         496     432 53 08:36 ?        00:03:16 /usr/lib/jvm/zulu8-ca-amd64/jre//bin/java -verbose:gc -Xloggc:/dev/stdout -verbose:class -XX:+UnlockDiagnosticVMOptions -XX:+LogVMOutput -XX:-DisplayVMOutput -XX:LogFile=/databricks/databricks_vm_pipe -Ddatabricks.vmLog.pipe=/databricks/databricks_vm_pipe -Djava.io.tmpdir=/local_disk0/tmp -XX:-OmitStackTraceInFastThrow -Djava.security.properties=/databricks/spark/dbconf/java/extra.security -XX:-UseContainerSupport -XX:+PrintFlagsFinal -XX:+PrintGCDateStamps -XX:+PrintGCDetails -verbose:gc -Xss4m -Djava.library.path=/usr/java/packages/lib/amd64:/usr/lib64:/lib64:/lib:/usr/lib:/usr/lib/x86_64-linux-gnu/jni:/lib/x86_64-linux-gnu:/usr/lib/x86_64-linux-gnu:/usr/lib/jni -Djavax.xml.datatype.DatatypeFactory=com.sun.org.apache.xerces.internal.jaxp.datatype.DatatypeFactoryImpl -Djavax.xml.parsers.DocumentBuilderFactory=com.sun.org.apache.xerces.internal.jaxp.DocumentBuilderFactoryImpl -Djavax.xml.parsers.SAXParserFactory=com.sun.org.apache.xerces.internal.jaxp.SAXParserFactoryImpl -Djavax.xml.validation.SchemaFactory:http://www.w3.org/2001/XMLSchema=com.sun.org.apache.xerces.internal.jaxp.validation.XMLSchemaFactory -Dorg.xml.sax.driver=com.sun.org.apache.xerces.internal.parsers.SAXParser -Dorg.w3c.dom.DOMImplementationSourceList=com.sun.org.apache.xerces.internal.dom.DOMXSImplementationSourceImpl -Djavax.net.ssl.sessionCacheSize=10000 -Dscala.reflect.runtime.disable.typetag.cache=true -Dcom.google.cloud.spark.bigquery.repackaged.io.netty.tryReflectionSetAccessible=true -Dio.netty.tryReflectionSetAccessible=true -Dlog4j2.formatMsgNoLookups=true -Ddatabricks.serviceName=driver-1 -Xms6260m -Xmx6260m -Dspark.ui.port=40001 -Dspark.executor.extraJavaOptions=-Djava.io.tmpdir=/local_disk0/tmp -XX:ReservedCodeCacheSize=512m -XX:+UseCodeCacheFlushing -XX:PerMethodRecompilationCutoff=-1 -XX:PerBytecodeRecompilationCutoff=-1 -Djava.security.properties=/databricks/spark/dbconf/java/extra.security -XX:-UseContainerSupport -XX:+PrintFlagsFinal -XX:+PrintGCDateStamps -XX:+PrintGCDetails -verbose:gc -Xss4m -Djava.library.path=/usr/java/packages/lib/amd64:/usr/lib64:/lib64:/lib:/usr/lib:/usr/lib/x86_64-linux-gnu/jni:/lib/x86_64-linux-gnu:/usr/lib/x86_64-linux-gnu:/usr/lib/jni -Djavax.xml.datatype.DatatypeFactory=com.sun.org.apache.xerces.internal.jaxp.datatype.DatatypeFactoryImpl -Djavax.xml.parsers.DocumentBuilderFactory=com.sun.org.apache.xerces.internal.jaxp.DocumentBuilderFactoryImpl -Djavax.xml.parsers.SAXParserFactory=com.sun.org.apache.xerces.internal.jaxp.SAXParserFactoryImpl -Djavax.xml.validation.SchemaFactory:http://www.w3.org/2001/XMLSchema=com.sun.org.apache.xerces.internal.jaxp.validation.XMLSchemaFactory -Dorg.xml.sax.driver=com.sun.org.apache.xerces.internal.parsers.SAXParser -Dorg.w3c.dom.DOMImplementationSourceList=com.sun.org.apache.xerces.internal.dom.DOMXSImplementationSourceImpl -Djavax.net.ssl.sessionCacheSize=10000 -Dscala.reflect.runtime.disable.typetag.cache=true -Dcom.google.cloud.spark.bigquery.repackaged.io.netty.tryReflectionSetAccessible=true -Dio.netty.tryReflectionSetAccessible=true -Dlog4j2.formatMsgNoLookups=true -verbose:gc -Xloggc:/dev/stdout -verbose:class -XX:+UnlockDiagnosticVMOptions -XX:+LogVMOutput -XX:-DisplayVMOutput -XX:LogFile=/databricks/databricks_vm_pipe -Ddatabricks.vmLog.pipe=/databricks/databricks_vm_pipe -Ddatabricks.serviceName=spark-executor-1 -Dspark.executor.memory=1821m -Dspark.executor.extraClassPath=/databricks/spark/dbconf/log4j/executor:/databricks/spark/dbconf/jets3t/:/databricks/spark/dbconf/hadoop:/databricks/hive/conf:/databricks/jars/* -cp /databricks/spark/dbconf/jets3t/:/databricks/spark/dbconf/log4j/driver:/databricks/hive/conf:/databricks/spark/dbconf/hadoop:/databricks/jars/* com.databricks.backend.daemon.driver.DriverDaemon\nroot         682       1  0 08:37 ?        00:00:00 /databricks/spark/scripts/ttyd/ttyd -p 7681 -d 7 -P 30 -t disableReconnect=true -t disableLeaveAlert=true -f /tmp/wsfsttyd bash /databricks/spark/scripts/ttyd/set_wsfs_credentials.sh\nroot         871     496  0 08:37 ?        00:00:00 /bin/bash /local_disk0/tmp/_startR.sh2423270746847463998resource.r /local_disk0/tmp/_rServeScript.r950739741380779786resource.r 1100 None\nroot         876     871  0 08:37 ?        00:00:00 /usr/lib/R/bin/exec/R --slave --no-restore -f /local_disk0/tmp/_rServeScript.r950739741380779786resource.r --args 1100\nroot         914     496  3 08:37 ?        00:00:09 /local_disk0/.ephemeral_nfs/envs/pythonEnv-a06a722b-d0d1-443e-b3a1-051c67408d22/bin/python /databricks/python_shell/scripts/db_ipykernel_launcher.py -f /databricks/kernel-connections/b845f1e04c36ab407055af2a93d7f1c5708211b87d98bff0269b19fa5b01ed3d.json\nroot         921     876  0 08:37 ?        00:00:00 /usr/lib/R/bin/exec/R --slave --no-restore -f /local_disk0/tmp/_rServeScript.r950739741380779786resource.r --args 1100\nroot        1445     914  0 08:42 ?        00:00:03 /databricks/python3/bin/python /databricks/python3/bin/pylsp --log-file /tmp/python_lsp_logs/9974d289-240b575ffc3b03d6d9ed0707_914.log\nroot        1572     496  0 08:43 ?        00:00:00 /bin/bash /local_disk0/tmp/_startR.sh6320757932781558502resource.r /local_disk0/tmp/_rServeScript.r8046632178735158025resource.r 1101 None\nroot        1578    1572  0 08:43 ?        00:00:00 /usr/lib/R/bin/exec/R --slave --no-restore -f /local_disk0/tmp/_rServeScript.r8046632178735158025resource.r --args 1101\nroot        1601    1578  0 08:43 ?        00:00:00 /usr/lib/R/bin/exec/R --slave --no-restore -f /local_disk0/tmp/_rServeScript.r8046632178735158025resource.r --args 1101\nroot        2143      86  0 08:47 ?        00:00:00 [check_dbfs_fuse] <defunct>\nroot        2220     914  0 08:47 ?        00:00:00 bash\nroot        2222    2220  0 08:47 ?        00:00:00 ps -ef\n"
     ]
    }
   ],
   "source": [
    "%sh\n",
    "\n",
    "ps -ef"
   ]
  }
 ],
 "metadata": {
  "application/vnd.databricks.v1+notebook": {
   "dashboards": [],
   "language": "python",
   "notebookMetadata": {
    "mostRecentlyExecutedCommandWithImplicitDF": {
     "commandId": 63658051397804,
     "dataframes": [
      "_sqldf"
     ]
    },
    "pythonIndentUnit": 4
   },
   "notebookName": "databricks-notebook-introduction",
   "widgets": {}
  }
 },
 "nbformat": 4,
 "nbformat_minor": 0
}
